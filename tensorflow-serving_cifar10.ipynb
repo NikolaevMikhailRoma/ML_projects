{
 "cells": [
  {
   "cell_type": "markdown",
   "id": "e41180d2",
   "metadata": {},
   "source": [
    "# Практикум с tensorflow serfing. Данный пример создан для локальной машины.\n",
    "Как запустить это с колаба - https://colab.research.google.com/drive/1a6Azpl_rg4hEvBDZ21sftTEovkyUfjxB?usp=sharing"
   ]
  },
  {
   "cell_type": "code",
   "execution_count": 1,
   "id": "0a8c2ad3",
   "metadata": {},
   "outputs": [],
   "source": [
    "MODEL_DIR = './content/tmp'                             # Путь к директории для хранения моделей"
   ]
  },
  {
   "cell_type": "code",
   "execution_count": 24,
   "id": "dd83e910",
   "metadata": {},
   "outputs": [],
   "source": [
    "import tensorflow as tf                                     # Библиотека tensorflow\n",
    "import tensorflow as tf\n",
    "from tensorflow.keras import datasets, layers, models\n",
    "\n",
    "import numpy as np                                          # Работа с массивами\n",
    "import matplotlib.pyplot as plt                             # Отрисовка изображений\n",
    "import os                                                   # Модуль для работы с операционной системой\n",
    "import random    "
   ]
  },
  {
   "cell_type": "code",
   "execution_count": 25,
   "id": "20bd00db",
   "metadata": {},
   "outputs": [],
   "source": [
    "(train_images, train_labels), (test_images, test_labels) = datasets.cifar10.load_data()"
   ]
  },
  {
   "cell_type": "code",
   "execution_count": 26,
   "id": "0aef2ee7",
   "metadata": {},
   "outputs": [],
   "source": [
    "# Нормализация данных\n",
    "train_images, test_images = train_images / 255.0, test_images / 255.0"
   ]
  },
  {
   "cell_type": "markdown",
   "id": "3667b3c5",
   "metadata": {},
   "source": [
    "# Создаем и обучаем нейронную сеть для классификации изображений из базы CIFAR10. Сохраняем модель в формате SavedModel.\n",
    "на качество предсказания не обращаем внимание, задача не в этом"
   ]
  },
  {
   "cell_type": "code",
   "execution_count": 27,
   "id": "99cac801",
   "metadata": {},
   "outputs": [
    {
     "name": "stderr",
     "output_type": "stream",
     "text": [
      "2023-03-11 19:43:42.608153: E tensorflow/compiler/xla/stream_executor/cuda/cuda_driver.cc:267] failed call to cuInit: CUDA_ERROR_NO_DEVICE: no CUDA-capable device is detected\n",
      "2023-03-11 19:43:42.608190: I tensorflow/compiler/xla/stream_executor/cuda/cuda_diagnostics.cc:156] kernel driver does not appear to be running on this host (fedora): /proc/driver/nvidia/version does not exist\n",
      "2023-03-11 19:43:42.608787: I tensorflow/core/platform/cpu_feature_guard.cc:193] This TensorFlow binary is optimized with oneAPI Deep Neural Network Library (oneDNN) to use the following CPU instructions in performance-critical operations:  AVX2 FMA\n",
      "To enable them in other operations, rebuild TensorFlow with the appropriate compiler flags.\n"
     ]
    }
   ],
   "source": [
    "# Определение нейронной сети\n",
    "model = models.Sequential([\n",
    "    layers.Conv2D(32, (3, 3), activation='relu', input_shape=(32, 32, 3)),\n",
    "    layers.MaxPooling2D((2, 2)),\n",
    "    layers.Conv2D(64, (3, 3), activation='relu'),\n",
    "    layers.MaxPooling2D((2, 2)),\n",
    "    layers.Conv2D(64, (3, 3), activation='relu'),\n",
    "    layers.Flatten(),\n",
    "    layers.Dense(64, activation='relu'),\n",
    "    layers.Dense(10)\n",
    "])"
   ]
  },
  {
   "cell_type": "code",
   "execution_count": 30,
   "id": "b07f266e",
   "metadata": {},
   "outputs": [
    {
     "name": "stdout",
     "output_type": "stream",
     "text": [
      "Epoch 1/2\n"
     ]
    },
    {
     "name": "stderr",
     "output_type": "stream",
     "text": [
      "2023-03-11 19:44:55.900755: W tensorflow/tsl/framework/cpu_allocator_impl.cc:82] Allocation of 614400000 exceeds 10% of free system memory.\n"
     ]
    },
    {
     "name": "stdout",
     "output_type": "stream",
     "text": [
      "1560/1563 [============================>.] - ETA: 0s - loss: 1.5180 - accuracy: 0.4457"
     ]
    },
    {
     "name": "stderr",
     "output_type": "stream",
     "text": [
      "2023-03-11 19:45:13.743983: W tensorflow/tsl/framework/cpu_allocator_impl.cc:82] Allocation of 122880000 exceeds 10% of free system memory.\n"
     ]
    },
    {
     "name": "stdout",
     "output_type": "stream",
     "text": [
      "1563/1563 [==============================] - 19s 11ms/step - loss: 1.5176 - accuracy: 0.4458 - val_loss: 1.2188 - val_accuracy: 0.5623\n",
      "Epoch 2/2\n",
      "1563/1563 [==============================] - 17s 11ms/step - loss: 1.1493 - accuracy: 0.5943 - val_loss: 1.0962 - val_accuracy: 0.6176\n"
     ]
    }
   ],
   "source": [
    "model.compile(optimizer='adam',\n",
    "              loss=tf.keras.losses.SparseCategoricalCrossentropy(from_logits=True),\n",
    "              metrics=['accuracy'])\n",
    "# Обучение модели\n",
    "history = model.fit(train_images, train_labels, epochs=2, \n",
    "                    validation_data=(test_images, test_labels))\n"
   ]
  },
  {
   "cell_type": "markdown",
   "id": "bd1c7224",
   "metadata": {},
   "source": [
    "# Сохраняем модель и примеры для предстазания"
   ]
  },
  {
   "cell_type": "markdown",
   "id": "91704f31",
   "metadata": {},
   "source": [
    "## Сохранение модели"
   ]
  },
  {
   "cell_type": "code",
   "execution_count": null,
   "id": "befc2b04",
   "metadata": {},
   "outputs": [],
   "source": [
    "version = 1                                            # Номер версии модели\n",
    "export_path = os.path.join(MODEL_DIR, str(version))    # Путь к директории для хранения модели с заданной версией\n",
    "print('Путь для экспорта: {}'.format(export_path))\n",
    "# Сохранение модели в формате SavedModel\n",
    "tf.keras.models.save_model(model,                   # Передаем модель, которую нужно сохранить\n",
    "                           export_path,             # Путь для сохранения\n",
    "                           overwrite=True,          # Аргумент, отвечающий за перезапись модели по указанному пути\n",
    "                           include_optimizer=True,  # Также сохраняем состояние оптимизатора модели (это может понадобится, например, для дообучения модели внутри TensorFlow Serving)\n",
    "                           save_format=None,        # Аргумент, указывающий следует ли сохранять модель в SavedModel или HDF5 (по умолчанию это SavedModel)\n",
    "                           signatures=None,         # Настройка того как передаются данные в модель и что модель возвращает (в случае None применяется стандартная сигнатура: один вход и один выход у модели)\n",
    "                           options=None)            # Дополнительные параметры для сохранения в SavedModel"
   ]
  },
  {
   "cell_type": "code",
   "execution_count": 114,
   "id": "0d7904c8",
   "metadata": {},
   "outputs": [
    {
     "name": "stdout",
     "output_type": "stream",
     "text": [
      "2023-03-11 20:45:07.010104: I tensorflow/core/platform/cpu_feature_guard.cc:193] This TensorFlow binary is optimized with oneAPI Deep Neural Network Library (oneDNN) to use the following CPU instructions in performance-critical operations:  AVX2 FMA\n",
      "To enable them in other operations, rebuild TensorFlow with the appropriate compiler flags.\n",
      "2023-03-11 20:45:07.100137: W tensorflow/compiler/xla/stream_executor/platform/default/dso_loader.cc:64] Could not load dynamic library 'libcudart.so.11.0'; dlerror: libcudart.so.11.0: cannot open shared object file: No such file or directory\n",
      "2023-03-11 20:45:07.100159: I tensorflow/compiler/xla/stream_executor/cuda/cudart_stub.cc:29] Ignore above cudart dlerror if you do not have a GPU set up on your machine.\n",
      "2023-03-11 20:45:07.723106: W tensorflow/compiler/xla/stream_executor/platform/default/dso_loader.cc:64] Could not load dynamic library 'libnvinfer.so.7'; dlerror: libnvinfer.so.7: cannot open shared object file: No such file or directory\n",
      "2023-03-11 20:45:07.723161: W tensorflow/compiler/xla/stream_executor/platform/default/dso_loader.cc:64] Could not load dynamic library 'libnvinfer_plugin.so.7'; dlerror: libnvinfer_plugin.so.7: cannot open shared object file: No such file or directory\n",
      "2023-03-11 20:45:07.723170: W tensorflow/compiler/tf2tensorrt/utils/py_utils.cc:38] TF-TRT Warning: Cannot dlopen some TensorRT libraries. If you would like to use Nvidia GPU with TensorRT, please make sure the missing libraries mentioned above are installed properly.\n",
      "\n",
      "MetaGraphDef with tag-set: 'serve' contains the following SignatureDefs:\n",
      "\n",
      "signature_def['__saved_model_init_op']:\n",
      "  The given SavedModel SignatureDef contains the following input(s):\n",
      "  The given SavedModel SignatureDef contains the following output(s):\n",
      "    outputs['__saved_model_init_op'] tensor_info:\n",
      "        dtype: DT_INVALID\n",
      "        shape: unknown_rank\n",
      "        name: NoOp\n",
      "  Method name is: \n",
      "\n",
      "signature_def['serving_default']:\n",
      "  The given SavedModel SignatureDef contains the following input(s):\n",
      "    inputs['conv2d_input'] tensor_info:\n",
      "        dtype: DT_FLOAT\n",
      "        shape: (-1, 32, 32, 3)\n",
      "        name: serving_default_conv2d_input:0\n",
      "  The given SavedModel SignatureDef contains the following output(s):\n",
      "    outputs['dense_1'] tensor_info:\n",
      "        dtype: DT_FLOAT\n",
      "        shape: (-1, 10)\n",
      "        name: StatefulPartitionedCall:0\n",
      "  Method name is: tensorflow/serving/predict\n",
      "2023-03-11 20:45:10.605537: E tensorflow/compiler/xla/stream_executor/cuda/cuda_driver.cc:267] failed call to cuInit: CUDA_ERROR_NO_DEVICE: no CUDA-capable device is detected\n",
      "2023-03-11 20:45:10.605565: I tensorflow/compiler/xla/stream_executor/cuda/cuda_diagnostics.cc:156] kernel driver does not appear to be running on this host (fedora): /proc/driver/nvidia/version does not exist\n",
      "2023-03-11 20:45:10.635447: I tensorflow/core/platform/cpu_feature_guard.cc:193] This TensorFlow binary is optimized with oneAPI Deep Neural Network Library (oneDNN) to use the following CPU instructions in performance-critical operations:  AVX2 FMA\n",
      "To enable them in other operations, rebuild TensorFlow with the appropriate compiler flags.\n",
      "\n",
      "Concrete Functions:\n",
      "  Function Name: '__call__'\n",
      "    Option #1\n",
      "      Callable with:\n",
      "        Argument #1\n",
      "          conv2d_input: TensorSpec(shape=(None, 32, 32, 3), dtype=tf.float32, name='conv2d_input')\n",
      "        Argument #2\n",
      "          DType: bool\n",
      "          Value: True\n",
      "        Argument #3\n",
      "          DType: NoneType\n",
      "          Value: None\n",
      "    Option #2\n",
      "      Callable with:\n",
      "        Argument #1\n",
      "          inputs: TensorSpec(shape=(None, 32, 32, 3), dtype=tf.float32, name='inputs')\n",
      "        Argument #2\n",
      "          DType: bool\n",
      "          Value: True\n",
      "        Argument #3\n",
      "          DType: NoneType\n",
      "          Value: None\n",
      "    Option #3\n",
      "      Callable with:\n",
      "        Argument #1\n",
      "          conv2d_input: TensorSpec(shape=(None, 32, 32, 3), dtype=tf.float32, name='conv2d_input')\n",
      "        Argument #2\n",
      "          DType: bool\n",
      "          Value: False\n",
      "        Argument #3\n",
      "          DType: NoneType\n",
      "          Value: None\n",
      "    Option #4\n",
      "      Callable with:\n",
      "        Argument #1\n",
      "          inputs: TensorSpec(shape=(None, 32, 32, 3), dtype=tf.float32, name='inputs')\n",
      "        Argument #2\n",
      "          DType: bool\n",
      "          Value: False\n",
      "        Argument #3\n",
      "          DType: NoneType\n",
      "          Value: None\n",
      "\n",
      "  Function Name: '_default_save_signature'\n",
      "    Option #1\n",
      "      Callable with:\n",
      "        Argument #1\n",
      "          conv2d_input: TensorSpec(shape=(None, 32, 32, 3), dtype=tf.float32, name='conv2d_input')\n",
      "\n",
      "  Function Name: 'call_and_return_all_conditional_losses'\n",
      "    Option #1\n",
      "      Callable with:\n",
      "        Argument #1\n",
      "          inputs: TensorSpec(shape=(None, 32, 32, 3), dtype=tf.float32, name='inputs')\n",
      "        Argument #2\n",
      "          DType: bool\n",
      "          Value: False\n",
      "        Argument #3\n",
      "          DType: NoneType\n",
      "          Value: None\n",
      "    Option #2\n",
      "      Callable with:\n",
      "        Argument #1\n",
      "          inputs: TensorSpec(shape=(None, 32, 32, 3), dtype=tf.float32, name='inputs')\n",
      "        Argument #2\n",
      "          DType: bool\n",
      "          Value: True\n",
      "        Argument #3\n",
      "          DType: NoneType\n",
      "          Value: None\n",
      "    Option #3\n",
      "      Callable with:\n",
      "        Argument #1\n",
      "          conv2d_input: TensorSpec(shape=(None, 32, 32, 3), dtype=tf.float32, name='conv2d_input')\n",
      "        Argument #2\n",
      "          DType: bool\n",
      "          Value: True\n",
      "        Argument #3\n",
      "          DType: NoneType\n",
      "          Value: None\n",
      "    Option #4\n",
      "      Callable with:\n",
      "        Argument #1\n",
      "          conv2d_input: TensorSpec(shape=(None, 32, 32, 3), dtype=tf.float32, name='conv2d_input')\n",
      "        Argument #2\n",
      "          DType: bool\n",
      "          Value: False\n",
      "        Argument #3\n",
      "          DType: NoneType\n",
      "          Value: None\n"
     ]
    }
   ],
   "source": [
    "#здесь получаем информацию о модели и о конфликте с GPU\n",
    "!saved_model_cli show --dir {export_path} --all"
   ]
  },
  {
   "cell_type": "markdown",
   "id": "2f9e09e5",
   "metadata": {},
   "source": [
    "## Сохранение тестового примера"
   ]
  },
  {
   "cell_type": "code",
   "execution_count": 33,
   "id": "8e9ef637",
   "metadata": {},
   "outputs": [
    {
     "data": {
      "text/plain": [
       "(5, 32, 32, 3)"
      ]
     },
     "execution_count": 33,
     "metadata": {},
     "output_type": "execute_result"
    },
    {
     "data": {
      "image/png": "[encoded data removed]",
      "text/plain": [
       "<Figure size 640x480 with 1 Axes>"
      ]
     },
     "metadata": {},
     "output_type": "display_data"
    }
   ],
   "source": [
    "# Первый вариант, через numpy\n",
    "np.save('test_sample.npy', test_images[:5], )\n",
    "sample = np.load('test_sample.npy')\n",
    "plt.imshow(sample[2])\n",
    "sample.shape"
   ]
  },
  {
   "cell_type": "code",
   "execution_count": 48,
   "id": "9db3ddb2",
   "metadata": {},
   "outputs": [
    {
     "name": "stdout",
     "output_type": "stream",
     "text": [
      "Data: {\"signature_name\": \"serving_default\", \"instances\": ... 43137255, 0.611764705882353, 0.4588235294117647]]]]}\n"
     ]
    }
   ],
   "source": [
    "# второй вариант, через json\n",
    "import json # Модуль для кодирования и декодирования данных в формате json\n",
    "\n",
    "data = json.dumps({\"signature_name\": \"serving_default\", \"instances\": test_images[:5].tolist()}) # Передаем три изображения для записи в формат JSON\n",
    "print('Data: {} ... {}'.format(data[:50], data[len(data)-52:]))\n",
    "json_file = open('predict.json', 'w') # Создаем файл в формате JSON и открываем его для записи\n",
    "json_file.write(data)                 # Записываем данные\n",
    "json_file.close()                     # Закрываем файл"
   ]
  },
  {
   "cell_type": "markdown",
   "id": "1694dd71",
   "metadata": {},
   "source": [
    "# Скачиваем образ TensorFlow Serving и запускае Docker"
   ]
  },
  {
   "cell_type": "markdown",
   "id": "6e39530d",
   "metadata": {},
   "source": [
    "скачиваем образ"
   ]
  },
  {
   "cell_type": "code",
   "execution_count": 115,
   "id": "ae4ce8ad",
   "metadata": {},
   "outputs": [
    {
     "name": "stdout",
     "output_type": "stream",
     "text": [
      "Using default tag: latest\n",
      "Error response from daemon: Head \"https://registry-1.docker.io/v2/tensorflow/serving/manifests/latest\": Get \"https://auth.docker.io/token?scope=repository%3Atensorflow%2Fserving%3Apull&service=registry.docker.io\": net/http: request canceled while waiting for connection (Client.Timeout exceeded while awaiting headers)\n"
     ]
    }
   ],
   "source": [
    "!docker pull tensorflow/serving\n",
    "#следующие команды пока выполняем териминал. Внутри jupyterа сложнее отладка"
   ]
  },
  {
   "cell_type": "markdown",
   "id": "581fb601",
   "metadata": {},
   "source": [
    "с командной строки запускаем контейнер docker_run_comand, ниже доп. команты для перезапуска\\n\n",
    "\n",
    "может возникнуть проблема с --mount"
   ]
  },
  {
   "cell_type": "code",
   "execution_count": 13,
   "id": "fe12cd66",
   "metadata": {
    "scrolled": true
   },
   "outputs": [
    {
     "name": "stdout",
     "output_type": "stream",
     "text": [
      "docker run -p 8501:8501 --name cifar10_container --mount type=bind,source=/home/nikmih/Jupyter_projects/tensorflow_serving/content/tmp/,target=/models/cifar10_model/ -e MODEL_NAME=cifar10_model -t tensorflow/serving\n"
     ]
    },
    {
     "data": {
      "text/plain": [
       "'\\n#containes list\\ndocker sm\\n# docker stop container\\ndocker stop 70f91474afac\\n# удалить контейнер\\ndocker rm \\n'"
      ]
     },
     "execution_count": 13,
     "metadata": {},
     "output_type": "execute_result"
    }
   ],
   "source": [
    "name_of_container = 'tf_serving_cifar10'\n",
    "port = '8501:8501'\n",
    "source = '/home/nikmih/Jupyter_projects/tensorflow_serving/content/tmp/'\n",
    "target = '/models/cifar10_model/'\n",
    "model_name = 'cifar10_model'\n",
    "container_name = 'cifar10_container'\n",
    "\n",
    "docker_run_comand = f'docker run -p {port} --name {container_name} --mount type=bind,source={source},target={target} \\\n",
    "-e MODEL_NAME={model_name} -t tensorflow/serving'\n",
    "print(docker_run_comand)\n",
    "\n",
    "\n",
    "'''\n",
    "#containes list\n",
    "docker sm\n",
    "# docker stop container\n",
    "docker stop 70f91474afac\n",
    "# удалить контейнер\n",
    "docker rm \n",
    "'''\n",
    "\n",
    "\n"
   ]
  },
  {
   "cell_type": "markdown",
   "id": "2db06070",
   "metadata": {},
   "source": [
    "# Отправим тестовые примеры на сервер."
   ]
  },
  {
   "cell_type": "markdown",
   "id": "9c46925e",
   "metadata": {},
   "source": [
    "## Подготовка данных для ПОСТ запроса\n",
    "Дубль из пункта 2.2"
   ]
  },
  {
   "cell_type": "code",
   "execution_count": 84,
   "id": "ea7d9798",
   "metadata": {},
   "outputs": [
    {
     "name": "stdout",
     "output_type": "stream",
     "text": [
      "Data: {\"signature_name\": \"serving_default\", \"instances\": ... 6862, 0.03137254901960784, 0.027450980392156862]]]]}\n"
     ]
    }
   ],
   "source": [
    "import json # Модуль для кодирования и декодирования данных в формате json\n",
    "data = json.dumps({\"signature_name\": \"serving_default\", \"instances\": test_images[:3].tolist()}) # Передаем три изображения для записи в формат JSON\n",
    "print('Data: {} ... {}'.format(data[:50], data[len(data)-52:]))\n",
    "with open('predict.json', 'w') as json_file:# Создаем файл в формате JSON и открываем его для записи\n",
    "    json_file.write(data)                 # Записываем данные\n",
    "# json_file.close()                     # Закрываем файл"
   ]
  },
  {
   "cell_type": "markdown",
   "id": "eee25d54",
   "metadata": {},
   "source": [
    "## Отправка запроса и получение результата\n",
    "Далее воспользуемся утилитой curl для отправки запроса. Здесь нам также потребуется передать несколько аргументов:"
   ]
  },
  {
   "cell_type": "markdown",
   "id": "5d965a18",
   "metadata": {},
   "source": [
    "### Отправка запроса через терминал\n",
    "через аргумент -X указываем тип нашего запроса – POST\n",
    "\n",
    "через аргумент -H указываем тип данных, которые будем отправлять\n",
    "\n",
    "через аргумент -d передаем путь к самим данным."
   ]
  },
  {
   "cell_type": "code",
   "execution_count": 86,
   "id": "880efb62",
   "metadata": {},
   "outputs": [
    {
     "name": "stdout",
     "output_type": "stream",
     "text": [
      "curl -X POST -H \"Content-Type: application/json\" -d @/home/nikmih/Jupyter_projects/tensorflow_serving/predict.json http://localhost:8501/v1/models/cifar10_model:predict\n"
     ]
    }
   ],
   "source": [
    "json_path = '/home/nikmih/Jupyter_projects/tensorflow_serving/predict.json'\n",
    "port = '8501'\n",
    "curl_command = f'curl -X POST -H \"Content-Type: application/json\" -d @{json_path} \\\n",
    "http://localhost:{port}/v1/{target[1:-1]}:predict'\n",
    "\n",
    "print(curl_command)\n"
   ]
  },
  {
   "cell_type": "markdown",
   "id": "d6945897",
   "metadata": {},
   "source": [
    "В конце запроса можем добавить >> response.json, тогда файл будет передан в текущую папку терминала, от куда был вызван терминал"
   ]
  },
  {
   "cell_type": "markdown",
   "id": "c9769bf4",
   "metadata": {},
   "source": [
    "осталось распарсить и визуализировать"
   ]
  },
  {
   "cell_type": "markdown",
   "id": "a5fdcb2c",
   "metadata": {},
   "source": [
    "### попробуем отправить запрос с помошью request"
   ]
  },
  {
   "cell_type": "code",
   "execution_count": 88,
   "id": "c3f79192",
   "metadata": {},
   "outputs": [
    {
     "data": {
      "text/plain": [
       "{'_content': b'{\\n    \"predictions\": [[-1.47531021, -5.21711349, -1.18303502, 3.12796545, -2.5124135, 2.042027, -0.345840096, -2.34317756, 0.510801673, -1.76002944], [3.58673334, 6.997612, -4.78423166, -6.91376543, -11.0340223, -12.699235, -4.07094622, -11.6636553, 7.71099949, 2.58568215], [3.32866192, 0.676783085, -2.88740468, -3.07508922, -4.43050194, -4.92588329, -2.64804268, -5.31284857, 5.30123663, 0.2614685]\\n    ]\\n}',\n",
       " '_content_consumed': True,\n",
       " '_next': None,\n",
       " 'status_code': 200,\n",
       " 'headers': {'Content-Type': 'application/json', 'Date': 'Sat, 11 Mar 2023 15:12:27 GMT', 'Content-Length': '409'},\n",
       " 'raw': <urllib3.response.HTTPResponse at 0x7f79dd31d7f0>,\n",
       " 'url': 'http://localhost:8501/v1/models/cifar10_model:predict',\n",
       " 'encoding': 'utf-8',\n",
       " 'history': [],\n",
       " 'reason': 'OK',\n",
       " 'cookies': <RequestsCookieJar[]>,\n",
       " 'elapsed': datetime.timedelta(microseconds=8164),\n",
       " 'request': <PreparedRequest [POST]>,\n",
       " 'connection': <requests.adapters.HTTPAdapter at 0x7f7a53ae99a0>}"
      ]
     },
     "execution_count": 88,
     "metadata": {},
     "output_type": "execute_result"
    }
   ],
   "source": [
    "import requests # Модуль для составления HTTP-запросов\n",
    "\n",
    "headers = {\"content-type\": \"application/json\"} # Указываем, что будем отправлять данные в формате JSON\n",
    " \n",
    "json_response = requests.post('http://localhost:8501/v1/models/cifar10_model:predict', data=data, headers=headers)\n",
    "json_response.__dict__"
   ]
  },
  {
   "cell_type": "code",
   "execution_count": 112,
   "id": "14fc371e",
   "metadata": {},
   "outputs": [],
   "source": [
    "ansver = [class_names[x] for x in [np.argmax(x) for x in json.loads(json_response.text)['predictions']]]"
   ]
  },
  {
   "cell_type": "markdown",
   "id": "d081caaa",
   "metadata": {},
   "source": [
    "### Сюда добавить визуализацию."
   ]
  },
  {
   "cell_type": "code",
   "execution_count": 113,
   "id": "98444544",
   "metadata": {},
   "outputs": [
    {
     "data": {
      "image/png": "[encoded data removed]",
      "text/plain": [
       "<Figure size 640x480 with 1 Axes>"
      ]
     },
     "metadata": {},
     "output_type": "display_data"
    },
    {
     "data": {
      "image/png": "[encoded data removed]",
      "text/plain": [
       "<Figure size 640x480 with 1 Axes>"
      ]
     },
     "metadata": {},
     "output_type": "display_data"
    },
    {
     "data": {
      "image/png": "[encoded data removed]",
      "text/plain": [
       "<Figure size 640x480 with 1 Axes>"
      ]
     },
     "metadata": {},
     "output_type": "display_data"
    }
   ],
   "source": [
    "# Функция для просмотра картинки из тестового набора данных\n",
    "def show(idx, title):\n",
    "    \"\"\"\n",
    "    idx   - индекс случайного изображения\n",
    "    title - заголовок (метка класса)\n",
    "    \"\"\"\n",
    "\n",
    "    plt.figure()\n",
    "    plt.imshow(test_images[idx].reshape(32,32,3), cmap='gray')\n",
    "    plt.axis('off')\n",
    "    plt.title('\\n{}\\n'.format(title), fontdict={'size': 16})\n",
    "\n",
    "class_names = ['airplane', 'automobile', 'bird', 'cat', 'deer', 'dog', 'frog', 'horse', 'ship', 'trank']\n",
    "\n",
    "for i, x in enumerate (ansver):\n",
    "    show(i, x)"
   ]
  }
 ],
 "metadata": {
  "kernelspec": {
   "display_name": "Python 3 (ipykernel)",
   "language": "python",
   "name": "python3"
  },
  "language_info": {
   "codemirror_mode": {
    "name": "ipython",
    "version": 3
   },
   "file_extension": ".py",
   "mimetype": "text/x-python",
   "name": "python",
   "nbconvert_exporter": "python",
   "pygments_lexer": "ipython3",
   "version": "3.9.13"
  },
  "toc": {
   "base_numbering": 1,
   "nav_menu": {},
   "number_sections": true,
   "sideBar": true,
   "skip_h1_title": false,
   "title_cell": "Table of Contents",
   "title_sidebar": "Contents",
   "toc_cell": false,
   "toc_position": {},
   "toc_section_display": true,
   "toc_window_display": false
  },
  "varInspector": {
   "cols": {
    "lenName": 16,
    "lenType": 16,
    "lenVar": 40
   },
   "kernels_config": {
    "python": {
     "delete_cmd_postfix": "",
     "delete_cmd_prefix": "del ",
     "library": "var_list.py",
     "varRefreshCmd": "print(var_dic_list())"
    },
    "r": {
     "delete_cmd_postfix": ") ",
     "delete_cmd_prefix": "rm(",
     "library": "var_list.r",
     "varRefreshCmd": "cat(var_dic_list()) "
    }
   },
   "types_to_exclude": [
    "module",
    "function",
    "builtin_function_or_method",
    "instance",
    "_Feature"
   ],
   "window_display": false
  }
 },
 "nbformat": 4,
 "nbformat_minor": 5
}
