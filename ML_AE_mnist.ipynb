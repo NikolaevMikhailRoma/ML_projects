{
  "cells": [
    {
      "cell_type": "markdown",
      "metadata": {
        "id": "view-in-github",
        "colab_type": "text"
      },
      "source": [
        "<a href=\"https://colab.research.google.com/github/NikolaevMikhailRoma/ML_projects/blob/master/ML_AE_mnist.ipynb\" target=\"_parent\"><img src=\"https://colab.research.google.com/assets/colab-badge.svg\" alt=\"Open In Colab\"/></a>"
      ]
    },
    {
      "cell_type": "markdown",
      "metadata": {
        "id": "rUFM1Dj6yDxU"
      },
      "source": [
        "# Libs"
      ]
    },
    {
      "cell_type": "code",
      "execution_count": 8,
      "metadata": {
        "id": "sJ6unhQuyDxa"
      },
      "outputs": [],
      "source": [
        "# Работа с операционной системой\n",
        "import os\n",
        "\n",
        "# Работа с массивами данных\n",
        "import numpy as np\n",
        "\n",
        "# Работа с таблицами\n",
        "import pandas as pd\n",
        "\n",
        "# Основные слои\n",
        "from tensorflow.keras.layers import Dense, Flatten, Reshape, Input, Conv2DTranspose, concatenate, Activation, MaxPooling2D, Conv2D, BatchNormalization\n",
        "\n",
        "# класс для использования Functional API\n",
        "from tensorflow.keras import Model\n",
        "\n",
        "# Оптимизаторы для обучения модели\n",
        "from tensorflow.keras.optimizers import Adam\n",
        "\n",
        "# Функции-утилиты\n",
        "from tensorflow.keras import utils\n",
        "\n",
        "# Готовые датасеты\n",
        "from tensorflow.keras.datasets import mnist, fashion_mnist\n",
        "\n",
        "# Коллбэки для выдачи информации в процессе обучения\n",
        "from tensorflow.keras.callbacks import LambdaCallback\n",
        "\n",
        "# Отрисовка изображения\n",
        "from tensorflow.keras.preprocessing import image\n",
        "\n",
        "# Разбиение на тренировочную и тестовую выборки\n",
        "from sklearn.model_selection import train_test_split\n",
        "\n",
        "# Функция среднеквадратической ошибки для расчетов вручную\n",
        "from sklearn.metrics import mean_squared_error\n",
        "\n",
        "# Отрисовка графиков\n",
        "import matplotlib.pyplot as plt\n",
        "\n",
        "import random\n",
        "import time\n",
        "from tensorflow.keras.callbacks import ReduceLROnPlateau, EarlyStopping, ModelCheckpoint\n",
        "\n",
        "\n",
        "%matplotlib inline"
      ]
    },
    {
      "cell_type": "markdown",
      "metadata": {
        "id": "AfH7-nsZyDxd"
      },
      "source": [
        "# Service functions"
      ]
    },
    {
      "cell_type": "code",
      "execution_count": 9,
      "metadata": {
        "id": "w9XemUqZyDxd"
      },
      "outputs": [],
      "source": [
        "# Функция последовательного вывода нескольких изображений для сравнения\n",
        "def plot_images(x_data, pred, n=5):\n",
        "\n",
        "    plt.figure(figsize=(14, 7))                     # Размер полотна\n",
        "\n",
        "    for i in range(1, n + 1):                              # Повтор n раз:\n",
        "        index = np.random.randint(0, pred.shape[0]) # Выбор случайного индекса\n",
        "\n",
        "        # Показ картинки с индексом index из набора x_data\n",
        "        ax = plt.subplot(2, n, i)               # Картинка располагается в верхнем ряду\n",
        "        plt.imshow(x_data[index].squeeze(), cmap='gray')\n",
        "        ax.get_xaxis().set_visible(False)\n",
        "        ax.get_yaxis().set_visible(False)\n",
        "\n",
        "        # Показ картинки с тем же индексом из предсказания автокодировщика\n",
        "        ax = plt.subplot(2, n, i + n)           # Картинка располагается в нижнем ряду\n",
        "        plt.imshow(pred[index].squeeze(), cmap='gray')\n",
        "        ax.get_xaxis().set_visible(False)\n",
        "        ax.get_yaxis().set_visible(False)\n",
        "\n",
        "    plt.show()"
      ]
    },
    {
      "cell_type": "markdown",
      "metadata": {
        "id": "qs11Yv8JyDxf"
      },
      "source": [
        "# Data processing: Добавляем черные квадраты в мнист. на у подаются не измененные данные"
      ]
    },
    {
      "cell_type": "code",
      "execution_count": 10,
      "metadata": {
        "pycharm": {
          "is_executing": true
        },
        "colab": {
          "base_uri": "https://localhost:8080/",
          "height": 408
        },
        "id": "n8QPtrG5yDxg",
        "outputId": "fc34be2a-dc93-400d-e2a4-ea1b9612f294"
      },
      "outputs": [
        {
          "output_type": "stream",
          "name": "stdout",
          "text": [
            "(70000, 28, 28, 1) (70000, 28, 28, 1)\n"
          ]
        },
        {
          "output_type": "display_data",
          "data": {
            "text/plain": [
              "<Figure size 1008x504 with 10 Axes>"
            ],
            "image/png": "[encoded data removed]"
          },
          "metadata": {
            "needs_background": "light"
          }
        },
        {
          "output_type": "stream",
          "name": "stdout",
          "text": [
            "Operation_time = 1\n"
          ]
        }
      ],
      "source": [
        "curr_time = time.time()\n",
        "\n",
        "# Загрузка данных из базы с готовой разбивкой на train/test\n",
        "(x_train_mnist, y_train_mnist), (x_test_mnist, y_test_mnist) = mnist.load_data()\n",
        "\n",
        "x_empty = np.expand_dims(np.vstack([x_train_mnist, x_test_mnist]), axis = 3)\n",
        "\n",
        "y = x_empty.copy()\n",
        "\n",
        "size_of_square = 8\n",
        "\n",
        "height, weight = x_empty.shape[1], x_empty.shape[2]\n",
        "def black_square(x):\n",
        "    h = random.randint(0, height-size_of_square)\n",
        "    w = random.randint(0, weight-size_of_square)\n",
        "    new_x = x\n",
        "    new_x[h:h+size_of_square, w:w+size_of_square,] = 0\n",
        "    return new_x\n",
        "x = np.array([black_square(x) for x in x_empty])\n",
        "print(x.shape, y.shape)\n",
        "\n",
        "plot_images(x, y, n=5)\n",
        "print(f'Operation_time = {round(time.time() - curr_time)}')"
      ]
    },
    {
      "cell_type": "code",
      "execution_count": 11,
      "metadata": {
        "pycharm": {
          "is_executing": true
        },
        "id": "IfxujsR_yDxh"
      },
      "outputs": [],
      "source": [
        "# Приведение всех картинок к нужному типу\n",
        "x = x.astype('float32')/255.\n",
        "y = y.astype('float32')/255."
      ]
    },
    {
      "cell_type": "code",
      "execution_count": 12,
      "metadata": {
        "id": "Efh1ILQwyDxi"
      },
      "outputs": [],
      "source": [
        "x_train, x_test, y_train, y_test = train_test_split(x,\n",
        "                                                  y,\n",
        "                                                  # stratify=y_data,\n",
        "                                                  test_size=0.1)"
      ]
    },
    {
      "cell_type": "code",
      "execution_count": 13,
      "metadata": {
        "colab": {
          "base_uri": "https://localhost:8080/"
        },
        "id": "xJBuXVDlyDxj",
        "outputId": "60994d49-2ae8-4508-cbbd-9cca66fd7c14"
      },
      "outputs": [
        {
          "output_type": "execute_result",
          "data": {
            "text/plain": [
              "(63000, 28, 28, 1)"
            ]
          },
          "metadata": {},
          "execution_count": 13
        }
      ],
      "source": [
        "x_train.shape"
      ]
    },
    {
      "cell_type": "markdown",
      "metadata": {
        "id": "yWKKEQkjyDxk"
      },
      "source": [
        "# AE model. Build, fit model and visualizate predict"
      ]
    },
    {
      "cell_type": "code",
      "source": [
        "# Функция сборки сверточного автокодировщика\n",
        "def create_base_ae(in_shape):\n",
        "    # Энкодер, вход нейросети\n",
        "    img_input = Input(in_shape)\n",
        "\n",
        "    # Энкодер, первый блок\n",
        "    # 1.1. Двумерная свертка\n",
        "    x = Conv2D(32, (3, 3), padding='same', activation='relu')(img_input)\n",
        "    # 1.2. Нормализация\n",
        "    x = BatchNormalization()(x)\n",
        "    # 1.3. Двумерная свертка\n",
        "    x = Conv2D(32, (3, 3), padding='same', activation='relu')(x)\n",
        "    # 1.4. Нормализация\n",
        "    x = BatchNormalization()(x)\n",
        "    # 1.5. Снижение размерности и обобщение данных\n",
        "    x = MaxPooling2D()(x)\n",
        "\n",
        "    # Энкодер, второй блок\n",
        "    # 2.1. Двумерная свертка\n",
        "    x = Conv2D(64, (3, 3), padding='same', activation='relu')(x)\n",
        "    # 2.2. Нормализация\n",
        "    x = BatchNormalization()(x)\n",
        "    # 2.3. Двумерная свертка\n",
        "    x = Conv2D(64, (3, 3), padding='same', activation='relu')(x)\n",
        "    # 2.4. Нормализация\n",
        "    x = BatchNormalization()(x)\n",
        "\n",
        "\n",
        "    # На выходе кодировщика и на входе декодировщика z - вектор латентного пространства\n",
        "    # 2.5. Снижение размерности и обобщение данных\n",
        "    z = MaxPooling2D()(x)\n",
        "\n",
        "\n",
        "    # Декодер, первый блок\n",
        "    # 1.1. Транспонированная свертка - повышение размерности данных\n",
        "    x = Conv2DTranspose(64, (2, 2), strides=(2, 2), padding='same', activation='relu')(z)\n",
        "    # 1.2. Нормализация\n",
        "    x = BatchNormalization()(x)\n",
        "    # 1.3. Двумерная свертка\n",
        "    x = Conv2D(64, (3, 3), padding='same', activation='relu')(x)\n",
        "    # 1.4. Нормализация\n",
        "    x = BatchNormalization()(x)\n",
        "    # 1.5. Двумерная свертка\n",
        "    x = Conv2D(64, (3, 3), padding='same', activation='relu')(x)\n",
        "    # 1.6. Нормализация\n",
        "    x = BatchNormalization()(x)\n",
        "\n",
        "    # Декодер, второй блок\n",
        "    # 2.1. Транспонированная свертка - повышение размерности данных\n",
        "    x = Conv2DTranspose(32, (2, 2), strides=(2, 2), padding='same', activation='relu')(x)\n",
        "    # 2.2. Нормализация\n",
        "    x = BatchNormalization()(x) # слой нормализации данных\n",
        "    # 2.3. Двумерная свертка\n",
        "    x = Conv2D(32, (3, 3), padding='same', activation='relu')(x)\n",
        "    # 2.4. Нормализация\n",
        "    x = BatchNormalization()(x) # слой нормализации данных\n",
        "    # 2.5. Двумерная свертка\n",
        "    x = Conv2D(32, (3, 3), padding='same', activation='relu')(x)\n",
        "    # 2.6. Нормализация\n",
        "    x = BatchNormalization()(x)\n",
        "\n",
        "    # Декодер, финальный слой двумерной свертки, выдающий итоговое изображение\n",
        "    outputs = Conv2D(in_shape[-1], (3, 3), activation='sigmoid', padding='same')(x)\n",
        "\n",
        "    # Сборка модели, на входе оригинальное изображение, на выходе - сжатое-восстановленное\n",
        "    model = Model(inputs=img_input, outputs=outputs)\n",
        "\n",
        "    # Компиляция сети, назначение оптимизатора Adam + среднеквадратическая ошибка\n",
        "    model.compile(optimizer=Adam(learning_rate=0.001), loss='mse')\n",
        "\n",
        "    # Возврат готовой модели\n",
        "    return model"
      ],
      "metadata": {
        "id": "BI_nzmwXDTNG"
      },
      "execution_count": null,
      "outputs": []
    },
    {
      "cell_type": "code",
      "source": [
        "ae_mnist.summary()"
      ],
      "metadata": {
        "id": "6jSgmevyDfad",
        "outputId": "4b0500c1-e70e-4cf8-a5fd-ce9e881d7152",
        "colab": {
          "base_uri": "https://localhost:8080/"
        }
      },
      "execution_count": 18,
      "outputs": [
        {
          "output_type": "stream",
          "name": "stdout",
          "text": [
            "Model: \"model_1\"\n",
            "_________________________________________________________________\n",
            " Layer (type)                Output Shape              Param #   \n",
            "=================================================================\n",
            " input_2 (InputLayer)        [(None, 28, 28, 1)]       0         \n",
            "                                                                 \n",
            " conv2d_9 (Conv2D)           (None, 28, 28, 32)        320       \n",
            "                                                                 \n",
            " batch_normalization_10 (Bat  (None, 28, 28, 32)       128       \n",
            " chNormalization)                                                \n",
            "                                                                 \n",
            " conv2d_10 (Conv2D)          (None, 28, 28, 32)        9248      \n",
            "                                                                 \n",
            " batch_normalization_11 (Bat  (None, 28, 28, 32)       128       \n",
            " chNormalization)                                                \n",
            "                                                                 \n",
            " max_pooling2d_2 (MaxPooling  (None, 14, 14, 32)       0         \n",
            " 2D)                                                             \n",
            "                                                                 \n",
            " conv2d_11 (Conv2D)          (None, 14, 14, 64)        18496     \n",
            "                                                                 \n",
            " batch_normalization_12 (Bat  (None, 14, 14, 64)       256       \n",
            " chNormalization)                                                \n",
            "                                                                 \n",
            " conv2d_12 (Conv2D)          (None, 14, 14, 64)        36928     \n",
            "                                                                 \n",
            " batch_normalization_13 (Bat  (None, 14, 14, 64)       256       \n",
            " chNormalization)                                                \n",
            "                                                                 \n",
            " max_pooling2d_3 (MaxPooling  (None, 7, 7, 64)         0         \n",
            " 2D)                                                             \n",
            "                                                                 \n",
            " conv2d_transpose_2 (Conv2DT  (None, 14, 14, 64)       16448     \n",
            " ranspose)                                                       \n",
            "                                                                 \n",
            " batch_normalization_14 (Bat  (None, 14, 14, 64)       256       \n",
            " chNormalization)                                                \n",
            "                                                                 \n",
            " conv2d_13 (Conv2D)          (None, 14, 14, 64)        36928     \n",
            "                                                                 \n",
            " batch_normalization_15 (Bat  (None, 14, 14, 64)       256       \n",
            " chNormalization)                                                \n",
            "                                                                 \n",
            " conv2d_14 (Conv2D)          (None, 14, 14, 64)        36928     \n",
            "                                                                 \n",
            " batch_normalization_16 (Bat  (None, 14, 14, 64)       256       \n",
            " chNormalization)                                                \n",
            "                                                                 \n",
            " conv2d_transpose_3 (Conv2DT  (None, 28, 28, 32)       8224      \n",
            " ranspose)                                                       \n",
            "                                                                 \n",
            " batch_normalization_17 (Bat  (None, 28, 28, 32)       128       \n",
            " chNormalization)                                                \n",
            "                                                                 \n",
            " conv2d_15 (Conv2D)          (None, 28, 28, 32)        9248      \n",
            "                                                                 \n",
            " batch_normalization_18 (Bat  (None, 28, 28, 32)       128       \n",
            " chNormalization)                                                \n",
            "                                                                 \n",
            " conv2d_16 (Conv2D)          (None, 28, 28, 32)        9248      \n",
            "                                                                 \n",
            " batch_normalization_19 (Bat  (None, 28, 28, 32)       128       \n",
            " chNormalization)                                                \n",
            "                                                                 \n",
            " conv2d_17 (Conv2D)          (None, 28, 28, 1)         289       \n",
            "                                                                 \n",
            "=================================================================\n",
            "Total params: 184,225\n",
            "Trainable params: 183,265\n",
            "Non-trainable params: 960\n",
            "_________________________________________________________________\n"
          ]
        }
      ]
    },
    {
      "cell_type": "code",
      "execution_count": 14,
      "metadata": {
        "colab": {
          "base_uri": "https://localhost:8080/"
        },
        "id": "rM3rC7mByDxk",
        "outputId": "bb9ea113-0431-42cb-8417-971837845c69"
      },
      "outputs": [
        {
          "output_type": "stream",
          "name": "stdout",
          "text": [
            "Epoch 1/50\n",
            "247/247 [==============================] - 17s 46ms/step - loss: 0.0202 - val_loss: 0.1028 - lr: 0.0010\n",
            "Epoch 2/50\n",
            "247/247 [==============================] - 11s 43ms/step - loss: 0.0070 - val_loss: 0.0262 - lr: 0.0010\n",
            "Epoch 3/50\n",
            "247/247 [==============================] - 11s 45ms/step - loss: 0.0057 - val_loss: 0.0078 - lr: 0.0010\n",
            "Epoch 4/50\n",
            "247/247 [==============================] - 11s 45ms/step - loss: 0.0050 - val_loss: 0.0055 - lr: 0.0010\n",
            "Epoch 5/50\n",
            "247/247 [==============================] - 11s 43ms/step - loss: 0.0046 - val_loss: 0.0050 - lr: 0.0010\n",
            "Epoch 6/50\n",
            "247/247 [==============================] - 11s 44ms/step - loss: 0.0044 - val_loss: 0.0051 - lr: 0.0010\n",
            "Epoch 7/50\n",
            "247/247 [==============================] - 11s 44ms/step - loss: 0.0039 - val_loss: 0.0042 - lr: 1.0000e-04\n",
            "Epoch 8/50\n",
            "247/247 [==============================] - 11s 44ms/step - loss: 0.0039 - val_loss: 0.0042 - lr: 1.0000e-04\n",
            "Epoch 9/50\n",
            "247/247 [==============================] - 11s 43ms/step - loss: 0.0038 - val_loss: 0.0041 - lr: 1.0000e-05\n",
            "Epoch 10/50\n",
            "247/247 [==============================] - 11s 43ms/step - loss: 0.0038 - val_loss: 0.0041 - lr: 1.0000e-06\n",
            "Epoch 11/50\n",
            "247/247 [==============================] - 11s 43ms/step - loss: 0.0038 - val_loss: 0.0041 - lr: 1.0000e-06\n",
            "Epoch 12/50\n",
            "247/247 [==============================] - 11s 43ms/step - loss: 0.0038 - val_loss: 0.0041 - lr: 1.0000e-06\n",
            "Epoch 13/50\n",
            "247/247 [==============================] - 11s 43ms/step - loss: 0.0038 - val_loss: 0.0041 - lr: 1.0000e-06\n",
            "Epoch 14/50\n",
            "247/247 [==============================] - 11s 44ms/step - loss: 0.0037 - val_loss: 0.0041 - lr: 1.0000e-06\n",
            "Epoch 15/50\n",
            "247/247 [==============================] - 11s 43ms/step - loss: 0.0038 - val_loss: 0.0041 - lr: 1.0000e-06\n",
            "Epoch 16/50\n",
            "247/247 [==============================] - 11s 43ms/step - loss: 0.0038 - val_loss: 0.0041 - lr: 1.0000e-06\n",
            "Epoch 17/50\n",
            "247/247 [==============================] - 11s 43ms/step - loss: 0.0038 - val_loss: 0.0041 - lr: 1.0000e-06\n",
            "Epoch 18/50\n",
            "247/247 [==============================] - 11s 43ms/step - loss: 0.0038 - val_loss: 0.0041 - lr: 1.0000e-06\n",
            "Epoch 19/50\n",
            "247/247 [==============================] - 11s 43ms/step - loss: 0.0038 - val_loss: 0.0041 - lr: 1.0000e-06\n",
            "Epoch 20/50\n",
            "247/247 [==============================] - ETA: 0s - loss: 0.0037Restoring model weights from the end of the best epoch: 16.\n",
            "247/247 [==============================] - 11s 47ms/step - loss: 0.0037 - val_loss: 0.0041 - lr: 1.0000e-06\n",
            "Epoch 20: early stopping\n"
          ]
        }
      ],
      "source": [
        "reduceLROnPlateau = ReduceLROnPlateau(monitor='val_loss', \n",
        "                                      factor=0.1, \n",
        "                                      patience=1, \n",
        "                                      verbose=0,\n",
        "                                      min_lr=0.000001)\n",
        "earlystop=EarlyStopping(monitor='val_loss', \n",
        "                        min_delta=0,\n",
        "                        patience=4,\n",
        "                        verbose=1,\n",
        "                        baseline=None,\n",
        "                        restore_best_weights=True)\n",
        "\n",
        "ae_mnist = create_base_ae(x_train.shape[1:])\n",
        "# Обучение модели автокодировщика, на входе и выходе одни и те же данные\n",
        "history = ae_mnist.fit(x_train, y_train,\n",
        "                       epochs=50,\n",
        "                       batch_size=256,\n",
        "                       callbacks=[\n",
        "                            earlystop, \n",
        "                           reduceLROnPlateau, \n",
        "                           #  model_checkpoint_callback\n",
        "                             ],\n",
        "                       validation_data = (x_test, y_test))"
      ]
    },
    {
      "cell_type": "code",
      "execution_count": 15,
      "metadata": {
        "colab": {
          "base_uri": "https://localhost:8080/",
          "height": 431
        },
        "id": "Bk0WPO6yyDxl",
        "outputId": "4feafb26-fdbe-4a7f-b3c7-a69033cb9a14"
      },
      "outputs": [
        {
          "output_type": "display_data",
          "data": {
            "text/plain": [
              "<Figure size 1008x504 with 1 Axes>"
            ],
            "image/png": "[encoded data removed]"
          },
          "metadata": {
            "needs_background": "light"
          }
        }
      ],
      "source": [
        "# Вывод графиков процесса обучения\n",
        "plt.figure(figsize=(14,7))\n",
        "plt.plot(history.history['loss'][2:],\n",
        "         label='Среднеквадратическая ошибка на обучающем наборе')\n",
        "plt.plot(history.history['val_loss'][2:],\n",
        "         label='Среднеквадратическая ошибка на проверочном наборе')\n",
        "plt.ylabel('Средняя ошибка')\n",
        "plt.legend()\n",
        "plt.show()"
      ]
    },
    {
      "cell_type": "code",
      "execution_count": 16,
      "metadata": {
        "colab": {
          "base_uri": "https://localhost:8080/"
        },
        "id": "stU1zJszyDxm",
        "outputId": "310b9f74-c3e9-4787-d1f1-63ba089239d8"
      },
      "outputs": [
        {
          "output_type": "stream",
          "name": "stdout",
          "text": [
            "1969/1969 [==============================] - 8s 4ms/step\n",
            "219/219 [==============================] - 1s 3ms/step\n"
          ]
        }
      ],
      "source": [
        "# Получение предсказания автокодировщика на тренировочной и тестовой выборках\n",
        "pred_train_mnist = ae_mnist.predict(x_train)\n",
        "pred_test_mnist = ae_mnist.predict(x_test)"
      ]
    },
    {
      "cell_type": "code",
      "source": [
        "# Сравнение исходных и восстановленных картинок из тестовой выборки\n",
        "plot_images(x_test, pred_test_mnist)"
      ],
      "metadata": {
        "colab": {
          "base_uri": "https://localhost:8080/",
          "height": 373
        },
        "id": "Ovk0pVeq07TY",
        "outputId": "85cacc05-5301-4707-a104-5c0b7fa39a94"
      },
      "execution_count": 17,
      "outputs": [
        {
          "output_type": "display_data",
          "data": {
            "text/plain": [
              "<Figure size 1008x504 with 10 Axes>"
            ],
            "image/png": "[encoded data removed]"
          },
          "metadata": {
            "needs_background": "light"
          }
        }
      ]
    }
  ],
  "metadata": {
    "kernelspec": {
      "display_name": "Python 3 (ipykernel)",
      "language": "python",
      "name": "python3"
    },
    "language_info": {
      "codemirror_mode": {
        "name": "ipython",
        "version": 3
      },
      "file_extension": ".py",
      "mimetype": "text/x-python",
      "name": "python",
      "nbconvert_exporter": "python",
      "pygments_lexer": "ipython3",
      "version": "3.9.7"
    },
    "varInspector": {
      "cols": {
        "lenName": 16,
        "lenType": 16,
        "lenVar": 40
      },
      "kernels_config": {
        "python": {
          "delete_cmd_postfix": "",
          "delete_cmd_prefix": "del ",
          "library": "var_list.py",
          "varRefreshCmd": "print(var_dic_list())"
        },
        "r": {
          "delete_cmd_postfix": ") ",
          "delete_cmd_prefix": "rm(",
          "library": "var_list.r",
          "varRefreshCmd": "cat(var_dic_list()) "
        }
      },
      "types_to_exclude": [
        "module",
        "function",
        "builtin_function_or_method",
        "instance",
        "_Feature"
      ],
      "window_display": false
    },
    "colab": {
      "provenance": [],
      "toc_visible": true,
      "include_colab_link": true
    },
    "accelerator": "GPU",
    "gpuClass": "standard"
  },
  "nbformat": 4,
  "nbformat_minor": 0
}