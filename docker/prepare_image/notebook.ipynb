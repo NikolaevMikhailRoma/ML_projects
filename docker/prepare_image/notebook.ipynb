{
 "cells": [
  {
   "cell_type": "code",
   "execution_count": 5,
   "id": "294d18f5",
   "metadata": {},
   "outputs": [],
   "source": [
    "from PIL import Image                           # Обработка изображений\n",
    "import numpy as np                              # Работа с массивами\n",
    "import argparse    "
   ]
  },
  {
   "cell_type": "code",
   "execution_count": 6,
   "id": "bab499f8",
   "metadata": {},
   "outputs": [
    {
     "name": "stdout",
     "output_type": "stream",
     "text": [
      "Размер исходных данных: (341, 852, 4)\n",
      "Размер данных после преобразования: (1, 1024)\n",
      "Изображение обработано!\n"
     ]
    }
   ],
   "source": [
    "def prepare_image(path):\n",
    "    img = Image.open(path)                                    # Загружаем картинку по переданному пути\n",
    "    print(f'Размер исходных данных: {np.array(img).shape}')   # Выводим информацию о размере исходного изображения\n",
    "\n",
    "    img = img.resize((32, 32)).convert('L')                   # Приводим изображения к фиксированному размеру и переводим в оттенки серого\n",
    "    img = np.array(img)                                       # Преобразуем изображение в numpy-массив\n",
    "    img = img.reshape(1, -1)                                  # Вытягиваем в вектор\n",
    "    img = img.astype('float32') / 255.                        # Нормализуем данные\n",
    "    print(f'Размер данных после преобразования: {img.shape}') # Выводим информацию о новом размере данных\n",
    "\n",
    "    with open('prepared_image.npy', 'wb') as f:               # Создаем новый файл для записи данных\n",
    "        np.save(f, img)                                       # Записываем в файл обработанный numpy-массив\n",
    "\n",
    "    print('Изображение обработано!')\n",
    "    \n",
    "prepare_image('1.png')"
   ]
  },
  {
   "cell_type": "code",
   "execution_count": 1,
   "id": "31d92483",
   "metadata": {},
   "outputs": [
    {
     "name": "stderr",
     "output_type": "stream",
     "text": [
      "usage: ipykernel_launcher.py [-h] path\n",
      "ipykernel_launcher.py: error: unrecognized arguments: -f\n"
     ]
    },
    {
     "ename": "SystemExit",
     "evalue": "2",
     "output_type": "error",
     "traceback": [
      "An exception has occurred, use %tb to see the full traceback.\n",
      "\u001b[0;31mSystemExit\u001b[0m\u001b[0;31m:\u001b[0m 2\n"
     ]
    },
    {
     "name": "stderr",
     "output_type": "stream",
     "text": [
      "/home/nikmih/anaconda3/lib/python3.9/site-packages/IPython/core/interactiveshell.py:3465: UserWarning: To exit: use 'exit', 'quit', or Ctrl-D.\n",
      "  warn(\"To exit: use 'exit', 'quit', or Ctrl-D.\", stacklevel=1)\n"
     ]
    }
   ],
   "source": [
    "from PIL import Image                           # Обработка изображений\n",
    "import numpy as np                              # Работа с массивами\n",
    "import argparse                                 # Модуль для извлечения аргументов, передаваемых скрипту через командную строку\n",
    "\n",
    "\n",
    "def prepare_image(path):\n",
    "    img = Image.open(path)                                    # Загружаем картинку по переданному пути\n",
    "    print(f'Размер исходных данных: {np.array(img).shape}')   # Выводим информацию о размере исходного изображения\n",
    "\n",
    "    img = img.resize((32, 32)).convert('L')                   # Приводим изображения к фиксированному размеру и переводим в оттенки серого\n",
    "    img = np.array(img)                                       # Преобразуем изображение в numpy-массив\n",
    "    img = img.reshape(1, -1)                                  # Вытягиваем в вектор\n",
    "    img = img.astype('float32') / 255.                        # Нормализуем данные\n",
    "    print(f'Размер данных после преобразования: {img.shape}') # Выводим информацию о новом размере данных\n",
    "\n",
    "    with open('prepared_image.npy', 'wb') as f:               # Создаем новый файл для записи данных\n",
    "        np.save(f, img)                                       # Записываем в файл обработанный numpy-массив\n",
    "\n",
    "    print('Изображение обработано!')\n",
    "\n",
    "# Здесь потребуется дописать инструкцию, которая будет выполняться при вызове скрипта\n",
    "\n",
    "if __name__ == '__main__':\n",
    "    parser = argparse.ArgumentParser(description='Greetings') # Создаем парсер для аргументов, переданных через командную строку\n",
    "    parser.add_argument('path', type=str, help='Your path')   # Задаем один обязательный аргумент - имя\n",
    "    args = parser.parse_args()                                # Парсим аргументы\n",
    "    path = args.path\n",
    "    prepare_image(path)\n",
    "#    print('Done')                                           # Передаем имя в функцию для приветствия\n"
   ]
  }
 ],
 "metadata": {
  "kernelspec": {
   "display_name": "Python 3 (ipykernel)",
   "language": "python",
   "name": "python3"
  },
  "language_info": {
   "codemirror_mode": {
    "name": "ipython",
    "version": 3
   },
   "file_extension": ".py",
   "mimetype": "text/x-python",
   "name": "python",
   "nbconvert_exporter": "python",
   "pygments_lexer": "ipython3",
   "version": "3.9.13"
  },
  "toc": {
   "base_numbering": 1,
   "nav_menu": {},
   "number_sections": true,
   "sideBar": true,
   "skip_h1_title": false,
   "title_cell": "Table of Contents",
   "title_sidebar": "Contents",
   "toc_cell": false,
   "toc_position": {},
   "toc_section_display": true,
   "toc_window_display": false
  },
  "varInspector": {
   "cols": {
    "lenName": 16,
    "lenType": 16,
    "lenVar": 40
   },
   "kernels_config": {
    "python": {
     "delete_cmd_postfix": "",
     "delete_cmd_prefix": "del ",
     "library": "var_list.py",
     "varRefreshCmd": "print(var_dic_list())"
    },
    "r": {
     "delete_cmd_postfix": ") ",
     "delete_cmd_prefix": "rm(",
     "library": "var_list.r",
     "varRefreshCmd": "cat(var_dic_list()) "
    }
   },
   "types_to_exclude": [
    "module",
    "function",
    "builtin_function_or_method",
    "instance",
    "_Feature"
   ],
   "window_display": false
  }
 },
 "nbformat": 4,
 "nbformat_minor": 5
}
