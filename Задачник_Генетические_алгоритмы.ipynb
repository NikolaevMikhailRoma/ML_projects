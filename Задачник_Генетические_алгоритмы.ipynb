{
  "nbformat": 4,
  "nbformat_minor": 0,
  "metadata": {
    "colab": {
      "provenance": [],
      "include_colab_link": true
    },
    "kernelspec": {
      "name": "python3",
      "display_name": "Python 3"
    },
    "language_info": {
      "name": "python"
    }
  },
  "cells": [
    {
      "cell_type": "markdown",
      "metadata": {
        "id": "view-in-github",
        "colab_type": "text"
      },
      "source": [
        "<a href=\"https://colab.research.google.com/github/NikolaevMikhailRoma/ML_projects/blob/master/%D0%97%D0%B0%D0%B4%D0%B0%D1%87%D0%BD%D0%B8%D0%BA_%D0%93%D0%B5%D0%BD%D0%B5%D1%82%D0%B8%D1%87%D0%B5%D1%81%D0%BA%D0%B8%D0%B5_%D0%B0%D0%BB%D0%B3%D0%BE%D1%80%D0%B8%D1%82%D0%BC%D1%8B.ipynb\" target=\"_parent\"><img src=\"https://colab.research.google.com/assets/colab-badge.svg\" alt=\"Open In Colab\"/></a>"
      ]
    },
    {
      "cell_type": "markdown",
      "metadata": {
        "id": "4tuEUOTKE2BI"
      },
      "source": [
        "# Уровень Light\n",
        "Сделайте имитацию подбора пароля с помощью генетического алгоритма"
      ]
    },
    {
      "cell_type": "markdown",
      "source": [
        "Дополнительные пояснения к заданию:\n",
        "1. В качестве функции ошибки можете использовать вот такой подход:\n",
        "\n",
        "        def estimate_bot(bot):\n",
        "            error = len(password) \n",
        "            # в цикле проходим по каждой букве\n",
        "            # сравниваем с каждой буквой в реальном пароле\n",
        "            # при каждом совпадении вычитаем единицу из ошибки\n",
        "            for i in range(len(password)):\n",
        "               if bot[i] == password[i]: # проверяем совпадают ли буквы\n",
        "                    error -= 1 # вычитаем единицу. если совпадают\n",
        "            return bot, error\n",
        "\n",
        "    В реальных условиях такой подход естественно не сработает, поскольку мы не знаем реальный пароль. Но цель этого домашнего задания - тренировка работы с генетическими алгоритмами, а не создание взломщика паролей :)\n",
        "\n",
        "2. Сама задача может оказаться довольно сложной (в зависимости от длины исходного пароля) и потребовать значительного времени вычисления, поэтому результат с ошибкой менее 4 символов будет считаться хорошим результатом"
      ],
      "metadata": {
        "id": "PhodS1j1xpt2"
      }
    },
    {
      "cell_type": "code",
      "source": [],
      "metadata": {
        "id": "dKrYTNhqwenF"
      },
      "execution_count": null,
      "outputs": []
    }
  ]
}