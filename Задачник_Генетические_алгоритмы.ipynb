{
 "cells": [
  {
   "cell_type": "markdown",
   "metadata": {
    "id": "4tuEUOTKE2BI"
   },
   "source": [
    "# Имитация подбора пароля с помощью генетического алгоритма"
   ]
  },
  {
   "cell_type": "markdown",
   "metadata": {
    "id": "PhodS1j1xpt2"
   },
   "source": [
    "Предположим что длинна пароля 20 символов. Используется 500 символов ASCII, правая сторона пароля задается пробелом\n",
    "\n"
   ]
  },
  {
   "cell_type": "code",
   "execution_count": 242,
   "metadata": {
    "id": "c290xV3p6Pb9"
   },
   "outputs": [],
   "source": [
    "import random\n",
    "import numpy\n",
    "import matplotlib.pyplot as plt"
   ]
  },
  {
   "cell_type": "markdown",
   "metadata": {},
   "source": [
    "## Задаём пароль и проверяем корректность"
   ]
  },
  {
   "cell_type": "code",
   "execution_count": 459,
   "metadata": {},
   "outputs": [
    {
     "name": "stdout",
     "output_type": "stream",
     "text": [
      "Password:  ['a', 's', 'd', '4', '5', 'f', 'y', 'j', 'a', 'e', ' ', ' ', ' ', ' ', ' ', ' ', ' ', ' ', ' ', ' ']\n"
     ]
    }
   ],
   "source": [
    "l = 20 # длинна пароля\n",
    "\n",
    "# password = input('Введите пароль: ')\n",
    "password = 'asd45fyjae'\n",
    "\n",
    "password = [x for x in password]\n",
    "if len(password) <l:\n",
    "    [password.append(' ') for x in range(l-len(password))]\n",
    "    \n",
    "print('Password: ', password)"
   ]
  },
  {
   "cell_type": "code",
   "execution_count": 467,
   "metadata": {
    "colab": {
     "base_uri": "https://localhost:8080/"
    },
    "id": "dKrYTNhqwenF",
    "outputId": "efd911c0-c6fe-4362-f650-5d3b8df8492f"
   },
   "outputs": [
    {
     "name": "stdout",
     "output_type": "stream",
     "text": [
      "Possible values of password:  ['\\x14', '\\x15', '\\x16', '\\x17', '\\x18', '\\x19', '\\x1a', '\\x1b', '\\x1c', '\\x1d', '\\x1e', '\\x1f', ' ', '!', '\"', '#', '$', '%', '&', \"'\", '(', ')', '*', '+', ',', '-', '.', '/', '0', '1', '2', '3', '4', '5', '6', '7', '8', '9', ':', ';', '<', '=', '>', '?', '@', 'A', 'B', 'C', 'D', 'E', 'F', 'G', 'H', 'I', 'J', 'K', 'L', 'M', 'N', 'O', 'P', 'Q', 'R', 'S', 'T', 'U', 'V', 'W', 'X', 'Y', 'Z', '[', '\\\\', ']', '^', '_', '`', 'a', 'b', 'c', 'd', 'e', 'f', 'g', 'h', 'i', 'j', 'k', 'l', 'm', 'n', 'o', 'p', 'q', 'r', 's', 't', 'u', 'v', 'w', 'x', 'y', 'z', '{', '|', '}', '~', '\\x7f', '\\x80', '\\x81', '\\x82', '\\x83', '\\x84', '\\x85', '\\x86', '\\x87', '\\x88', '\\x89', '\\x8a', '\\x8b', '\\x8c', '\\x8d', '\\x8e', '\\x8f', '\\x90', '\\x91', '\\x92', '\\x93', '\\x94', '\\x95', '\\x96', '\\x97', '\\x98', '\\x99', '\\x9a', '\\x9b', '\\x9c', '\\x9d', '\\x9e', '\\x9f', '\\xa0', '¡', '¢', '£', '¤', '¥', '¦', '§', '¨', '©', 'ª', '«', '¬', '\\xad', '®', '¯', '°', '±', '²', '³', '´', 'µ', '¶', '·', '¸', '¹', 'º', '»', '¼', '½', '¾', '¿', 'À', 'Á', 'Â', 'Ã', 'Ä', 'Å', 'Æ', 'Ç', 'È', 'É', 'Ê', 'Ë', 'Ì', 'Í', 'Î', 'Ï', 'Ð', 'Ñ', 'Ò', 'Ó', 'Ô', 'Õ', 'Ö', '×', 'Ø', 'Ù', 'Ú', 'Û', 'Ü', 'Ý', 'Þ', 'ß', 'à', 'á', 'â', 'ã', 'ä', 'å', 'æ', 'ç', 'è', 'é', 'ê', 'ë', 'ì', 'í', 'î', 'ï', 'ð', 'ñ', 'ò', 'ó', 'ô', 'õ', 'ö', '÷', 'ø', 'ù', 'ú', 'û', 'ü', 'ý', 'þ', 'ÿ', 'Ā', 'ā', 'Ă', 'ă', 'Ą', 'ą', 'Ć', 'ć', 'Ĉ', 'ĉ', 'Ċ', 'ċ', 'Č', 'č', 'Ď', 'ď', 'Đ', 'đ', 'Ē', 'ē', 'Ĕ', 'ĕ', 'Ė', 'ė', 'Ę', 'ę', 'Ě', 'ě', 'Ĝ', 'ĝ', 'Ğ', 'ğ', 'Ġ', 'ġ', 'Ģ', 'ģ', 'Ĥ', 'ĥ', 'Ħ', 'ħ', 'Ĩ', 'ĩ', 'Ī', 'ī', 'Ĭ', 'ĭ', 'Į', 'į', 'İ', 'ı', 'Ĳ', 'ĳ', 'Ĵ', 'ĵ', 'Ķ', 'ķ', 'ĸ', 'Ĺ', 'ĺ', 'Ļ', 'ļ', 'Ľ', 'ľ', 'Ŀ', 'ŀ', 'Ł', 'ł', 'Ń', 'ń', 'Ņ', 'ņ', 'Ň', 'ň', 'ŉ', 'Ŋ', 'ŋ', 'Ō', 'ō', 'Ŏ', 'ŏ', 'Ő', 'ő', 'Œ', 'œ', 'Ŕ', 'ŕ', 'Ŗ', 'ŗ', 'Ř', 'ř', 'Ś', 'ś', 'Ŝ', 'ŝ', 'Ş', 'ş', 'Š', 'š', 'Ţ', 'ţ', 'Ť', 'ť', 'Ŧ', 'ŧ', 'Ũ', 'ũ', 'Ū', 'ū', 'Ŭ', 'ŭ', 'Ů', 'ů', 'Ű', 'ű', 'Ų', 'ų', 'Ŵ', 'ŵ', 'Ŷ', 'ŷ', 'Ÿ', 'Ź', 'ź', 'Ż', 'ż', 'Ž', 'ž', 'ſ', 'ƀ', 'Ɓ', 'Ƃ', 'ƃ', 'Ƅ', 'ƅ', 'Ɔ', 'Ƈ', 'ƈ', 'Ɖ', 'Ɗ', 'Ƌ', 'ƌ', 'ƍ', 'Ǝ', 'Ə', 'Ɛ', 'Ƒ', 'ƒ', 'Ɠ', 'Ɣ', 'ƕ', 'Ɩ', 'Ɨ', 'Ƙ', 'ƙ', 'ƚ', 'ƛ', 'Ɯ', 'Ɲ', 'ƞ', 'Ɵ', 'Ơ', 'ơ', 'Ƣ', 'ƣ', 'Ƥ', 'ƥ', 'Ʀ', 'Ƨ', 'ƨ', 'Ʃ', 'ƪ', 'ƫ', 'Ƭ', 'ƭ', 'Ʈ', 'Ư', 'ư', 'Ʊ', 'Ʋ', 'Ƴ', 'ƴ', 'Ƶ', 'ƶ', 'Ʒ', 'Ƹ', 'ƹ', 'ƺ', 'ƻ', 'Ƽ', 'ƽ', 'ƾ', 'ƿ', 'ǀ', 'ǁ', 'ǂ', 'ǃ', 'Ǆ', 'ǅ', 'ǆ', 'Ǉ', 'ǈ', 'ǉ', 'Ǌ', 'ǋ', 'ǌ', 'Ǎ', 'ǎ', 'Ǐ', 'ǐ', 'Ǒ', 'ǒ', 'Ǔ', 'ǔ', 'Ǖ', 'ǖ', 'Ǘ', 'ǘ', 'Ǚ', 'ǚ', 'Ǜ', 'ǜ', 'ǝ', 'Ǟ', 'ǟ', 'Ǡ', 'ǡ', 'Ǣ', 'ǣ', 'Ǥ', 'ǥ', 'Ǧ', 'ǧ', 'Ǩ', 'ǩ', 'Ǫ', 'ǫ', 'Ǭ', 'ǭ', 'Ǯ', 'ǯ', 'ǰ', 'Ǳ', 'ǲ', 'ǳ', 'Ǵ', 'ǵ', 'Ƕ', 'Ƿ', 'Ǹ', 'ǹ', 'Ǻ', 'ǻ', 'Ǽ', 'ǽ', 'Ǿ', 'ǿ', ' ']\n"
     ]
    }
   ],
   "source": [
    "# list_of_values = [i for i in values]\n",
    "list_of_values = [chr(i) for i in range(20, 512)]\n",
    "list_of_values.append(' ')\n",
    "# bot = print(random.sample(list_of_values,l))\n",
    "print('Possible values of password: ', list_of_values)\n",
    "\n",
    "for i in password:\n",
    "    if i not in list_of_values:\n",
    "        print('ERROR')"
   ]
  },
  {
   "cell_type": "markdown",
   "metadata": {},
   "source": [
    "## Giperparams"
   ]
  },
  {
   "cell_type": "code",
   "execution_count": 469,
   "metadata": {
    "id": "G9u2GVhU9R0O"
   },
   "outputs": [],
   "source": [
    "N = 100        # Общее число ботов\n",
    "NSURV = 20     # Количество выживших (столько лучших переходит в новую популяцию)\n",
    "nnew = N-NSURV # Количество новых (столько новых ботов создается)\n",
    "EPOCHS = 2000   # количество эпох\n",
    "MUT = 0.5      # коэфициент мутаций\n",
    "FREQ_MUT_CHANGE = int(EPOCHS/5 )# чатота уменьшения мутации\n",
    "\n",
    "\n",
    "eph_change_mut = [x for x in range(FREQ_MUT_CHANGE, EPOCHS, FREQ_MUT_CHANGE)] # эпохи смены коэфициента мутации\n",
    "new_mut = [MUT/x for x in range(1, int(EPOCHS/FREQ_MUT_CHANGE))]         # новый коэфициент мутаци\n",
    "\n"
   ]
  },
  {
   "cell_type": "markdown",
   "metadata": {},
   "source": [
    "## Fit and result"
   ]
  },
  {
   "cell_type": "code",
   "execution_count": 470,
   "metadata": {
    "scrolled": true
   },
   "outputs": [
    {
     "name": "stdout",
     "output_type": "stream",
     "text": [
      "400 0.3333333333333333\n",
      "800 0.2222222222222222\n",
      "1200 0.14814814814814814\n",
      "1600 0.09876543209876543\n",
      "Выполненно на эпохе:  1914\n"
     ]
    },
    {
     "data": {
      "text/plain": [
       "[<matplotlib.lines.Line2D at 0x2572aff5700>]"
      ]
     },
     "execution_count": 470,
     "metadata": {},
     "output_type": "execute_result"
    },
    {
     "data": {
      "image/png": "[encoded data removed]",
      "text/plain": [
       "<Figure size 640x480 with 1 Axes>"
      ]
     },
     "metadata": {},
     "output_type": "display_data"
    }
   ],
   "source": [
    "mut = MUT\n",
    "# trains = train.shape[0] # Количество вагонов поезда\n",
    "popul = np.ones([N, l], dtype=str)     # Двумерный массив популяции, размерностью [n, l].\n",
    "result = np.zeros(N)\n",
    "# result = np.zeros(N)\n",
    "plot_values = [] # значения для графика по среднему значению\n",
    "m = []\n",
    "# plotminval = []  # значения для графика по минимальному значению\n",
    "\n",
    "# Create first generation\n",
    "for i in range(N):\n",
    "#     print('Da')\n",
    "    popul[i,] = random.sample(list_of_values, l)\n",
    "    \n",
    "# [popul[i] = random.sample(list_of_values, l) for i in range(N)]\n",
    "next_popul = popul\n",
    "for e in range(1, EPOCHS):\n",
    "    \n",
    "    if e%FREQ_MUT_CHANGE== 0:\n",
    "        \n",
    "        mut/=1.5\n",
    "        print(e, mut)\n",
    "    result = [int(sum(next_popul[i] == password)) for i in range(N)]    # получаем результаты \n",
    "    m.append(mut*100)\n",
    "    plot_values.append(max(result))\n",
    "    if max(result) == l:\n",
    "        print('Выполненно на эпохе: ', e)\n",
    "        \n",
    "        break\n",
    "    ind = np.argsort(result) # получаем лучшие индексы\n",
    "    \n",
    "    next_popul = next_popul[ind][-NSURV:] # популяция с лучшими результатами\n",
    "    for i in range (N - NSURV): # add next population\n",
    "        first_parent = next_popul[random.randint(0, NSURV - 1)]\n",
    "        second_parent = next_popul[random.randint(0, NSURV - 1)]\n",
    "        \n",
    "        # добавляем скрещивание \n",
    "        new_bot = [first_parent[i] if random.random()>0.5 else second_parent[i] for i in range(l)]\n",
    "        # добавляем мутацию\n",
    "        new_bot = np.array([new_bot[i] if random.random()>mut else random.choice(list_of_values) for i in range(l)]).reshape((1,l))\n",
    "\n",
    "\n",
    "        \n",
    "        next_popul = np.concatenate((next_popul, new_bot), axis = 0)\n",
    "    \n",
    "    \n",
    "\n",
    "plt.plot(plot_values)\n",
    "# plt.plot(m)"
   ]
  },
  {
   "cell_type": "markdown",
   "metadata": {
    "id": "ukCORUXLEvv7"
   },
   "source": [
    "Используя генетический алгоритм, найдите корни уравнения:\n",
    "\n",
    "$f(xy)=7x^2 - y + \\frac{y^3 - x^2}{3x} + y^2 - 21x$\n",
    "\n",
    "*P.s. постарайтесь по максимуму использовать возможности библиотеки numpy для ускорения процеесса вычислений*"
   ]
  }
 ],
 "metadata": {
  "colab": {
   "provenance": []
  },
  "kernelspec": {
   "display_name": "Python 3 (ipykernel)",
   "language": "python",
   "name": "python3"
  },
  "language_info": {
   "codemirror_mode": {
    "name": "ipython",
    "version": 3
   },
   "file_extension": ".py",
   "mimetype": "text/x-python",
   "name": "python",
   "nbconvert_exporter": "python",
   "pygments_lexer": "ipython3",
   "version": "3.9.7"
  },
  "varInspector": {
   "cols": {
    "lenName": 16,
    "lenType": 16,
    "lenVar": 40
   },
   "kernels_config": {
    "python": {
     "delete_cmd_postfix": "",
     "delete_cmd_prefix": "del ",
     "library": "var_list.py",
     "varRefreshCmd": "print(var_dic_list())"
    },
    "r": {
     "delete_cmd_postfix": ") ",
     "delete_cmd_prefix": "rm(",
     "library": "var_list.r",
     "varRefreshCmd": "cat(var_dic_list()) "
    }
   },
   "types_to_exclude": [
    "module",
    "function",
    "builtin_function_or_method",
    "instance",
    "_Feature"
   ],
   "window_display": false
  }
 },
 "nbformat": 4,
 "nbformat_minor": 1
}
