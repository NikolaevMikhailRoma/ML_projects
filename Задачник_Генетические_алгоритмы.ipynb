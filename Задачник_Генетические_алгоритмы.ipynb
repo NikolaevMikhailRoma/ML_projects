{
 "cells": [
  {
   "cell_type": "markdown",
   "metadata": {
    "id": "4tuEUOTKE2BI"
   },
   "source": [
    "# Имитация подбора пароля с помощью генетического алгоритма"
   ]
  },
  {
   "cell_type": "markdown",
   "metadata": {
    "id": "PhodS1j1xpt2"
   },
   "source": [
    "Предположим что длинна пароля 20 символов. Используется 500 символов ASCII, правая сторона пароля задается пробелом\n",
    "\n"
   ]
  },
  {
   "cell_type": "code",
   "execution_count": 242,
   "metadata": {
    "id": "c290xV3p6Pb9"
   },
   "outputs": [],
   "source": [
    "import random\n",
    "import numpy\n",
    "import matplotlib.pyplot as plt"
   ]
  },
  {
   "cell_type": "markdown",
   "metadata": {},
   "source": [
    "## Задаём пароль и проверяем корректность"
   ]
  },
  {
   "cell_type": "code",
   "execution_count": 459,
   "metadata": {},
   "outputs": [
    {
     "name": "stdout",
     "output_type": "stream",
     "text": [
      "Password:  ['a', 's', 'd', '4', '5', 'f', 'y', 'j', 'a', 'e', ' ', ' ', ' ', ' ', ' ', ' ', ' ', ' ', ' ', ' ']\n"
     ]
    }
   ],
   "source": [
    "l = 20 # длинна пароля\n",
    "\n",
    "# password = input('Введите пароль: ')\n",
    "password = 'asd45fyjae'\n",
    "\n",
    "password = [x for x in password]\n",
    "if len(password) <l:\n",
    "    [password.append(' ') for x in range(l-len(password))]\n",
    "    \n",
    "print('Password: ', password)"
   ]
  },
  {
   "cell_type": "code",
   "execution_count": 467,
   "metadata": {
    "colab": {
     "base_uri": "https://localhost:8080/"
    },
    "id": "dKrYTNhqwenF",
    "outputId": "efd911c0-c6fe-4362-f650-5d3b8df8492f"
   },
   "outputs": [
    {
     "name": "stdout",
     "output_type": "stream",
     "text": [
      "Possible values of password:  ['\\x14', '\\x15', '\\x16', '\\x17', '\\x18', '\\x19', '\\x1a', '\\x1b', '\\x1c', '\\x1d', '\\x1e', '\\x1f', ' ', '!', '\"', '#', '$', '%', '&', \"'\", '(', ')', '*', '+', ',', '-', '.', '/', '0', '1', '2', '3', '4', '5', '6', '7', '8', '9', ':', ';', '<', '=', '>', '?', '@', 'A', 'B', 'C', 'D', 'E', 'F', 'G', 'H', 'I', 'J', 'K', 'L', 'M', 'N', 'O', 'P', 'Q', 'R', 'S', 'T', 'U', 'V', 'W', 'X', 'Y', 'Z', '[', '\\\\', ']', '^', '_', '`', 'a', 'b', 'c', 'd', 'e', 'f', 'g', 'h', 'i', 'j', 'k', 'l', 'm', 'n', 'o', 'p', 'q', 'r', 's', 't', 'u', 'v', 'w', 'x', 'y', 'z', '{', '|', '}', '~', '\\x7f', '\\x80', '\\x81', '\\x82', '\\x83', '\\x84', '\\x85', '\\x86', '\\x87', '\\x88', '\\x89', '\\x8a', '\\x8b', '\\x8c', '\\x8d', '\\x8e', '\\x8f', '\\x90', '\\x91', '\\x92', '\\x93', '\\x94', '\\x95', '\\x96', '\\x97', '\\x98', '\\x99', '\\x9a', '\\x9b', '\\x9c', '\\x9d', '\\x9e', '\\x9f', '\\xa0', '¡', '¢', '£', '¤', '¥', '¦', '§', '¨', '©', 'ª', '«', '¬', '\\xad', '®', '¯', '°', '±', '²', '³', '´', 'µ', '¶', '·', '¸', '¹', 'º', '»', '¼', '½', '¾', '¿', 'À', 'Á', 'Â', 'Ã', 'Ä', 'Å', 'Æ', 'Ç', 'È', 'É', 'Ê', 'Ë', 'Ì', 'Í', 'Î', 'Ï', 'Ð', 'Ñ', 'Ò', 'Ó', 'Ô', 'Õ', 'Ö', '×', 'Ø', 'Ù', 'Ú', 'Û', 'Ü', 'Ý', 'Þ', 'ß', 'à', 'á', 'â', 'ã', 'ä', 'å', 'æ', 'ç', 'è', 'é', 'ê', 'ë', 'ì', 'í', 'î', 'ï', 'ð', 'ñ', 'ò', 'ó', 'ô', 'õ', 'ö', '÷', 'ø', 'ù', 'ú', 'û', 'ü', 'ý', 'þ', 'ÿ', 'Ā', 'ā', 'Ă', 'ă', 'Ą', 'ą', 'Ć', 'ć', 'Ĉ', 'ĉ', 'Ċ', 'ċ', 'Č', 'č', 'Ď', 'ď', 'Đ', 'đ', 'Ē', 'ē', 'Ĕ', 'ĕ', 'Ė', 'ė', 'Ę', 'ę', 'Ě', 'ě', 'Ĝ', 'ĝ', 'Ğ', 'ğ', 'Ġ', 'ġ', 'Ģ', 'ģ', 'Ĥ', 'ĥ', 'Ħ', 'ħ', 'Ĩ', 'ĩ', 'Ī', 'ī', 'Ĭ', 'ĭ', 'Į', 'į', 'İ', 'ı', 'Ĳ', 'ĳ', 'Ĵ', 'ĵ', 'Ķ', 'ķ', 'ĸ', 'Ĺ', 'ĺ', 'Ļ', 'ļ', 'Ľ', 'ľ', 'Ŀ', 'ŀ', 'Ł', 'ł', 'Ń', 'ń', 'Ņ', 'ņ', 'Ň', 'ň', 'ŉ', 'Ŋ', 'ŋ', 'Ō', 'ō', 'Ŏ', 'ŏ', 'Ő', 'ő', 'Œ', 'œ', 'Ŕ', 'ŕ', 'Ŗ', 'ŗ', 'Ř', 'ř', 'Ś', 'ś', 'Ŝ', 'ŝ', 'Ş', 'ş', 'Š', 'š', 'Ţ', 'ţ', 'Ť', 'ť', 'Ŧ', 'ŧ', 'Ũ', 'ũ', 'Ū', 'ū', 'Ŭ', 'ŭ', 'Ů', 'ů', 'Ű', 'ű', 'Ų', 'ų', 'Ŵ', 'ŵ', 'Ŷ', 'ŷ', 'Ÿ', 'Ź', 'ź', 'Ż', 'ż', 'Ž', 'ž', 'ſ', 'ƀ', 'Ɓ', 'Ƃ', 'ƃ', 'Ƅ', 'ƅ', 'Ɔ', 'Ƈ', 'ƈ', 'Ɖ', 'Ɗ', 'Ƌ', 'ƌ', 'ƍ', 'Ǝ', 'Ə', 'Ɛ', 'Ƒ', 'ƒ', 'Ɠ', 'Ɣ', 'ƕ', 'Ɩ', 'Ɨ', 'Ƙ', 'ƙ', 'ƚ', 'ƛ', 'Ɯ', 'Ɲ', 'ƞ', 'Ɵ', 'Ơ', 'ơ', 'Ƣ', 'ƣ', 'Ƥ', 'ƥ', 'Ʀ', 'Ƨ', 'ƨ', 'Ʃ', 'ƪ', 'ƫ', 'Ƭ', 'ƭ', 'Ʈ', 'Ư', 'ư', 'Ʊ', 'Ʋ', 'Ƴ', 'ƴ', 'Ƶ', 'ƶ', 'Ʒ', 'Ƹ', 'ƹ', 'ƺ', 'ƻ', 'Ƽ', 'ƽ', 'ƾ', 'ƿ', 'ǀ', 'ǁ', 'ǂ', 'ǃ', 'Ǆ', 'ǅ', 'ǆ', 'Ǉ', 'ǈ', 'ǉ', 'Ǌ', 'ǋ', 'ǌ', 'Ǎ', 'ǎ', 'Ǐ', 'ǐ', 'Ǒ', 'ǒ', 'Ǔ', 'ǔ', 'Ǖ', 'ǖ', 'Ǘ', 'ǘ', 'Ǚ', 'ǚ', 'Ǜ', 'ǜ', 'ǝ', 'Ǟ', 'ǟ', 'Ǡ', 'ǡ', 'Ǣ', 'ǣ', 'Ǥ', 'ǥ', 'Ǧ', 'ǧ', 'Ǩ', 'ǩ', 'Ǫ', 'ǫ', 'Ǭ', 'ǭ', 'Ǯ', 'ǯ', 'ǰ', 'Ǳ', 'ǲ', 'ǳ', 'Ǵ', 'ǵ', 'Ƕ', 'Ƿ', 'Ǹ', 'ǹ', 'Ǻ', 'ǻ', 'Ǽ', 'ǽ', 'Ǿ', 'ǿ', ' ']\n"
     ]
    }
   ],
   "source": [
    "# list_of_values = [i for i in values]\n",
    "list_of_values = [chr(i) for i in range(20, 512)]\n",
    "list_of_values.append(' ')\n",
    "# bot = print(random.sample(list_of_values,l))\n",
    "print('Possible values of password: ', list_of_values)\n",
    "\n",
    "for i in password:\n",
    "    if i not in list_of_values:\n",
    "        print('ERROR')"
   ]
  },
  {
   "cell_type": "markdown",
   "metadata": {},
   "source": [
    "## Giperparams"
   ]
  },
  {
   "cell_type": "code",
   "execution_count": 469,
   "metadata": {
    "id": "G9u2GVhU9R0O"
   },
   "outputs": [],
   "source": [
    "N = 100        # Общее число ботов\n",
    "NSURV = 20     # Количество выживших (столько лучших переходит в новую популяцию)\n",
    "nnew = N-NSURV # Количество новых (столько новых ботов создается)\n",
    "EPOCHS = 2000   # количество эпох\n",
    "MUT = 0.5      # коэфициент мутаций\n",
    "FREQ_MUT_CHANGE = int(EPOCHS/5 )# чатота уменьшения мутации\n",
    "\n",
    "\n",
    "eph_change_mut = [x for x in range(FREQ_MUT_CHANGE, EPOCHS, FREQ_MUT_CHANGE)] # эпохи смены коэфициента мутации\n",
    "new_mut = [MUT/x for x in range(1, int(EPOCHS/FREQ_MUT_CHANGE))]         # новый коэфициент мутаци\n",
    "\n"
   ]
  },
  {
   "cell_type": "markdown",
   "metadata": {},
   "source": [
    "## Fit and result"
   ]
  },
  {
   "cell_type": "code",
   "execution_count": 476,
   "metadata": {
    "scrolled": true
   },
   "outputs": [
    {
     "name": "stdout",
     "output_type": "stream",
     "text": [
      "400 0.3333333333333333\n",
      "800 0.2222222222222222\n",
      "1200 0.14814814814814814\n",
      "Выполненно на эпохе:  1214\n"
     ]
    },
    {
     "data": {
      "text/plain": [
       "[<matplotlib.lines.Line2D at 0x2572b080dc0>]"
      ]
     },
     "execution_count": 476,
     "metadata": {},
     "output_type": "execute_result"
    },
    {
     "data": {
      "image/png": "[encoded data removed]",
      "text/plain": [
       "<Figure size 640x480 with 1 Axes>"
      ]
     },
     "metadata": {},
     "output_type": "display_data"
    }
   ],
   "source": [
    "mut = MUT\n",
    "# trains = train.shape[0] # Количество вагонов поезда\n",
    "popul = np.ones([N, l], dtype=str)     # Двумерный массив популяции, размерностью [n, l].\n",
    "result = np.zeros(N)\n",
    "# result = np.zeros(N)\n",
    "plot_values = [] # значения для графика по среднему значению\n",
    "m = []\n",
    "# plotminval = []  # значения для графика по минимальному значению\n",
    "\n",
    "# Create first generation\n",
    "for i in range(N):\n",
    "#     print('Da')\n",
    "    popul[i,] = random.sample(list_of_values, l)\n",
    "# [popul[i] = random.sample(list_of_values, l) for i in range(N)]\n",
    "next_popul = popul\n",
    "for e in range(1, EPOCHS):\n",
    "    \n",
    "    if e%FREQ_MUT_CHANGE== 0:\n",
    "        \n",
    "        mut/=1.5\n",
    "        print(e, mut)\n",
    "    result = [int(sum(next_popul[i] == password)) for i in range(N)]    # получаем результаты \n",
    "    m.append(mut*100)\n",
    "    plot_values.append(max(result))\n",
    "    if max(result) == l:\n",
    "        print('Выполненно на эпохе: ', e)\n",
    "        \n",
    "        break\n",
    "    ind = np.argsort(result) # получаем лучшие индексы\n",
    "    \n",
    "    next_popul = next_popul[ind][-NSURV:] # популяция с лучшими результатами\n",
    "    for i in range (N - NSURV): # add next population\n",
    "        first_parent = next_popul[random.randint(0, NSURV - 1)]\n",
    "        second_parent = next_popul[random.randint(0, NSURV - 1)]\n",
    "        \n",
    "        # добавляем скрещивание \n",
    "        new_bot = [first_parent[i] if random.random()>0.5 else second_parent[i] for i in range(l)]\n",
    "        # добавляем мутацию\n",
    "        new_bot = np.array([new_bot[i] if random.random()>mut else random.choice(list_of_values) for i in range(l)]).reshape((1,l))\n",
    "\n",
    "\n",
    "        \n",
    "        next_popul = np.concatenate((next_popul, new_bot), axis = 0)\n",
    "    \n",
    "    \n",
    "\n",
    "plt.plot(plot_values)\n",
    "# plt.plot(m)"
   ]
  },
  {
   "cell_type": "code",
   "execution_count": 477,
   "metadata": {},
   "outputs": [
    {
     "data": {
      "text/plain": [
       "(100, 20)"
      ]
     },
     "execution_count": 477,
     "metadata": {},
     "output_type": "execute_result"
    }
   ],
   "source": [
    "popul.shape"
   ]
  },
  {
   "cell_type": "markdown",
   "metadata": {},
   "source": [
    "# Решение нелинейного уравнения"
   ]
  },
  {
   "cell_type": "markdown",
   "metadata": {
    "id": "ukCORUXLEvv7"
   },
   "source": [
    "\n",
    "\n",
    "$f(xy)=7x^2 - y + \\frac{y^3 - x^2}{3x} + y^2 - 21x$\n"
   ]
  },
  {
   "cell_type": "markdown",
   "metadata": {},
   "source": [
    "## giperparams"
   ]
  },
  {
   "cell_type": "code",
   "execution_count": 557,
   "metadata": {},
   "outputs": [],
   "source": [
    "N = 100        # Общее число ботов\n",
    "NSURV = 20     # Количество выживших (столько лучших переходит в новую популяцию)\n",
    "nnew = N-NSURV # Количество новых (столько новых ботов создается)\n",
    "EPOCHS = 50000   # количество эпох\n",
    "er = int(EPOCHS/10)\n",
    "# BIG_EPOCHS\n",
    "MUT = 1      # коэфициент мутаций\n",
    "FREQ_MUT_CHANGE = int(er/25 )# чатота уменьшения мутации\n",
    "l=2 # кол-во координат"
   ]
  },
  {
   "cell_type": "code",
   "execution_count": 556,
   "metadata": {},
   "outputs": [
    {
     "name": "stdout",
     "output_type": "stream",
     "text": [
      "(100, 2) (100,) [48 15 64 60 19 33 94 77 57 82 86 56 75 58 74 35 88 71 83 39 63 70 97 76\n",
      " 96  0 41 93 79 69 51 72 91 22  6 46 12 20 26 34 59  5 25 61 55 38 37  3\n",
      " 67 32 65 52 54 49 84 68 95 30 85 66 31 21 99 50 24 17  7 98 40 14 29  1\n",
      " 23 36  4 27 43  9 53 28 11 78 92 87 90 89 62 45 13  8 81 80 47 16 42 73\n",
      "  2 44 10 18]\n"
     ]
    }
   ],
   "source": [
    "popul = np.random.rand(N, l)/np.random.rand(N, l)     # Двумерный массив популяции, размерностью [n, l].\n",
    "result = np.array([my_evaluate(x,y) for x,y in popul])\n",
    "\n",
    "ind = np.argsort(result) # получаем лучшие индексы\n",
    "print(popul.shape, result.shape, ind)\n",
    "\n",
    "next_popul = popul[ind][:NSURV] # популяция с лучшими результатами"
   ]
  },
  {
   "cell_type": "markdown",
   "metadata": {},
   "source": [
    "## Fit and result.\n",
    "решение достаточно примитивное, но пока оставим"
   ]
  },
  {
   "cell_type": "code",
   "execution_count": 559,
   "metadata": {},
   "outputs": [
    {
     "name": "stdout",
     "output_type": "stream",
     "text": [
      "Найденно решение выполненно на эпохе: 1306 решение: [0.09932712 1.92510551] результат: 7.0866535413216525e-06\n",
      "Найденно решение выполненно на эпохе: 1607 решение: [0.00946621 1.16567825] результат: 3.802139670894267e-05\n",
      "Найденно решение выполненно на эпохе: 2674 решение: [0.13111684 2.07843419] результат: 6.3298777006615126e-06\n",
      "Найденно решение выполненно на эпохе: 5548 решение: [-0.00396919  0.90925152] результат: 4.442989124953112e-05\n",
      "Найденно решение выполненно на эпохе: 15300 решение: [1.2099326  2.92682779] результат: 8.586937264354333e-05\n",
      "Найденно решение выполненно на эпохе: 15829 решение: [0.15508748 2.17551522] результат: 8.2266692339239e-05\n",
      "Найденно решение выполненно на эпохе: 17330 решение: [3.63174658 0.10594572] результат: 4.823974225587335e-05\n",
      "Найденно решение выполненно на эпохе: 20546 решение: [0.06761117 1.73314216] результат: 2.8296199808597322e-05\n",
      "Найденно решение выполненно на эпохе: 21186 решение: [0.71144466 2.92060161] результат: 3.431018016541998e-05\n",
      "Найденно решение выполненно на эпохе: 21983 решение: [0.06011599 1.67995073] результат: 8.065933619283427e-05\n",
      "Найденно решение выполненно на эпохе: 36191 решение: [-0.01158676  0.58086828] результат: 4.490860217631898e-05\n",
      "Найденно решение выполненно на эпохе: 37703 решение: [0.071561   1.75976232] результат: 6.303032060706037e-05\n",
      "Найденно решение выполненно на эпохе: 41008 решение: [1.74723305 2.75986914] результат: 8.29659021661655e-05\n",
      "Найденно решение выполненно на эпохе: 41226 решение: [0.14109012 2.1205126 ] результат: 1.0722852366029656e-05\n",
      "Найденно решение выполненно на эпохе: 41917 решение: [1.20995683 2.92682779] результат: 1.7228834529703363e-05\n",
      "Найденно решение выполненно на эпохе: 42318 решение: [0.08005421 1.81418192] результат: 4.1623574029925337e-05\n",
      "Найденно решение выполненно на эпохе: 45248 решение: [0.73374679 2.92682779] результат: 2.399774153616363e-05\n"
     ]
    },
    {
     "data": {
      "text/plain": [
       "<matplotlib.collections.PathCollection at 0x257317e1670>"
      ]
     },
     "execution_count": 559,
     "metadata": {},
     "output_type": "execute_result"
    },
    {
     "data": {
      "image/png": "[encoded data removed]",
      "text/plain": [
       "<Figure size 640x480 with 1 Axes>"
      ]
     },
     "metadata": {},
     "output_type": "display_data"
    }
   ],
   "source": [
    "mut = MUT\n",
    "plot_values = []\n",
    "# initialization\n",
    "def my_evaluate(x,y):\n",
    "    answer = np.abs(7*x**2-y+(y**3-x**2)/3*x+y**2-21*x)\n",
    "    return answer\n",
    "\n",
    "popul = np.random.rand(N, l)/np.random.rand(N, l)     # Двумерный массив популяции, размерностью [n, l].\n",
    "result = np.array([my_evaluate(x,y) for x,y in popul])\n",
    "\n",
    "answers = []\n",
    "for e in range(1, EPOCHS):\n",
    "    \n",
    "    if e%FREQ_MUT_CHANGE== 0:\n",
    "        \n",
    "        mut/=1.5\n",
    "#         print('Эпока: {}, коэффициент мутации{}'.format(e, mut))\n",
    "    \n",
    "    m.append(mut*100)\n",
    "    plot_values.append(min(result))\n",
    "    \n",
    "    if e%er== 0:\n",
    "        mut = MUT\n",
    "        popul = np.random.rand(NSURV, l)/np.random.rand(NSURV, l)     # Двумерный массив популяции, размерностью [n, l].\n",
    "        result = np.array([my_evaluate(x,y) for x,y in popul])    \n",
    "    \n",
    "    result = np.array([my_evaluate(x,y) for x,y in popul])\n",
    "    ind = np.argsort(result) # получаем лучшие индексы\n",
    "    popul = popul[ind][:NSURV] # популяция с лучшими результатами\n",
    "    \n",
    "    ###### add выход из цикла\n",
    "    if min(result) < 0.0001:\n",
    "        \n",
    "        print('Найденно решение выполненно на эпохе:', e, 'решение:', popul[0], 'результат:', my_evaluate(popul[0,0], popul[0,1]))\n",
    "        answers.append(list(popul[0]))\n",
    "        mut = MUT\n",
    "        popul = np.random.rand(NSURV, l)/np.random.rand(NSURV, l)     # Двумерный массив популяции, размерностью [n, l].\n",
    "        result = np.array([my_evaluate(x,y) for x,y in popul])\n",
    "#         break\n",
    "    #########\n",
    "    \n",
    "    for i in range (N - NSURV): # add next population\n",
    "        first_parent = next_popul[random.randint(0, NSURV - 1)]\n",
    "        second_parent = next_popul[random.randint(0, NSURV - 1)]\n",
    "        \n",
    "        new_bot = [0., 0.]\n",
    "        \n",
    "        # добавляем скрещивание \n",
    "        \n",
    "        new_bot = [first_parent[i] if random.random()>0.5 else second_parent[i] for i in range(l)]\n",
    "        # добавляем мутацию\n",
    "        new_bot = np.array([new_bot[i] if random.random()>mut else new_bot[i]*random.random()/random.random()+0.5-random.random() for i in range(l)]).reshape((1,l))\n",
    "        \n",
    "        popul = np.concatenate((popul, new_bot), axis = 0)\n",
    "    \n",
    "    \n",
    "# plt.plot(plot_values)\n",
    "plt.scatter(np.array(answers)[:, 0], np.array(answers)[:, 1])\n",
    "# popul.shape, result.shape"
   ]
  },
  {
   "cell_type": "code",
   "execution_count": 554,
   "metadata": {},
   "outputs": [
    {
     "data": {
      "text/plain": [
       "<matplotlib.collections.PathCollection at 0x257314c6220>"
      ]
     },
     "execution_count": 554,
     "metadata": {},
     "output_type": "execute_result"
    },
    {
     "data": {
      "image/png": "[encoded data removed]",
      "text/plain": [
       "<Figure size 640x480 with 1 Axes>"
      ]
     },
     "metadata": {},
     "output_type": "display_data"
    }
   ],
   "source": [
    "# answers\n",
    "np.array(answers)[:, 1]\n",
    "plt.scatter(np.array(answers)[:, 0], np.array(answers)[:, 1])"
   ]
  },
  {
   "cell_type": "code",
   "execution_count": 547,
   "metadata": {},
   "outputs": [
    {
     "data": {
      "text/plain": [
       "array([1.48249153, 0.0622149 , 0.53986706, 0.11283212, 0.53980891,\n",
       "       1.44255734, 1.04303505])"
      ]
     },
     "execution_count": 547,
     "metadata": {},
     "output_type": "execute_result"
    }
   ],
   "source": [
    "np.array(answers)[:, 1]"
   ]
  },
  {
   "cell_type": "code",
   "execution_count": null,
   "metadata": {},
   "outputs": [],
   "source": [
    "next_popul = popul\n",
    "for e in range(1, EPOCHS):\n",
    "    \n",
    "    if e%FREQ_MUT_CHANGE== 0:\n",
    "        \n",
    "        mut/=1.5\n",
    "        print(e, mut)\n",
    "    result = [int(sum(next_popul[i] == password)) for i in range(N)]    # получаем результаты \n",
    "    m.append(mut*100)\n",
    "    plot_values.append(max(result))\n",
    "    if max(result) == l:\n",
    "        print('Выполненно на эпохе: ', e)\n",
    "        \n",
    "        break\n",
    "    ind = np.argsort(result) # получаем лучшие индексы\n",
    "    \n",
    "    next_popul = next_popul[ind][-NSURV:] # популяция с лучшими результатами\n",
    "    for i in range (N - NSURV): # add next population\n",
    "        first_parent = next_popul[random.randint(0, NSURV - 1)]\n",
    "        second_parent = next_popul[random.randint(0, NSURV - 1)]\n",
    "        \n",
    "        # добавляем скрещивание \n",
    "        new_bot = [first_parent[i] if random.random()>0.5 else second_parent[i] for i in range(l)]\n",
    "        # добавляем мутацию\n",
    "        new_bot = np.array([new_bot[i] if random.random()>mut else random.choice(list_of_values) for i in range(l)]).reshape((1,l))\n",
    "\n",
    "\n",
    "        \n",
    "        next_popul = np.concatenate((next_popul, new_bot), axis = 0)\n",
    "    \n",
    "    \n",
    "\n",
    "plt.plot(plot_values)"
   ]
  },
  {
   "cell_type": "code",
   "execution_count": 480,
   "metadata": {},
   "outputs": [
    {
     "data": {
      "text/plain": [
       "(100, 2)"
      ]
     },
     "execution_count": 480,
     "metadata": {},
     "output_type": "execute_result"
    }
   ],
   "source": [
    "for e in range(1, EPOCHS):\n",
    "    \n",
    "    if e%FREQ_MUT_CHANGE== 0:\n",
    "        \n",
    "        mut/=1.5\n",
    "        print(e, mut)\n",
    "    result = [int(sum(next_popul[i] == password)) for i in range(N)]    # получаем результаты \n",
    "    m.append(mut*100)\n",
    "    plot_values.append(max(result))\n",
    "    if max(result) == l:\n",
    "        print('Выполненно на эпохе: ', e)\n",
    "        \n",
    "        break\n",
    "    ind = np.argsort(result) # получаем лучшие индексы\n",
    "    \n",
    "    next_popul = next_popul[ind][-NSURV:] # популяция с лучшими результатами\n",
    "    for i in range (N - NSURV): # add next population\n",
    "        first_parent = next_popul[random.randint(0, NSURV - 1)]\n",
    "        second_parent = next_popul[random.randint(0, NSURV - 1)]\n",
    "        \n",
    "        # добавляем скрещивание \n",
    "        new_bot = [first_parent[i] if random.random()>0.5 else second_parent[i] for i in range(l)]\n",
    "        # добавляем мутацию\n",
    "        new_bot = np.array([new_bot[i] if random.random()>mut else random.choice(list_of_values) for i in range(l)]).reshape((1,l))\n",
    "\n",
    "\n",
    "        \n",
    "        next_popul = np.concatenate((next_popul, new_bot), axis = 0)\n",
    "    \n",
    "    \n",
    "\n",
    "plt.plot(plot_values)\n"
   ]
  }
 ],
 "metadata": {
  "colab": {
   "provenance": []
  },
  "kernelspec": {
   "display_name": "Python 3 (ipykernel)",
   "language": "python",
   "name": "python3"
  },
  "language_info": {
   "codemirror_mode": {
    "name": "ipython",
    "version": 3
   },
   "file_extension": ".py",
   "mimetype": "text/x-python",
   "name": "python",
   "nbconvert_exporter": "python",
   "pygments_lexer": "ipython3",
   "version": "3.9.7"
  },
  "varInspector": {
   "cols": {
    "lenName": 16,
    "lenType": 16,
    "lenVar": 40
   },
   "kernels_config": {
    "python": {
     "delete_cmd_postfix": "",
     "delete_cmd_prefix": "del ",
     "library": "var_list.py",
     "varRefreshCmd": "print(var_dic_list())"
    },
    "r": {
     "delete_cmd_postfix": ") ",
     "delete_cmd_prefix": "rm(",
     "library": "var_list.r",
     "varRefreshCmd": "cat(var_dic_list()) "
    }
   },
   "types_to_exclude": [
    "module",
    "function",
    "builtin_function_or_method",
    "instance",
    "_Feature"
   ],
   "window_display": false
  }
 },
 "nbformat": 4,
 "nbformat_minor": 1
}
