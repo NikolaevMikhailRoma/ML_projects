{
  "cells": [
    {
      "cell_type": "markdown",
      "metadata": {
        "id": "4tuEUOTKE2BI"
      },
      "source": [
        "# Имитация подбора пароля с помощью генетического алгоритма"
      ]
    },
    {
      "cell_type": "markdown",
      "metadata": {
        "id": "PhodS1j1xpt2"
      },
      "source": [
        "Предположим что длинна пароля 20 символов. Используется 500 символов ASCII, правая сторона пароля задается пробелом\n",
        "\n"
      ]
    },
    {
      "cell_type": "code",
      "execution_count": null,
      "metadata": {
        "id": "c290xV3p6Pb9"
      },
      "outputs": [],
      "source": [
        "import random\n",
        "import numpy\n",
        "import matplotlib.pyplot as plt"
      ]
    },
    {
      "cell_type": "markdown",
      "metadata": {
        "id": "fVJiVvCnr48a"
      },
      "source": [
        "## Задаём пароль и проверяем корректность"
      ]
    },
    {
      "cell_type": "code",
      "execution_count": null,
      "metadata": {
        "id": "kaEKLOKhr48a",
        "outputId": "353570b0-fdc3-41dd-f19e-b2b6c7434da9"
      },
      "outputs": [
        {
          "name": "stdout",
          "output_type": "stream",
          "text": [
            "Password:  ['a', 's', 'd', '4', '5', 'f', 'y', 'j', 'a', 'e', ' ', ' ', ' ', ' ', ' ', ' ', ' ', ' ', ' ', ' ']\n"
          ]
        }
      ],
      "source": [
        "l = 20 # длинна пароля\n",
        "\n",
        "# password = input('Введите пароль: ')\n",
        "password = 'asd45fyjae'\n",
        "\n",
        "password = [x for x in password]\n",
        "if len(password) <l:\n",
        "    [password.append(' ') for x in range(l-len(password))]\n",
        "    \n",
        "print('Password: ', password)"
      ]
    },
    {
      "cell_type": "code",
      "execution_count": null,
      "metadata": {
        "colab": {
          "base_uri": "https://localhost:8080/"
        },
        "id": "dKrYTNhqwenF",
        "outputId": "efd911c0-c6fe-4362-f650-5d3b8df8492f"
      },
      "outputs": [
        {
          "name": "stdout",
          "output_type": "stream",
          "text": [
            "Possible values of password:  ['\\x14', '\\x15', '\\x16', '\\x17', '\\x18', '\\x19', '\\x1a', '\\x1b', '\\x1c', '\\x1d', '\\x1e', '\\x1f', ' ', '!', '\"', '#', '$', '%', '&', \"'\", '(', ')', '*', '+', ',', '-', '.', '/', '0', '1', '2', '3', '4', '5', '6', '7', '8', '9', ':', ';', '<', '=', '>', '?', '@', 'A', 'B', 'C', 'D', 'E', 'F', 'G', 'H', 'I', 'J', 'K', 'L', 'M', 'N', 'O', 'P', 'Q', 'R', 'S', 'T', 'U', 'V', 'W', 'X', 'Y', 'Z', '[', '\\\\', ']', '^', '_', '`', 'a', 'b', 'c', 'd', 'e', 'f', 'g', 'h', 'i', 'j', 'k', 'l', 'm', 'n', 'o', 'p', 'q', 'r', 's', 't', 'u', 'v', 'w', 'x', 'y', 'z', '{', '|', '}', '~', '\\x7f', '\\x80', '\\x81', '\\x82', '\\x83', '\\x84', '\\x85', '\\x86', '\\x87', '\\x88', '\\x89', '\\x8a', '\\x8b', '\\x8c', '\\x8d', '\\x8e', '\\x8f', '\\x90', '\\x91', '\\x92', '\\x93', '\\x94', '\\x95', '\\x96', '\\x97', '\\x98', '\\x99', '\\x9a', '\\x9b', '\\x9c', '\\x9d', '\\x9e', '\\x9f', '\\xa0', '¡', '¢', '£', '¤', '¥', '¦', '§', '¨', '©', 'ª', '«', '¬', '\\xad', '®', '¯', '°', '±', '²', '³', '´', 'µ', '¶', '·', '¸', '¹', 'º', '»', '¼', '½', '¾', '¿', 'À', 'Á', 'Â', 'Ã', 'Ä', 'Å', 'Æ', 'Ç', 'È', 'É', 'Ê', 'Ë', 'Ì', 'Í', 'Î', 'Ï', 'Ð', 'Ñ', 'Ò', 'Ó', 'Ô', 'Õ', 'Ö', '×', 'Ø', 'Ù', 'Ú', 'Û', 'Ü', 'Ý', 'Þ', 'ß', 'à', 'á', 'â', 'ã', 'ä', 'å', 'æ', 'ç', 'è', 'é', 'ê', 'ë', 'ì', 'í', 'î', 'ï', 'ð', 'ñ', 'ò', 'ó', 'ô', 'õ', 'ö', '÷', 'ø', 'ù', 'ú', 'û', 'ü', 'ý', 'þ', 'ÿ', 'Ā', 'ā', 'Ă', 'ă', 'Ą', 'ą', 'Ć', 'ć', 'Ĉ', 'ĉ', 'Ċ', 'ċ', 'Č', 'č', 'Ď', 'ď', 'Đ', 'đ', 'Ē', 'ē', 'Ĕ', 'ĕ', 'Ė', 'ė', 'Ę', 'ę', 'Ě', 'ě', 'Ĝ', 'ĝ', 'Ğ', 'ğ', 'Ġ', 'ġ', 'Ģ', 'ģ', 'Ĥ', 'ĥ', 'Ħ', 'ħ', 'Ĩ', 'ĩ', 'Ī', 'ī', 'Ĭ', 'ĭ', 'Į', 'į', 'İ', 'ı', 'Ĳ', 'ĳ', 'Ĵ', 'ĵ', 'Ķ', 'ķ', 'ĸ', 'Ĺ', 'ĺ', 'Ļ', 'ļ', 'Ľ', 'ľ', 'Ŀ', 'ŀ', 'Ł', 'ł', 'Ń', 'ń', 'Ņ', 'ņ', 'Ň', 'ň', 'ŉ', 'Ŋ', 'ŋ', 'Ō', 'ō', 'Ŏ', 'ŏ', 'Ő', 'ő', 'Œ', 'œ', 'Ŕ', 'ŕ', 'Ŗ', 'ŗ', 'Ř', 'ř', 'Ś', 'ś', 'Ŝ', 'ŝ', 'Ş', 'ş', 'Š', 'š', 'Ţ', 'ţ', 'Ť', 'ť', 'Ŧ', 'ŧ', 'Ũ', 'ũ', 'Ū', 'ū', 'Ŭ', 'ŭ', 'Ů', 'ů', 'Ű', 'ű', 'Ų', 'ų', 'Ŵ', 'ŵ', 'Ŷ', 'ŷ', 'Ÿ', 'Ź', 'ź', 'Ż', 'ż', 'Ž', 'ž', 'ſ', 'ƀ', 'Ɓ', 'Ƃ', 'ƃ', 'Ƅ', 'ƅ', 'Ɔ', 'Ƈ', 'ƈ', 'Ɖ', 'Ɗ', 'Ƌ', 'ƌ', 'ƍ', 'Ǝ', 'Ə', 'Ɛ', 'Ƒ', 'ƒ', 'Ɠ', 'Ɣ', 'ƕ', 'Ɩ', 'Ɨ', 'Ƙ', 'ƙ', 'ƚ', 'ƛ', 'Ɯ', 'Ɲ', 'ƞ', 'Ɵ', 'Ơ', 'ơ', 'Ƣ', 'ƣ', 'Ƥ', 'ƥ', 'Ʀ', 'Ƨ', 'ƨ', 'Ʃ', 'ƪ', 'ƫ', 'Ƭ', 'ƭ', 'Ʈ', 'Ư', 'ư', 'Ʊ', 'Ʋ', 'Ƴ', 'ƴ', 'Ƶ', 'ƶ', 'Ʒ', 'Ƹ', 'ƹ', 'ƺ', 'ƻ', 'Ƽ', 'ƽ', 'ƾ', 'ƿ', 'ǀ', 'ǁ', 'ǂ', 'ǃ', 'Ǆ', 'ǅ', 'ǆ', 'Ǉ', 'ǈ', 'ǉ', 'Ǌ', 'ǋ', 'ǌ', 'Ǎ', 'ǎ', 'Ǐ', 'ǐ', 'Ǒ', 'ǒ', 'Ǔ', 'ǔ', 'Ǖ', 'ǖ', 'Ǘ', 'ǘ', 'Ǚ', 'ǚ', 'Ǜ', 'ǜ', 'ǝ', 'Ǟ', 'ǟ', 'Ǡ', 'ǡ', 'Ǣ', 'ǣ', 'Ǥ', 'ǥ', 'Ǧ', 'ǧ', 'Ǩ', 'ǩ', 'Ǫ', 'ǫ', 'Ǭ', 'ǭ', 'Ǯ', 'ǯ', 'ǰ', 'Ǳ', 'ǲ', 'ǳ', 'Ǵ', 'ǵ', 'Ƕ', 'Ƿ', 'Ǹ', 'ǹ', 'Ǻ', 'ǻ', 'Ǽ', 'ǽ', 'Ǿ', 'ǿ', ' ']\n"
          ]
        }
      ],
      "source": [
        "# list_of_values = [i for i in values]\n",
        "list_of_values = [chr(i) for i in range(20, 512)]\n",
        "list_of_values.append(' ')\n",
        "# bot = print(random.sample(list_of_values,l))\n",
        "print('Possible values of password: ', list_of_values)\n",
        "\n",
        "for i in password:\n",
        "    if i not in list_of_values:\n",
        "        print('ERROR')"
      ]
    },
    {
      "cell_type": "markdown",
      "metadata": {
        "id": "Cbtqf6u3r48d"
      },
      "source": [
        "## Giperparams"
      ]
    },
    {
      "cell_type": "code",
      "execution_count": null,
      "metadata": {
        "id": "G9u2GVhU9R0O"
      },
      "outputs": [],
      "source": [
        "N = 100        # Общее число ботов\n",
        "NSURV = 20     # Количество выживших (столько лучших переходит в новую популяцию)\n",
        "nnew = N-NSURV # Количество новых (столько новых ботов создается)\n",
        "EPOCHS = 2000   # количество эпох\n",
        "MUT = 0.5      # коэфициент мутаций\n",
        "FREQ_MUT_CHANGE = int(EPOCHS/5 )# чатота уменьшения мутации\n",
        "\n",
        "\n",
        "eph_change_mut = [x for x in range(FREQ_MUT_CHANGE, EPOCHS, FREQ_MUT_CHANGE)] # эпохи смены коэфициента мутации\n",
        "new_mut = [MUT/x for x in range(1, int(EPOCHS/FREQ_MUT_CHANGE))]         # новый коэфициент мутаци\n",
        "\n"
      ]
    },
    {
      "cell_type": "markdown",
      "metadata": {
        "id": "8UuAvnmRr48e"
      },
      "source": [
        "## Fit and result"
      ]
    },
    {
      "cell_type": "code",
      "execution_count": null,
      "metadata": {
        "scrolled": true,
        "id": "bPKNpz4gr48e",
        "outputId": "5efe91e9-d09d-467d-d1f4-3e4687f7cd64"
      },
      "outputs": [
        {
          "name": "stdout",
          "output_type": "stream",
          "text": [
            "400 0.3333333333333333\n",
            "800 0.2222222222222222\n",
            "1200 0.14814814814814814\n",
            "Выполненно на эпохе:  1214\n"
          ]
        },
        {
          "data": {
            "text/plain": [
              "[<matplotlib.lines.Line2D at 0x2572b080dc0>]"
            ]
          },
          "execution_count": 476,
          "metadata": {},
          "output_type": "execute_result"
        },
        {
          "data": {
            "image/png": "[encoded data removed]",
            "text/plain": [
              "<Figure size 640x480 with 1 Axes>"
            ]
          },
          "metadata": {},
          "output_type": "display_data"
        }
      ],
      "source": [
        "mut = MUT\n",
        "# trains = train.shape[0] # Количество вагонов поезда\n",
        "popul = np.ones([N, l], dtype=str)     # Двумерный массив популяции, размерностью [n, l].\n",
        "result = np.zeros(N)\n",
        "# result = np.zeros(N)\n",
        "plot_values = [] # значения для графика по среднему значению\n",
        "m = []\n",
        "# plotminval = []  # значения для графика по минимальному значению\n",
        "\n",
        "# Create first generation\n",
        "for i in range(N):\n",
        "#     print('Da')\n",
        "    popul[i,] = random.sample(list_of_values, l)\n",
        "# [popul[i] = random.sample(list_of_values, l) for i in range(N)]\n",
        "next_popul = popul\n",
        "for e in range(1, EPOCHS):\n",
        "    \n",
        "    if e%FREQ_MUT_CHANGE== 0:\n",
        "        \n",
        "        mut/=1.5\n",
        "        print(e, mut)\n",
        "    result = [int(sum(next_popul[i] == password)) for i in range(N)]    # получаем результаты \n",
        "    m.append(mut*100)\n",
        "    plot_values.append(max(result))\n",
        "    if max(result) == l:\n",
        "        print('Выполненно на эпохе: ', e)\n",
        "        \n",
        "        break\n",
        "    ind = np.argsort(result) # получаем лучшие индексы\n",
        "    \n",
        "    next_popul = next_popul[ind][-NSURV:] # популяция с лучшими результатами\n",
        "    for i in range (N - NSURV): # add next population\n",
        "        first_parent = next_popul[random.randint(0, NSURV - 1)]\n",
        "        second_parent = next_popul[random.randint(0, NSURV - 1)]\n",
        "        \n",
        "        # добавляем скрещивание \n",
        "        new_bot = [first_parent[i] if random.random()>0.5 else second_parent[i] for i in range(l)]\n",
        "        # добавляем мутацию\n",
        "        new_bot = np.array([new_bot[i] if random.random()>mut else random.choice(list_of_values) for i in range(l)]).reshape((1,l))\n",
        "\n",
        "\n",
        "        \n",
        "        next_popul = np.concatenate((next_popul, new_bot), axis = 0)\n",
        "    \n",
        "    \n",
        "\n",
        "plt.plot(plot_values)\n",
        "# plt.plot(m)"
      ]
    },
    {
      "cell_type": "code",
      "execution_count": null,
      "metadata": {
        "id": "pp1RRP60r48g",
        "outputId": "9bacba7a-5987-49f2-a435-d33a4a2b105d"
      },
      "outputs": [
        {
          "data": {
            "text/plain": [
              "(100, 20)"
            ]
          },
          "execution_count": 477,
          "metadata": {},
          "output_type": "execute_result"
        }
      ],
      "source": [
        "popul.shape"
      ]
    },
    {
      "cell_type": "markdown",
      "metadata": {
        "id": "fedqAS8Hr48h"
      },
      "source": [
        "# Решение нелинейного уравнения"
      ]
    },
    {
      "cell_type": "markdown",
      "metadata": {
        "id": "ukCORUXLEvv7"
      },
      "source": [
        "\n",
        "\n",
        "$f(xy)=7x^2 - y + \\frac{y^3 - x^2}{3x} + y^2 - 21x$\n"
      ]
    },
    {
      "cell_type": "markdown",
      "metadata": {
        "id": "CYNBxqa9r48i"
      },
      "source": [
        "## giperparams"
      ]
    },
    {
      "cell_type": "code",
      "execution_count": null,
      "metadata": {
        "id": "G17hNRspr48i"
      },
      "outputs": [],
      "source": [
        "N = 100        # Общее число ботов\n",
        "NSURV = 20     # Количество выживших (столько лучших переходит в новую популяцию)\n",
        "nnew = N-NSURV # Количество новых (столько новых ботов создается)\n",
        "EPOCHS = 50000   # количество эпох\n",
        "er = int(EPOCHS/10)\n",
        "# BIG_EPOCHS\n",
        "MUT = 1      # коэфициент мутаций\n",
        "FREQ_MUT_CHANGE = int(er/25 )# чатота уменьшения мутации\n",
        "l=2 # кол-во координат"
      ]
    },
    {
      "cell_type": "code",
      "execution_count": null,
      "metadata": {
        "id": "0EGAzjz5r48i",
        "outputId": "3e9cbc90-b6c8-440a-d212-fa649c84a8a7"
      },
      "outputs": [
        {
          "name": "stdout",
          "output_type": "stream",
          "text": [
            "(100, 2) (100,) [48 15 64 60 19 33 94 77 57 82 86 56 75 58 74 35 88 71 83 39 63 70 97 76\n",
            " 96  0 41 93 79 69 51 72 91 22  6 46 12 20 26 34 59  5 25 61 55 38 37  3\n",
            " 67 32 65 52 54 49 84 68 95 30 85 66 31 21 99 50 24 17  7 98 40 14 29  1\n",
            " 23 36  4 27 43  9 53 28 11 78 92 87 90 89 62 45 13  8 81 80 47 16 42 73\n",
            "  2 44 10 18]\n"
          ]
        }
      ],
      "source": [
        "popul = np.random.rand(N, l)/np.random.rand(N, l)     # Двумерный массив популяции, размерностью [n, l].\n",
        "result = np.array([my_evaluate(x,y) for x,y in popul])\n",
        "\n",
        "ind = np.argsort(result) # получаем лучшие индексы\n",
        "print(popul.shape, result.shape, ind)\n",
        "\n",
        "next_popul = popul[ind][:NSURV] # популяция с лучшими результатами"
      ]
    },
    {
      "cell_type": "markdown",
      "metadata": {
        "id": "uW2iUdAur48j"
      },
      "source": [
        "## Fit and result.\n",
        "решение достаточно примитивное, но пока оставим"
      ]
    },
    {
      "cell_type": "code",
      "execution_count": null,
      "metadata": {
        "id": "b7J5VRzfr48j",
        "outputId": "374a99c9-ed8f-48c4-9043-dc7d09a62dd7"
      },
      "outputs": [
        {
          "name": "stdout",
          "output_type": "stream",
          "text": [
            "Найденно решение выполненно на эпохе: 1306 решение: [0.09932712 1.92510551] результат: 7.0866535413216525e-06\n",
            "Найденно решение выполненно на эпохе: 1607 решение: [0.00946621 1.16567825] результат: 3.802139670894267e-05\n",
            "Найденно решение выполненно на эпохе: 2674 решение: [0.13111684 2.07843419] результат: 6.3298777006615126e-06\n",
            "Найденно решение выполненно на эпохе: 5548 решение: [-0.00396919  0.90925152] результат: 4.442989124953112e-05\n",
            "Найденно решение выполненно на эпохе: 15300 решение: [1.2099326  2.92682779] результат: 8.586937264354333e-05\n",
            "Найденно решение выполненно на эпохе: 15829 решение: [0.15508748 2.17551522] результат: 8.2266692339239e-05\n",
            "Найденно решение выполненно на эпохе: 17330 решение: [3.63174658 0.10594572] результат: 4.823974225587335e-05\n",
            "Найденно решение выполненно на эпохе: 20546 решение: [0.06761117 1.73314216] результат: 2.8296199808597322e-05\n",
            "Найденно решение выполненно на эпохе: 21186 решение: [0.71144466 2.92060161] результат: 3.431018016541998e-05\n",
            "Найденно решение выполненно на эпохе: 21983 решение: [0.06011599 1.67995073] результат: 8.065933619283427e-05\n",
            "Найденно решение выполненно на эпохе: 36191 решение: [-0.01158676  0.58086828] результат: 4.490860217631898e-05\n",
            "Найденно решение выполненно на эпохе: 37703 решение: [0.071561   1.75976232] результат: 6.303032060706037e-05\n",
            "Найденно решение выполненно на эпохе: 41008 решение: [1.74723305 2.75986914] результат: 8.29659021661655e-05\n",
            "Найденно решение выполненно на эпохе: 41226 решение: [0.14109012 2.1205126 ] результат: 1.0722852366029656e-05\n",
            "Найденно решение выполненно на эпохе: 41917 решение: [1.20995683 2.92682779] результат: 1.7228834529703363e-05\n",
            "Найденно решение выполненно на эпохе: 42318 решение: [0.08005421 1.81418192] результат: 4.1623574029925337e-05\n",
            "Найденно решение выполненно на эпохе: 45248 решение: [0.73374679 2.92682779] результат: 2.399774153616363e-05\n"
          ]
        },
        {
          "data": {
            "text/plain": [
              "<matplotlib.collections.PathCollection at 0x257317e1670>"
            ]
          },
          "execution_count": 559,
          "metadata": {},
          "output_type": "execute_result"
        },
        {
          "data": {
            "image/png": "[encoded data removed]",
            "text/plain": [
              "<Figure size 640x480 with 1 Axes>"
            ]
          },
          "metadata": {},
          "output_type": "display_data"
        }
      ],
      "source": [
        "mut = MUT\n",
        "plot_values = []\n",
        "# initialization\n",
        "def my_evaluate(x,y):\n",
        "    answer = np.abs(7*x**2-y+(y**3-x**2)/3*x+y**2-21*x)\n",
        "    return answer\n",
        "\n",
        "popul = np.random.rand(N, l)/np.random.rand(N, l)     # Двумерный массив популяции, размерностью [n, l].\n",
        "result = np.array([my_evaluate(x,y) for x,y in popul])\n",
        "\n",
        "answers = []\n",
        "for e in range(1, EPOCHS):\n",
        "    \n",
        "    if e%FREQ_MUT_CHANGE== 0:\n",
        "        \n",
        "        mut/=1.5\n",
        "#         print('Эпока: {}, коэффициент мутации{}'.format(e, mut))\n",
        "    \n",
        "    m.append(mut*100)\n",
        "    plot_values.append(min(result))\n",
        "    \n",
        "    if e%er== 0:\n",
        "        mut = MUT\n",
        "        popul = np.random.rand(NSURV, l)/np.random.rand(NSURV, l)     # Двумерный массив популяции, размерностью [n, l].\n",
        "        result = np.array([my_evaluate(x,y) for x,y in popul])    \n",
        "    \n",
        "    result = np.array([my_evaluate(x,y) for x,y in popul])\n",
        "    ind = np.argsort(result) # получаем лучшие индексы\n",
        "    popul = popul[ind][:NSURV] # популяция с лучшими результатами\n",
        "    \n",
        "    ###### add выход из цикла\n",
        "    if min(result) < 0.0001:\n",
        "        \n",
        "        print('Найденно решение выполненно на эпохе:', e, 'решение:', popul[0], 'результат:', my_evaluate(popul[0,0], popul[0,1]))\n",
        "        answers.append(list(popul[0]))\n",
        "        mut = MUT\n",
        "        popul = np.random.rand(NSURV, l)/np.random.rand(NSURV, l)     # Двумерный массив популяции, размерностью [n, l].\n",
        "        result = np.array([my_evaluate(x,y) for x,y in popul])\n",
        "#         break\n",
        "    #########\n",
        "    \n",
        "    for i in range (N - NSURV): # add next population\n",
        "        first_parent = next_popul[random.randint(0, NSURV - 1)]\n",
        "        second_parent = next_popul[random.randint(0, NSURV - 1)]\n",
        "        \n",
        "        new_bot = [0., 0.]\n",
        "        \n",
        "        # добавляем скрещивание \n",
        "        \n",
        "        new_bot = [first_parent[i] if random.random()>0.5 else second_parent[i] for i in range(l)]\n",
        "        # добавляем мутацию\n",
        "        new_bot = np.array([new_bot[i] if random.random()>mut else new_bot[i]*random.random()/random.random()+0.5-random.random() for i in range(l)]).reshape((1,l))\n",
        "        \n",
        "        popul = np.concatenate((popul, new_bot), axis = 0)\n",
        "    \n",
        "    \n",
        "# plt.plot(plot_values)\n",
        "plt.scatter(np.array(answers)[:, 0], np.array(answers)[:, 1])\n",
        "# popul.shape, result.shape"
      ]
    },
    {
      "cell_type": "code",
      "execution_count": null,
      "metadata": {
        "id": "eGuLMCXZr48k",
        "outputId": "7b9f5c2b-7995-4670-b054-da1cbe76b320"
      },
      "outputs": [
        {
          "data": {
            "text/plain": [
              "<matplotlib.collections.PathCollection at 0x257314c6220>"
            ]
          },
          "execution_count": 554,
          "metadata": {},
          "output_type": "execute_result"
        },
        {
          "data": {
            "image/png": "[encoded data removed]",
            "text/plain": [
              "<Figure size 640x480 with 1 Axes>"
            ]
          },
          "metadata": {},
          "output_type": "display_data"
        }
      ],
      "source": [
        "# answers\n",
        "np.array(answers)[:, 1]\n",
        "plt.scatter(np.array(answers)[:, 0], np.array(answers)[:, 1])"
      ]
    },
    {
      "cell_type": "code",
      "execution_count": null,
      "metadata": {
        "id": "HdZCZKC4r48k",
        "outputId": "74c8cd3a-2517-401d-e4a0-576d0082f2f6"
      },
      "outputs": [
        {
          "data": {
            "text/plain": [
              "array([1.48249153, 0.0622149 , 0.53986706, 0.11283212, 0.53980891,\n",
              "       1.44255734, 1.04303505])"
            ]
          },
          "execution_count": 547,
          "metadata": {},
          "output_type": "execute_result"
        }
      ],
      "source": [
        "np.array(answers)[:, 1]"
      ]
    },
    {
      "cell_type": "code",
      "execution_count": null,
      "metadata": {
        "id": "__nc3ttir48k"
      },
      "outputs": [],
      "source": [
        "next_popul = popul\n",
        "for e in range(1, EPOCHS):\n",
        "    \n",
        "    if e%FREQ_MUT_CHANGE== 0:\n",
        "        \n",
        "        mut/=1.5\n",
        "        print(e, mut)\n",
        "    result = [int(sum(next_popul[i] == password)) for i in range(N)]    # получаем результаты \n",
        "    m.append(mut*100)\n",
        "    plot_values.append(max(result))\n",
        "    if max(result) == l:\n",
        "        print('Выполненно на эпохе: ', e)\n",
        "        \n",
        "        break\n",
        "    ind = np.argsort(result) # получаем лучшие индексы\n",
        "    \n",
        "    next_popul = next_popul[ind][-NSURV:] # популяция с лучшими результатами\n",
        "    for i in range (N - NSURV): # add next population\n",
        "        first_parent = next_popul[random.randint(0, NSURV - 1)]\n",
        "        second_parent = next_popul[random.randint(0, NSURV - 1)]\n",
        "        \n",
        "        # добавляем скрещивание \n",
        "        new_bot = [first_parent[i] if random.random()>0.5 else second_parent[i] for i in range(l)]\n",
        "        # добавляем мутацию\n",
        "        new_bot = np.array([new_bot[i] if random.random()>mut else random.choice(list_of_values) for i in range(l)]).reshape((1,l))\n",
        "\n",
        "\n",
        "        \n",
        "        next_popul = np.concatenate((next_popul, new_bot), axis = 0)\n",
        "    \n",
        "    \n",
        "\n",
        "plt.plot(plot_values)"
      ]
    },
    {
      "cell_type": "code",
      "execution_count": null,
      "metadata": {
        "id": "yYM4-CHur48l",
        "outputId": "742c838a-6d87-437d-e9aa-a0d9f4f58561"
      },
      "outputs": [
        {
          "data": {
            "text/plain": [
              "(100, 2)"
            ]
          },
          "execution_count": 480,
          "metadata": {},
          "output_type": "execute_result"
        }
      ],
      "source": [
        "for e in range(1, EPOCHS):\n",
        "    \n",
        "    if e%FREQ_MUT_CHANGE== 0:\n",
        "        \n",
        "        mut/=1.5\n",
        "        print(e, mut)\n",
        "    result = [int(sum(next_popul[i] == password)) for i in range(N)]    # получаем результаты \n",
        "    m.append(mut*100)\n",
        "    plot_values.append(max(result))\n",
        "    if max(result) == l:\n",
        "        print('Выполненно на эпохе: ', e)\n",
        "        \n",
        "        break\n",
        "    ind = np.argsort(result) # получаем лучшие индексы\n",
        "    \n",
        "    next_popul = next_popul[ind][-NSURV:] # популяция с лучшими результатами\n",
        "    for i in range (N - NSURV): # add next population\n",
        "        first_parent = next_popul[random.randint(0, NSURV - 1)]\n",
        "        second_parent = next_popul[random.randint(0, NSURV - 1)]\n",
        "        \n",
        "        # добавляем скрещивание \n",
        "        new_bot = [first_parent[i] if random.random()>0.5 else second_parent[i] for i in range(l)]\n",
        "        # добавляем мутацию\n",
        "        new_bot = np.array([new_bot[i] if random.random()>mut else random.choice(list_of_values) for i in range(l)]).reshape((1,l))\n",
        "\n",
        "\n",
        "        \n",
        "        next_popul = np.concatenate((next_popul, new_bot), axis = 0)\n",
        "    \n",
        "    \n",
        "\n",
        "plt.plot(plot_values)\n"
      ]
    },
    {
      "cell_type": "markdown",
      "source": [
        "# Подбор архитектуры линейной нейронной сети с помощью генетического алгоритма для задачи предскзаания тренда акций\n"
      ],
      "metadata": {
        "id": "EbVutWKXk4E1"
      }
    },
    {
      "cell_type": "markdown",
      "metadata": {
        "id": "5yYVLIrw4BV4"
      },
      "source": [
        "##**Инфо по выделенным ресурсам**\n",
        "\n",
        "Данный служебный код помогает понять тип графической карты, подключенной к ноутбуку. \n",
        "\n",
        "Не забудьте уточнить, что среда выполнения в настройках колаба GPU или TPU. \n"
      ]
    },
    {
      "cell_type": "code",
      "metadata": {
        "id": "m-p5hOrO4Akf",
        "colab": {
          "base_uri": "https://localhost:8080/"
        },
        "outputId": "77517b89-a64b-463d-e5b1-e237a84c260c"
      },
      "source": [
        "!ln -sf /opt/bin/nvidia-smi /usr/bin/nvidia-smi\n",
        "!pip install -q gputil\n",
        "!pip install -q psutil\n",
        "!pip install -q humanize\n",
        "import psutil\n",
        "import humanize\n",
        "import os\n",
        "import GPUtil as GPU\n",
        "GPUs = GPU.getGPUs()\n",
        "# XXX: only one GPU on Colab and isn’t guaranteed\n",
        "gpu = GPUs[0]\n",
        "process = psutil.Process(os.getpid())\n",
        "print(\"Gen RAM Free: \" + humanize.naturalsize( psutil.virtual_memory().available ), \" | Proc size: \" + humanize.naturalsize( process.memory_info().rss))\n",
        "print(\"GPU RAM Free: {0:.0f}MB | Used: {1:.0f}MB | Util {2:3.0f}% | Total {3:.0f}MB\".format(gpu.memoryFree, gpu.memoryUsed, gpu.memoryUtil*100, gpu.memoryTotal))\n",
        "print(\"GPU Model: \", gpu.name)"
      ],
      "execution_count": null,
      "outputs": [
        {
          "output_type": "stream",
          "name": "stdout",
          "text": [
            "  Preparing metadata (setup.py) ... \u001b[?25l\u001b[?25hdone\n",
            "  Building wheel for gputil (setup.py) ... \u001b[?25l\u001b[?25hdone\n",
            "Gen RAM Free: 12.4 GB  | Proc size: 89.4 MB\n",
            "GPU RAM Free: 15109MB | Used: 0MB | Util   0% | Total 15360MB\n",
            "GPU Model:  Tesla T4\n"
          ]
        }
      ]
    },
    {
      "cell_type": "markdown",
      "source": [
        "## Libs"
      ],
      "metadata": {
        "id": "RFbyXdPD-0lH"
      }
    },
    {
      "cell_type": "code",
      "metadata": {
        "id": "o5cUNcyPiZ_7"
      },
      "source": [
        "# Загрузка библиотек\n",
        "\n",
        "# Пандас\n",
        "import pandas as pd \n",
        "\n",
        "# Numpy\n",
        "import numpy as np \n",
        "\n",
        "# random\n",
        "import random\n",
        "\n",
        "# из tensorflow\n",
        "# оптимайзер для обучения нс\n",
        "from tensorflow.keras.optimizers import Adam\n",
        "\n",
        "# Два варианта сборки моделей\n",
        "from tensorflow.keras.models import Sequential, Model \n",
        "\n",
        "# Стандартные слои моделей нс\n",
        "from tensorflow.keras.layers import concatenate, Reshape, Input, Dense, Dropout, Conv1D, LSTM, MaxPooling1D\n",
        "from tensorflow.keras.layers import BatchNormalization, Flatten, GlobalAveragePooling1D, Activation, GlobalMaxPooling1D\n",
        "\n",
        "# функция ошибки для обучения нс\n",
        "from tensorflow.keras.losses import MAE\n",
        "\n",
        "# для отрисовки дерева слоев нс\n",
        "from tensorflow.keras.utils import plot_model\n",
        "\n",
        "# Нормировщики данных\n",
        "from sklearn.preprocessing import StandardScaler, MinMaxScaler \n",
        "\n",
        "# Для генерации выборки временных рядов\n",
        "from tensorflow.keras.preprocessing.sequence import TimeseriesGenerator \n",
        "\n",
        "# Импортируем модуль pyplot библиотеки matplotlib для построения графиков\n",
        "import matplotlib.pyplot as plt \n",
        "\n",
        "# для загрузки данных по ссылке\n",
        "import gdown\n",
        "\n",
        "# модуль подсчета времени\n",
        "import time"
      ],
      "execution_count": null,
      "outputs": []
    },
    {
      "cell_type": "markdown",
      "source": [
        "## Dataset"
      ],
      "metadata": {
        "id": "urxEAMYTj_Os"
      }
    },
    {
      "cell_type": "code",
      "source": [
        "import gdown\n",
        "\n",
        "# Загрузка датасетов из облака\n",
        "gdown.download('https://storage.yandexcloud.net/aiueducation/Content/base/l11/SBER_MIN60.txt', None, quiet=True)"
      ],
      "metadata": {
        "id": "A595fURwkDc0",
        "outputId": "f07b3408-dbbb-4cd9-f15b-1f5043b8511f",
        "colab": {
          "base_uri": "https://localhost:8080/",
          "height": 36
        }
      },
      "execution_count": null,
      "outputs": [
        {
          "output_type": "execute_result",
          "data": {
            "text/plain": [
              "'SBER_MIN60.txt'"
            ],
            "application/vnd.google.colaboratory.intrinsic+json": {
              "type": "string"
            }
          },
          "metadata": {},
          "execution_count": 3
        }
      ]
    },
    {
      "cell_type": "code",
      "source": [
        "# Чтение данных в таблицу Pandas и назначение имен столбцов\n",
        "data = pd.read_csv('SBER_MIN60.txt', sep=\"\\t\", names=['Datetime', 'Open', 'High', 'Low', 'Close'])\n",
        "\n",
        "# Настройка имен столбцов\n",
        "COL_DATE = 'Datetime'\n",
        "COL_CLOSE = 'Close'\n",
        "\n",
        "# Настройка временного интервала для ограничения данных\n",
        "TIME_RANGE = ('2010-09-01 10:00:00.000', '2018-12-31 23:59:00.000')\n",
        "\n",
        "# Преобразование столбца даты в индекс таблицы и удаление ненужного столбца даты\n",
        "data.index = pd.to_datetime(data[COL_DATE])\n",
        "data.drop(columns=COL_DATE, inplace=True)\n",
        "\n",
        "# Отбор данных по заданному временному интервалу\n",
        "mask = (data.index >= TIME_RANGE[0]) & (data.index <= TIME_RANGE[1])\n",
        "data = data[mask]\n",
        "data"
      ],
      "metadata": {
        "id": "obBNWx8E_KMU",
        "outputId": "082a6d46-f96b-4faf-9a1c-d34a2a1ae25e",
        "colab": {
          "base_uri": "https://localhost:8080/",
          "height": 455
        }
      },
      "execution_count": null,
      "outputs": [
        {
          "output_type": "execute_result",
          "data": {
            "text/plain": [
              "                       Open    High     Low   Close\n",
              "Datetime                                           \n",
              "2010-09-01 10:00:00   78.55   78.67   77.94   78.04\n",
              "2010-09-01 11:00:00   78.04   78.10   77.60   78.00\n",
              "2010-09-01 12:00:00   78.00   78.88   77.98   78.88\n",
              "2010-09-01 13:00:00   78.89   79.19   78.80   78.85\n",
              "2010-09-01 14:00:00   78.85   78.99   78.61   78.86\n",
              "...                     ...     ...     ...     ...\n",
              "2018-12-29 14:00:00  186.07  186.08  185.78  185.88\n",
              "2018-12-29 15:00:00  185.88  185.95  185.70  185.70\n",
              "2018-12-29 16:00:00  185.70  186.15  185.70  186.15\n",
              "2018-12-29 17:00:00  186.15  186.35  186.00  186.02\n",
              "2018-12-29 18:00:00  186.05  186.49  185.97  186.34\n",
              "\n",
              "[18818 rows x 4 columns]"
            ],
            "text/html": [
              "\n",
              "  <div id=\"df-68b68ebe-d80a-4c96-a3c7-426188330006\">\n",
              "    <div class=\"colab-df-container\">\n",
              "      <div>\n",
              "<style scoped>\n",
              "    .dataframe tbody tr th:only-of-type {\n",
              "        vertical-align: middle;\n",
              "    }\n",
              "\n",
              "    .dataframe tbody tr th {\n",
              "        vertical-align: top;\n",
              "    }\n",
              "\n",
              "    .dataframe thead th {\n",
              "        text-align: right;\n",
              "    }\n",
              "</style>\n",
              "<table border=\"1\" class=\"dataframe\">\n",
              "  <thead>\n",
              "    <tr style=\"text-align: right;\">\n",
              "      <th></th>\n",
              "      <th>Open</th>\n",
              "      <th>High</th>\n",
              "      <th>Low</th>\n",
              "      <th>Close</th>\n",
              "    </tr>\n",
              "    <tr>\n",
              "      <th>Datetime</th>\n",
              "      <th></th>\n",
              "      <th></th>\n",
              "      <th></th>\n",
              "      <th></th>\n",
              "    </tr>\n",
              "  </thead>\n",
              "  <tbody>\n",
              "    <tr>\n",
              "      <th>2010-09-01 10:00:00</th>\n",
              "      <td>78.55</td>\n",
              "      <td>78.67</td>\n",
              "      <td>77.94</td>\n",
              "      <td>78.04</td>\n",
              "    </tr>\n",
              "    <tr>\n",
              "      <th>2010-09-01 11:00:00</th>\n",
              "      <td>78.04</td>\n",
              "      <td>78.10</td>\n",
              "      <td>77.60</td>\n",
              "      <td>78.00</td>\n",
              "    </tr>\n",
              "    <tr>\n",
              "      <th>2010-09-01 12:00:00</th>\n",
              "      <td>78.00</td>\n",
              "      <td>78.88</td>\n",
              "      <td>77.98</td>\n",
              "      <td>78.88</td>\n",
              "    </tr>\n",
              "    <tr>\n",
              "      <th>2010-09-01 13:00:00</th>\n",
              "      <td>78.89</td>\n",
              "      <td>79.19</td>\n",
              "      <td>78.80</td>\n",
              "      <td>78.85</td>\n",
              "    </tr>\n",
              "    <tr>\n",
              "      <th>2010-09-01 14:00:00</th>\n",
              "      <td>78.85</td>\n",
              "      <td>78.99</td>\n",
              "      <td>78.61</td>\n",
              "      <td>78.86</td>\n",
              "    </tr>\n",
              "    <tr>\n",
              "      <th>...</th>\n",
              "      <td>...</td>\n",
              "      <td>...</td>\n",
              "      <td>...</td>\n",
              "      <td>...</td>\n",
              "    </tr>\n",
              "    <tr>\n",
              "      <th>2018-12-29 14:00:00</th>\n",
              "      <td>186.07</td>\n",
              "      <td>186.08</td>\n",
              "      <td>185.78</td>\n",
              "      <td>185.88</td>\n",
              "    </tr>\n",
              "    <tr>\n",
              "      <th>2018-12-29 15:00:00</th>\n",
              "      <td>185.88</td>\n",
              "      <td>185.95</td>\n",
              "      <td>185.70</td>\n",
              "      <td>185.70</td>\n",
              "    </tr>\n",
              "    <tr>\n",
              "      <th>2018-12-29 16:00:00</th>\n",
              "      <td>185.70</td>\n",
              "      <td>186.15</td>\n",
              "      <td>185.70</td>\n",
              "      <td>186.15</td>\n",
              "    </tr>\n",
              "    <tr>\n",
              "      <th>2018-12-29 17:00:00</th>\n",
              "      <td>186.15</td>\n",
              "      <td>186.35</td>\n",
              "      <td>186.00</td>\n",
              "      <td>186.02</td>\n",
              "    </tr>\n",
              "    <tr>\n",
              "      <th>2018-12-29 18:00:00</th>\n",
              "      <td>186.05</td>\n",
              "      <td>186.49</td>\n",
              "      <td>185.97</td>\n",
              "      <td>186.34</td>\n",
              "    </tr>\n",
              "  </tbody>\n",
              "</table>\n",
              "<p>18818 rows × 4 columns</p>\n",
              "</div>\n",
              "      <button class=\"colab-df-convert\" onclick=\"convertToInteractive('df-68b68ebe-d80a-4c96-a3c7-426188330006')\"\n",
              "              title=\"Convert this dataframe to an interactive table.\"\n",
              "              style=\"display:none;\">\n",
              "        \n",
              "  <svg xmlns=\"http://www.w3.org/2000/svg\" height=\"24px\"viewBox=\"0 0 24 24\"\n",
              "       width=\"24px\">\n",
              "    <path d=\"M0 0h24v24H0V0z\" fill=\"none\"/>\n",
              "    <path d=\"M18.56 5.44l.94 2.06.94-2.06 2.06-.94-2.06-.94-.94-2.06-.94 2.06-2.06.94zm-11 1L8.5 8.5l.94-2.06 2.06-.94-2.06-.94L8.5 2.5l-.94 2.06-2.06.94zm10 10l.94 2.06.94-2.06 2.06-.94-2.06-.94-.94-2.06-.94 2.06-2.06.94z\"/><path d=\"M17.41 7.96l-1.37-1.37c-.4-.4-.92-.59-1.43-.59-.52 0-1.04.2-1.43.59L10.3 9.45l-7.72 7.72c-.78.78-.78 2.05 0 2.83L4 21.41c.39.39.9.59 1.41.59.51 0 1.02-.2 1.41-.59l7.78-7.78 2.81-2.81c.8-.78.8-2.07 0-2.86zM5.41 20L4 18.59l7.72-7.72 1.47 1.35L5.41 20z\"/>\n",
              "  </svg>\n",
              "      </button>\n",
              "      \n",
              "  <style>\n",
              "    .colab-df-container {\n",
              "      display:flex;\n",
              "      flex-wrap:wrap;\n",
              "      gap: 12px;\n",
              "    }\n",
              "\n",
              "    .colab-df-convert {\n",
              "      background-color: #E8F0FE;\n",
              "      border: none;\n",
              "      border-radius: 50%;\n",
              "      cursor: pointer;\n",
              "      display: none;\n",
              "      fill: #1967D2;\n",
              "      height: 32px;\n",
              "      padding: 0 0 0 0;\n",
              "      width: 32px;\n",
              "    }\n",
              "\n",
              "    .colab-df-convert:hover {\n",
              "      background-color: #E2EBFA;\n",
              "      box-shadow: 0px 1px 2px rgba(60, 64, 67, 0.3), 0px 1px 3px 1px rgba(60, 64, 67, 0.15);\n",
              "      fill: #174EA6;\n",
              "    }\n",
              "\n",
              "    [theme=dark] .colab-df-convert {\n",
              "      background-color: #3B4455;\n",
              "      fill: #D2E3FC;\n",
              "    }\n",
              "\n",
              "    [theme=dark] .colab-df-convert:hover {\n",
              "      background-color: #434B5C;\n",
              "      box-shadow: 0px 1px 3px 1px rgba(0, 0, 0, 0.15);\n",
              "      filter: drop-shadow(0px 1px 2px rgba(0, 0, 0, 0.3));\n",
              "      fill: #FFFFFF;\n",
              "    }\n",
              "  </style>\n",
              "\n",
              "      <script>\n",
              "        const buttonEl =\n",
              "          document.querySelector('#df-68b68ebe-d80a-4c96-a3c7-426188330006 button.colab-df-convert');\n",
              "        buttonEl.style.display =\n",
              "          google.colab.kernel.accessAllowed ? 'block' : 'none';\n",
              "\n",
              "        async function convertToInteractive(key) {\n",
              "          const element = document.querySelector('#df-68b68ebe-d80a-4c96-a3c7-426188330006');\n",
              "          const dataTable =\n",
              "            await google.colab.kernel.invokeFunction('convertToInteractive',\n",
              "                                                     [key], {});\n",
              "          if (!dataTable) return;\n",
              "\n",
              "          const docLinkHtml = 'Like what you see? Visit the ' +\n",
              "            '<a target=\"_blank\" href=https://colab.research.google.com/notebooks/data_table.ipynb>data table notebook</a>'\n",
              "            + ' to learn more about interactive tables.';\n",
              "          element.innerHTML = '';\n",
              "          dataTable['output_type'] = 'display_data';\n",
              "          await google.colab.output.renderOutput(dataTable, element);\n",
              "          const docLink = document.createElement('div');\n",
              "          docLink.innerHTML = docLinkHtml;\n",
              "          element.appendChild(docLink);\n",
              "        }\n",
              "      </script>\n",
              "    </div>\n",
              "  </div>\n",
              "  "
            ]
          },
          "metadata": {},
          "execution_count": 4
        }
      ]
    },
    {
      "cell_type": "markdown",
      "metadata": {
        "id": "nyqigyYT8TLj"
      },
      "source": [
        "###Иллюстрация данных в графическом виде"
      ]
    },
    {
      "cell_type": "code",
      "metadata": {
        "id": "kChuauc8oTjr",
        "colab": {
          "base_uri": "https://localhost:8080/",
          "height": 456
        },
        "outputId": "28cafea9-f8d7-4ca4-865a-c6e7e1ddeff9"
      },
      "source": [
        "# Отображение временного ряда в графическом виде\n",
        "plt.figure(figsize=(20, 8))\n",
        "plt.plot(data.index, data[COL_CLOSE])\n",
        "plt.title('График цены на SBER (1h)')\n",
        "plt.show()"
      ],
      "execution_count": null,
      "outputs": [
        {
          "output_type": "display_data",
          "data": {
            "text/plain": [
              "<Figure size 1440x576 with 1 Axes>"
            ],
            "image/png": "[encoded data removed]"
          },
          "metadata": {
            "needs_background": "light"
          }
        }
      ]
    },
    {
      "cell_type": "markdown",
      "source": [
        "## Giperparams"
      ],
      "metadata": {
        "id": "WzOAVGSX_QAu"
      }
    },
    {
      "cell_type": "code",
      "source": [
        "# # Расчет индикаторов относительной доходности\n",
        "# for i in range(1, INDICATOR_DEPTH + 1):\n",
        "#     indicator_change = f'Close_chng_{i}'\n",
        "#     # Относительная доходность в сотых долях за период i шагов назад\n",
        "#     data[indicator_change] = data[COL_CLOSE].pct_change(i)\n",
        "\n",
        "# Проверка результата\n",
        "print(data.shape)\n",
        "data[:5]"
      ],
      "metadata": {
        "id": "bxz-2Q8F_Vnc",
        "outputId": "13fc2195-795f-455c-d00b-02459f2476f7",
        "colab": {
          "base_uri": "https://localhost:8080/",
          "height": 255
        }
      },
      "execution_count": null,
      "outputs": [
        {
          "output_type": "stream",
          "name": "stdout",
          "text": [
            "(18818, 4)\n"
          ]
        },
        {
          "output_type": "execute_result",
          "data": {
            "text/plain": [
              "                      Open   High    Low  Close\n",
              "Datetime                                       \n",
              "2010-09-01 10:00:00  78.55  78.67  77.94  78.04\n",
              "2010-09-01 11:00:00  78.04  78.10  77.60  78.00\n",
              "2010-09-01 12:00:00  78.00  78.88  77.98  78.88\n",
              "2010-09-01 13:00:00  78.89  79.19  78.80  78.85\n",
              "2010-09-01 14:00:00  78.85  78.99  78.61  78.86"
            ],
            "text/html": [
              "\n",
              "  <div id=\"df-5a3226df-f554-447c-8d1b-83eb7a8f5200\">\n",
              "    <div class=\"colab-df-container\">\n",
              "      <div>\n",
              "<style scoped>\n",
              "    .dataframe tbody tr th:only-of-type {\n",
              "        vertical-align: middle;\n",
              "    }\n",
              "\n",
              "    .dataframe tbody tr th {\n",
              "        vertical-align: top;\n",
              "    }\n",
              "\n",
              "    .dataframe thead th {\n",
              "        text-align: right;\n",
              "    }\n",
              "</style>\n",
              "<table border=\"1\" class=\"dataframe\">\n",
              "  <thead>\n",
              "    <tr style=\"text-align: right;\">\n",
              "      <th></th>\n",
              "      <th>Open</th>\n",
              "      <th>High</th>\n",
              "      <th>Low</th>\n",
              "      <th>Close</th>\n",
              "    </tr>\n",
              "    <tr>\n",
              "      <th>Datetime</th>\n",
              "      <th></th>\n",
              "      <th></th>\n",
              "      <th></th>\n",
              "      <th></th>\n",
              "    </tr>\n",
              "  </thead>\n",
              "  <tbody>\n",
              "    <tr>\n",
              "      <th>2010-09-01 10:00:00</th>\n",
              "      <td>78.55</td>\n",
              "      <td>78.67</td>\n",
              "      <td>77.94</td>\n",
              "      <td>78.04</td>\n",
              "    </tr>\n",
              "    <tr>\n",
              "      <th>2010-09-01 11:00:00</th>\n",
              "      <td>78.04</td>\n",
              "      <td>78.10</td>\n",
              "      <td>77.60</td>\n",
              "      <td>78.00</td>\n",
              "    </tr>\n",
              "    <tr>\n",
              "      <th>2010-09-01 12:00:00</th>\n",
              "      <td>78.00</td>\n",
              "      <td>78.88</td>\n",
              "      <td>77.98</td>\n",
              "      <td>78.88</td>\n",
              "    </tr>\n",
              "    <tr>\n",
              "      <th>2010-09-01 13:00:00</th>\n",
              "      <td>78.89</td>\n",
              "      <td>79.19</td>\n",
              "      <td>78.80</td>\n",
              "      <td>78.85</td>\n",
              "    </tr>\n",
              "    <tr>\n",
              "      <th>2010-09-01 14:00:00</th>\n",
              "      <td>78.85</td>\n",
              "      <td>78.99</td>\n",
              "      <td>78.61</td>\n",
              "      <td>78.86</td>\n",
              "    </tr>\n",
              "  </tbody>\n",
              "</table>\n",
              "</div>\n",
              "      <button class=\"colab-df-convert\" onclick=\"convertToInteractive('df-5a3226df-f554-447c-8d1b-83eb7a8f5200')\"\n",
              "              title=\"Convert this dataframe to an interactive table.\"\n",
              "              style=\"display:none;\">\n",
              "        \n",
              "  <svg xmlns=\"http://www.w3.org/2000/svg\" height=\"24px\"viewBox=\"0 0 24 24\"\n",
              "       width=\"24px\">\n",
              "    <path d=\"M0 0h24v24H0V0z\" fill=\"none\"/>\n",
              "    <path d=\"M18.56 5.44l.94 2.06.94-2.06 2.06-.94-2.06-.94-.94-2.06-.94 2.06-2.06.94zm-11 1L8.5 8.5l.94-2.06 2.06-.94-2.06-.94L8.5 2.5l-.94 2.06-2.06.94zm10 10l.94 2.06.94-2.06 2.06-.94-2.06-.94-.94-2.06-.94 2.06-2.06.94z\"/><path d=\"M17.41 7.96l-1.37-1.37c-.4-.4-.92-.59-1.43-.59-.52 0-1.04.2-1.43.59L10.3 9.45l-7.72 7.72c-.78.78-.78 2.05 0 2.83L4 21.41c.39.39.9.59 1.41.59.51 0 1.02-.2 1.41-.59l7.78-7.78 2.81-2.81c.8-.78.8-2.07 0-2.86zM5.41 20L4 18.59l7.72-7.72 1.47 1.35L5.41 20z\"/>\n",
              "  </svg>\n",
              "      </button>\n",
              "      \n",
              "  <style>\n",
              "    .colab-df-container {\n",
              "      display:flex;\n",
              "      flex-wrap:wrap;\n",
              "      gap: 12px;\n",
              "    }\n",
              "\n",
              "    .colab-df-convert {\n",
              "      background-color: #E8F0FE;\n",
              "      border: none;\n",
              "      border-radius: 50%;\n",
              "      cursor: pointer;\n",
              "      display: none;\n",
              "      fill: #1967D2;\n",
              "      height: 32px;\n",
              "      padding: 0 0 0 0;\n",
              "      width: 32px;\n",
              "    }\n",
              "\n",
              "    .colab-df-convert:hover {\n",
              "      background-color: #E2EBFA;\n",
              "      box-shadow: 0px 1px 2px rgba(60, 64, 67, 0.3), 0px 1px 3px 1px rgba(60, 64, 67, 0.15);\n",
              "      fill: #174EA6;\n",
              "    }\n",
              "\n",
              "    [theme=dark] .colab-df-convert {\n",
              "      background-color: #3B4455;\n",
              "      fill: #D2E3FC;\n",
              "    }\n",
              "\n",
              "    [theme=dark] .colab-df-convert:hover {\n",
              "      background-color: #434B5C;\n",
              "      box-shadow: 0px 1px 3px 1px rgba(0, 0, 0, 0.15);\n",
              "      filter: drop-shadow(0px 1px 2px rgba(0, 0, 0, 0.3));\n",
              "      fill: #FFFFFF;\n",
              "    }\n",
              "  </style>\n",
              "\n",
              "      <script>\n",
              "        const buttonEl =\n",
              "          document.querySelector('#df-5a3226df-f554-447c-8d1b-83eb7a8f5200 button.colab-df-convert');\n",
              "        buttonEl.style.display =\n",
              "          google.colab.kernel.accessAllowed ? 'block' : 'none';\n",
              "\n",
              "        async function convertToInteractive(key) {\n",
              "          const element = document.querySelector('#df-5a3226df-f554-447c-8d1b-83eb7a8f5200');\n",
              "          const dataTable =\n",
              "            await google.colab.kernel.invokeFunction('convertToInteractive',\n",
              "                                                     [key], {});\n",
              "          if (!dataTable) return;\n",
              "\n",
              "          const docLinkHtml = 'Like what you see? Visit the ' +\n",
              "            '<a target=\"_blank\" href=https://colab.research.google.com/notebooks/data_table.ipynb>data table notebook</a>'\n",
              "            + ' to learn more about interactive tables.';\n",
              "          element.innerHTML = '';\n",
              "          dataTable['output_type'] = 'display_data';\n",
              "          await google.colab.output.renderOutput(dataTable, element);\n",
              "          const docLink = document.createElement('div');\n",
              "          docLink.innerHTML = docLinkHtml;\n",
              "          element.appendChild(docLink);\n",
              "        }\n",
              "      </script>\n",
              "    </div>\n",
              "  </div>\n",
              "  "
            ]
          },
          "metadata": {},
          "execution_count": 6
        }
      ]
    },
    {
      "cell_type": "code",
      "source": [
        "# Задание текстовых меток каналов данных (столбцов)\n",
        "CHANNEL_NAMES = ['Open',\t'High',\t'Low',\t'Close']\n",
        "\n",
        "# Получение словаря с именами и индексами каналов данных\n",
        "CHANNEL_INDEX = {name: chan for chan, name in enumerate(CHANNEL_NAMES)}\n",
        "print(CHANNEL_INDEX)"
      ],
      "metadata": {
        "colab": {
          "base_uri": "https://localhost:8080/"
        },
        "id": "pQtwACJclIQ8",
        "outputId": "7f245f78-5a93-4a66-8456-c7b25a5aeb2f"
      },
      "execution_count": null,
      "outputs": [
        {
          "output_type": "stream",
          "name": "stdout",
          "text": [
            "{'Open': 0, 'High': 1, 'Low': 2, 'Close': 3}\n"
          ]
        }
      ]
    },
    {
      "cell_type": "code",
      "source": [
        "data = data.to_numpy()"
      ],
      "metadata": {
        "id": "FLK-UNsXmB0U"
      },
      "execution_count": null,
      "outputs": []
    },
    {
      "cell_type": "markdown",
      "metadata": {
        "id": "tQZQhFnmlZ-6"
      },
      "source": [
        "###Иллюстрация данных в графическом виде"
      ]
    },
    {
      "cell_type": "markdown",
      "metadata": {
        "id": "AHjav9Ec8skh"
      },
      "source": [
        "Выведем данные для дальнейшей работы. Данные будут отображаться с позиции с номером `start`, длиной `length` отчетов. Отрисуем четыре линии со значениями OPEN, MIN, MAX, CLOSE и гистограммы по значению закрытия торгов:\n"
      ]
    },
    {
      "cell_type": "code",
      "metadata": {
        "colab": {
          "base_uri": "https://localhost:8080/",
          "height": 599
        },
        "id": "ZHWZubQ1__7e",
        "outputId": "c7831820-8a2d-44b2-e61e-8662b3fbfed4"
      },
      "source": [
        "# Отображение исходных данных от точки start и длиной length\n",
        "start = 100\n",
        "length = 300\n",
        "\n",
        "# Задание полотна для графиков - два подграфика один под другим с общей осью x\n",
        "fig, (ax1, ax2) = plt.subplots(2, 1, figsize=(18, 10), sharex=True)\n",
        "\n",
        "# Четыре основных канала - open, max, min, close\n",
        "for chn in range(4):\n",
        "    # Отрисовка одного канала данных\n",
        "    # От начальной точки start длиной length\n",
        "    ax1.plot(data[start:start + length, chn],\n",
        "             label=CHANNEL_NAMES[chn])\n",
        "ax1.set_ylabel('Цена, руб')\n",
        "ax1.legend()\n",
        "\n",
        "# Канал volume (объем)\n",
        "ax2.bar(x=np.arange(length), \n",
        "        height=data[start:start + length, CHANNEL_INDEX['Close']],\n",
        "        label='Close')\n",
        "ax2.set_ylabel('Сделки')\n",
        "ax2.legend()\n",
        "\n",
        "plt.xlabel('Время')\n",
        "# Регулировка пределов оси x\n",
        "plt.xlim(0, length)\n",
        "# Указание расположить подграфики плотнее друг к другу\n",
        "plt.tight_layout()\n",
        "# Фиксация графика\n",
        "plt.show()"
      ],
      "execution_count": null,
      "outputs": [
        {
          "output_type": "display_data",
          "data": {
            "text/plain": [
              "<Figure size 1296x720 with 2 Axes>"
            ],
            "image/png": "[encoded data removed]"
          },
          "metadata": {
            "needs_background": "light"
          }
        }
      ]
    },
    {
      "cell_type": "markdown",
      "metadata": {
        "id": "CKpTtma9Vw8W"
      },
      "source": [
        "### Подготовка выборок данных для нейросети\n",
        "\n",
        "\n"
      ]
    },
    {
      "cell_type": "code",
      "metadata": {
        "colab": {
          "base_uri": "https://localhost:8080/"
        },
        "id": "ga7MvxXzF3Ta",
        "outputId": "3d2cdc0d-d4b3-46b7-fa8d-ce2c474a8bc3"
      },
      "source": [
        "# Словарь каналов данных с их индексами\n",
        "print(CHANNEL_INDEX)"
      ],
      "execution_count": null,
      "outputs": [
        {
          "output_type": "stream",
          "name": "stdout",
          "text": [
            "{'Open': 0, 'High': 1, 'Low': 2, 'Close': 3}\n"
          ]
        }
      ]
    },
    {
      "cell_type": "markdown",
      "metadata": {
        "id": "5aEU3ERt-CXg"
      },
      "source": [
        "Установим гиперпараметры, отберем входные и выходные параметры. 300 отчетов, 30 тысяч примеров пойдут в проверочную выборку:"
      ]
    },
    {
      "cell_type": "code",
      "metadata": {
        "id": "FuA2Y7xTA_BZ"
      },
      "source": [
        "# Задание гиперпараметров\n",
        "CHANNEL_X = CHANNEL_NAMES                 # Отбор каналов входных данных\n",
        "CHANNEL_Y = ['Close']                     # Отбор каналов данных для предсказания\n",
        "SEQ_LEN = 300                             # Длина прошедших данных для анализа\n",
        "BATCH_SIZE = 32                           # Объем батча для генератора\n",
        "TEST_LEN = 3000                          # Объем тестовой выборки\n",
        "TRAIN_LEN = data.shape[0] - TEST_LEN      # Объем обучающей выборки"
      ],
      "execution_count": null,
      "outputs": []
    },
    {
      "cell_type": "markdown",
      "metadata": {
        "id": "qteK_ezVmDzq"
      },
      "source": [
        "Определим, какие данные пойдут в выборки. Разделим основной набор данных на обучающую и тестовую выборки. Обязательно нормируем данные. То же самое сделаем с выходными данными. При помощи генератора создадим выборки для обучения и проверки:"
      ]
    },
    {
      "cell_type": "code",
      "metadata": {
        "colab": {
          "base_uri": "https://localhost:8080/"
        },
        "id": "kQ4it_i3KSLU",
        "outputId": "fd951f8e-5b24-4a8c-9c13-763ccf6d21dd"
      },
      "source": [
        "# Формирование списков индексов каналов данных для входных и выходных выборок\n",
        "chn_x = [CHANNEL_INDEX[c] for c in CHANNEL_X]\n",
        "chn_y = [CHANNEL_INDEX[c] for c in CHANNEL_Y]\n",
        "\n",
        "# Проверка результата\n",
        "print(chn_x, chn_y)\n",
        "\n",
        "# Разделение данных на тренировочный и тестовый наборы\n",
        "# 2*SEQ_LEN - для разрыва между тренировочными и тестовыми данными \n",
        "# варьируемый параметр, страховка от пересечения\n",
        "data_train, data_test = data[:TRAIN_LEN], data[TRAIN_LEN + 2*SEQ_LEN:]\n",
        "\n",
        "# Отбор входных данных\n",
        "x_data_train, x_data_test = data_train[:, chn_x], data_test[:, chn_x]\n",
        "\n",
        "# Масштабирование данных\n",
        "x_scaler = MinMaxScaler()\n",
        "x_scaler.fit(x_data_train)\n",
        "x_data_train = x_scaler.transform(x_data_train)\n",
        "x_data_test = x_scaler.transform(x_data_test)\n",
        "\n",
        "# Отбор выходных данных\n",
        "y_data_train, y_data_test = data_train[:, chn_y], data_test[:, chn_y]\n",
        "\n",
        "# Масштабирование данных\n",
        "y_scaler = MinMaxScaler()\n",
        "y_scaler.fit(y_data_train)\n",
        "y_data_train = y_scaler.transform(y_data_train)\n",
        "y_data_test = y_scaler.transform(y_data_test)\n",
        "\n",
        "# Проверка формы данных\n",
        "print(f'Train data: {x_data_train.shape}, {y_data_train.shape}')\n",
        "print(f'Test  data: {x_data_test.shape}, {y_data_test.shape}')\n",
        "\n",
        "# Создание генератора для обучения\n",
        "train_datagen = TimeseriesGenerator(x_data_train, \n",
        "                                    y_data_train,\n",
        "                                    length=SEQ_LEN,\n",
        "                                    stride=1,\n",
        "                                    sampling_rate=1,\n",
        "                                    batch_size=BATCH_SIZE)\n",
        "\n",
        "# Аналогичный генератор для валидации при обучении\n",
        "val_datagen = TimeseriesGenerator(x_data_test, \n",
        "                                  y_data_test,\n",
        "                                  length=SEQ_LEN,\n",
        "                                  stride=1,\n",
        "                                  sampling_rate=1,\n",
        "                                  batch_size=BATCH_SIZE)\n",
        "\n",
        "# Проверка формы выдаваемого генератором результата\n",
        "print(f'Train batch x: {train_datagen[0][0].shape}, y: {train_datagen[0][1].shape}')"
      ],
      "execution_count": null,
      "outputs": [
        {
          "output_type": "stream",
          "name": "stdout",
          "text": [
            "[0, 1, 2, 3] [3]\n",
            "Train data: (15818, 4), (15818, 1)\n",
            "Test  data: (2400, 4), (2400, 1)\n",
            "Train batch x: (32, 300, 4), y: (32, 1)\n"
          ]
        }
      ]
    },
    {
      "cell_type": "code",
      "source": [
        "inputShape = train_datagen[0][0].shape\n",
        "print(inputShape)\n",
        "outputShape = train_datagen[0][1].shape\n",
        "print(outputShape)"
      ],
      "metadata": {
        "id": "18-tESoYnEsE",
        "outputId": "43b7fff6-4e46-4399-86e3-a826d2938744",
        "colab": {
          "base_uri": "https://localhost:8080/"
        }
      },
      "execution_count": null,
      "outputs": [
        {
          "output_type": "stream",
          "name": "stdout",
          "text": [
            "(32, 300, 4)\n",
            "(32, 1)\n"
          ]
        }
      ]
    },
    {
      "cell_type": "code",
      "source": [
        "# Генератор тестовой выборки, генерирует один батч на всю выборку\n",
        "test_datagen = TimeseriesGenerator(x_data_test, \n",
        "                                   y_data_test,\n",
        "                                   length=SEQ_LEN,\n",
        "                                   stride=1,\n",
        "                                   sampling_rate=1,\n",
        "                                   batch_size=x_data_test.shape[0])\n",
        "\n",
        "# Формирование тестовой выборки из генератора\n",
        "x_test, y_test = test_datagen[0]\n",
        "\n",
        "# Проверка формы тестовой выборки\n",
        "print(f'Test x: {x_test.shape}, y: {y_test.shape}')"
      ],
      "metadata": {
        "id": "EjOkXVCOnGUr",
        "outputId": "8dcff318-f01f-4b7f-9c8a-599e4a2bd879",
        "colab": {
          "base_uri": "https://localhost:8080/"
        }
      },
      "execution_count": null,
      "outputs": [
        {
          "output_type": "stream",
          "name": "stdout",
          "text": [
            "Test x: (2100, 300, 4), y: (2100, 1)\n"
          ]
        }
      ]
    },
    {
      "cell_type": "markdown",
      "metadata": {
        "id": "FdQykrM7oBM0"
      },
      "source": [
        "### Сервисные функции\n",
        "\n",
        "также из лекции \"Базовый блок | Обработка временных рядов с помощью нейронных сетей (Практика 1) | УИИ\""
      ]
    },
    {
      "cell_type": "markdown",
      "metadata": {
        "id": "urCg3MosICVl"
      },
      "source": [
        "Вспомним эти сервисные функции, которые упростят дальнейшие эксперименты с архитектурами НС:\n",
        "- `get_pred()` – обученная модель. Предсказывает результат, который возвращается к ненормированным данным;\n",
        "- `correlate()` – расчет коэффициента автокорреляции;\n",
        "- `show_predict()` – построение графиков предсказания и верных ответов;\n",
        "- `auto_corr()` – расчет и построение графика автокорреляции;"
      ]
    },
    {
      "cell_type": "code",
      "metadata": {
        "id": "dkTikA68tszK"
      },
      "source": [
        "def get_pred(currModel, \n",
        "             xVal, \n",
        "             yVal, \n",
        "             yScaler):\n",
        "  '''\n",
        "  Функция рассчитываем результаты прогнозирования сети\n",
        "  В аргументы принимает сеть (currModel) и проверочную выборку\n",
        "  Выдаёт результаты предсказания predVal\n",
        "  И правильные ответы в исходной размерности yValUnscaled (какими они были до нормирования)\n",
        "  '''\n",
        "  \n",
        "  # Вычисление и деномализация предсказания\n",
        "  predVal = yScaler.inverse_transform(currModel.predict(xVal))\n",
        "  \n",
        "  # Денормализация верных ответов\n",
        "  yValUnscaled = yScaler.inverse_transform(yVal)\n",
        "  \n",
        "  # И возвращаем исходны масштаб данных, до нормализации\n",
        "  return (predVal, yValUnscaled)\n",
        "\n",
        "\n",
        "# Функция расёта корреляции дух одномерных векторов\n",
        "\n",
        "def correlate(a, \n",
        "              b):\n",
        "  # Рассчитываем основные показатели\n",
        "  ma = a.mean() # Среднее значение первого вектора\n",
        "  mb = b.mean() # Среднее значение второго вектора\n",
        "  mab = (a*b).mean() # Среднее значение произведения векторов\n",
        "  sa = a.std() # Среднеквадратичное отклонение первого вектора\n",
        "  sb = b.std() # Среднеквадратичное отклонение второго вектора\n",
        "  \n",
        "  #Рассчитываем корреляцию\n",
        "  val = 0\n",
        "  if ((sa>0) & (sb>0)):\n",
        "    val = (mab-ma*mb)/(sa*sb)\n",
        "  return val # аналог функции в нампи np.corrcoef(a, b)[0, 1]\n",
        "\n",
        "\n",
        "def show_predict(start, \n",
        "                 step, \n",
        "                 channel, \n",
        "                 predVal, \n",
        "                 yValUnscaled):\n",
        "  '''\n",
        "  Функция визуализирует графики, что предсказала сеть и какие были правильные ответы\n",
        "  start - точка с которой начинаем отрисовку графика\n",
        "  step - длина графика, которую отрисовываем\n",
        "  channel - какой канал отрисовываем\n",
        "  '''\n",
        "  \n",
        "  plt.figure(figsize=(12, 5))\n",
        "  plt.plot(predVal[start:start+step, channel], \n",
        "           label='Прогноз')\n",
        "  plt.plot(yValUnscaled[start:start+step, channel], \n",
        "           label='Базовый ряд')\n",
        "  plt.xlabel('Время')\n",
        "  plt.ylabel('Значение Close')\n",
        "  plt.legend()\n",
        "  plt.show()\n",
        "  \n",
        "\n",
        "\n",
        "def auto_corr(channels, corrSteps, predVal, yValUnscaled, plot_graf = True, return_data = False):\n",
        "  '''\n",
        "  Функция рисуем корреляцию прогнозированного сигнала с правильным\n",
        "  Смещая на различное количество шагов назад\n",
        "  Для проверки появления эффекта автокорреляции\n",
        "  channels - по каким каналам отображать корреляцию\n",
        "  corrSteps - на какое количество шагов смещать сигнал назад для рассчёта корреляции\n",
        "  showGraf - показываем график или нет\n",
        "  returnData - возвращаем массивы автокорреляции или нет\n",
        "  '''\n",
        "  # Проходим по всем каналам\n",
        "  for ch in channels:\n",
        "    corr = [] # Создаём пустой лист, в нём будут корреляции при смезении на i рагов обратно\n",
        "    yLen = yValUnscaled.shape[0] # Запоминаем размер проверочной выборки\n",
        "\n",
        "      # Постепенно увеличикаем шаг, насколько смещаем сигнал для проверки автокорреляции\n",
        "    for i in range(corrSteps):\n",
        "      # Получаем сигнал, смещённый на i шагов назад\n",
        "      # predVal[i:, ch]\n",
        "      # Сравниваем его с верными ответами, без смещения назад\n",
        "      # yValUnscaled[:yLen-i,ch]\n",
        "      # Рассчитываем их корреляцию и добавляем в лист\n",
        "      corr.append(correlate(yValUnscaled[:yLen-i,ch], predVal[i:, ch]))\n",
        "\n",
        "    own_corr = [] # Создаём пустой лист, в нём будут корреляции при смезении на i рагов обратно\n",
        "\n",
        "      # Постепенно увеличикаем шаг, насколько смещаем сигнал для проверки автокорреляции\n",
        "    for i in range(corrSteps):\n",
        "      # Получаем сигнал, смещённый на i шагов назад\n",
        "      # predVal[i:, ch]\n",
        "      # Сравниваем его с верными ответами, без смещения назад\n",
        "      # yValUnscaled[:yLen-i,ch]\n",
        "      # Рассчитываем их корреляцию и добавляем в лист\n",
        "      own_corr.append(correlate(yValUnscaled[:yLen-i,ch], yValUnscaled[i:, ch]))\n",
        "\n",
        "    # Отображаем график коррелций для данного шага\n",
        "    if plot_graf: #Если нужно показать график\n",
        "      plt.figure(figsize=(12, 5))\n",
        "      plt.plot(corr, label='предсказание на ' + str(ch+1) + ' шаг')\n",
        "      plt.plot(own_corr, label='Эталон')\n",
        "\n",
        "  if plot_graf: #Если нужно показать график\n",
        "    plt.xlabel('Время')\n",
        "    plt.ylabel('Значение')\n",
        "    plt.legend()\n",
        "    plt.show()\n",
        "\n",
        "  if return_data: #Если нужно вернуть массивы автокорреляции\n",
        "     return corr, own_corr"
      ],
      "execution_count": null,
      "outputs": []
    },
    {
      "cell_type": "markdown",
      "metadata": {
        "id": "8H4ZmGWaYwjx"
      },
      "source": [
        "## Подбор линейной архитектуры\n",
        "\n",
        "В данном разделе мы будем искать оптимальный состав линейной нейросети"
      ]
    },
    {
      "cell_type": "markdown",
      "metadata": {
        "id": "obobeKK8_aDZ"
      },
      "source": [
        " Будем искать сеть со следующей логикой построения:\n",
        " \n",
        " **Входной блок**\n",
        "\n",
        "*   0 - делаем ли нормализацию\n",
        "*   1 - размер первого свёрточного слоя\n",
        "*   2 - ядро первого свёрточного слоя \n",
        "*   3 - функция активации первого слоя\n",
        "*   4 - делаем ли MaxPooling0\n",
        "*   5 - размер MaxPooling0\n",
        "\n",
        "**Первый скрытый блок**\n",
        "\n",
        "*   6 - Делаем ли второй сверточный слой\n",
        "*   7 - размер второго сверточного слоя\n",
        "*   8 - ядро второго сверточного слоя\n",
        "*   9 - делаем ли MaxPooling1\n",
        "*   10 - размер MaxPooling1\n",
        "*   11 - функция активации\n",
        "\n",
        "**Второй скрытый блок**\n",
        "\n",
        "*   12 - Делаем ли третий сверточный слой\n",
        "*   13 - размер третьего сверточного слоя\n",
        "*   14 - ядро третьего сверточного слоя\n",
        "*   15 - делаем ли MaxPooling2\n",
        "*   16 - размер MaxPooling2\n",
        "*   17 - функция активации \n",
        "\n",
        "----\n",
        "**Третий скрытый блок Dense до Flatten()**\n",
        "*   18 - Делаем ли дополнительный полносвязного слой\n",
        "*   19 - размер полносвязного слоя\n",
        "*   20 - функция активации дополнительного слоя\n",
        "----\n",
        "\n",
        "**Предпоследний скрытый слой**\n",
        "\n",
        "*   21 - функция активации предпоследнего слоя\n",
        "*   23 - делаем ли нормализацию \n",
        "\n",
        "**Выходной слой**\n",
        "\n",
        "*   22 - функция активации выходного слоя\n",
        "*   24 - размер полносвязного слоя"
      ]
    },
    {
      "cell_type": "markdown",
      "metadata": {
        "id": "S0SAH5fUGPwf"
      },
      "source": [
        "## Функция формирования модели из бота"
      ]
    },
    {
      "cell_type": "markdown",
      "metadata": {
        "id": "Nljk_AdFwtCd"
      },
      "source": [
        "Применим еще пару идей:\n",
        "- проверим идею стоит поставить дополнительный полносвязный слой до вытягивания значений в вектор или передовать данные сразу со сверточного блока\n",
        "- для формирования значений размера свертки и количества нейронов будем использывать степень `2`. То есть будем искать значение в степень которого мы возведем двойку. \n",
        "- применим ход, который помогает обходить проблему памяти, возникающую иногда при применении слоя `Flatten()`, а далее полносвязного слоя. Мы сделаем условие, что при превышению размера слоя добавленного до `Flatten()` контрольного значения, будет применен иной вытягивающий слой `GlobalAveragePooling1D()`"
      ]
    },
    {
      "cell_type": "code",
      "metadata": {
        "id": "oX63u_SUwpMJ"
      },
      "source": [
        "#Создаём сеть (net - список параметров)\n",
        "def create_randnet(net, xLen, channels, num_cls, control_level_shape = 10**5):\n",
        "  '''\n",
        "  net - полученный бот со списком значений для формирования сети\n",
        "  xLen - размер анализируемых данных до предсказания\n",
        "  channels - количество каналов данных\n",
        "  num_cls - количество предсказываемых шагов\n",
        "  control_level_shape - парамметр при превышению которого будет применен \n",
        "                        слой GlobalAveragePooling1D, а не Flatten\n",
        "  '''\n",
        "  \n",
        "\n",
        "  model = Sequential()             # Создаем моель Sequential\n",
        "\n",
        "  '''\n",
        "  Присвоение значений параметрам слоев из значений полученного бота\n",
        " \n",
        "  Входной блок\n",
        "  '''\n",
        "  makeFirstNormalization = net[0]  # Делаем ли нормализацию в начале\n",
        "  firstConvSize = 2 ** net[1]      # Размер первого вёрточного слоя\n",
        "  firstConvKernel = net[2]         # Ядро первого свёрточного слоя\n",
        "  activation0 = net[3]             # Функция активации входного слоя\n",
        "  makeMaxPooling0 = net[4]         # Делаем ли maxpooling для нулевого слоя\n",
        "  maxPoolingSize0 = net[5]         # Размер MaxPooling\n",
        "\n",
        "  '''\n",
        "  Первый скрытый Conv блок\n",
        "  '''\n",
        "  makeSecondConv = net[6]          # Делаем ли второй свёрточный слой\n",
        "  secondConvSize = 2 ** net[7]     # Размер второго свёрточного слоя\n",
        "  secondConvKernel = net[8]        # Ядро второго свёрточного слоя\n",
        "  makeMaxPooling1 = net[9]         # Делаем ли MaxPooling\n",
        "  maxPoolingSize1 = net[10]        # Размер MaxPooling\n",
        "  activation1 = net[11]            # Функция активации\n",
        "\n",
        "  '''\n",
        "  Второй скрытый Conv блок\n",
        "  '''\n",
        "  makeThirdConv = net[12]          # Делаем ли второй свёрточный слой\n",
        "  thirdConvSize = 2 ** net[13]     # Размер второго свёрточного слоя\n",
        "  thirdConvKernel = net[14]        # Ядро второго свёрточного слоя\n",
        "  makeMaxPooling2 = net[15]        # Делаем ли MaxPooling\n",
        "  maxPoolingSize2 = net[16]        # Размер MaxPooling\n",
        "  activation2 = net[17]            # Функция активации\n",
        "\n",
        "  '''\n",
        "  Третий скрытый dense блок\n",
        "  '''\n",
        "  makeDense = net[18]              # Делаем ли Dense до Flatten \n",
        "  denseSize0 = 2 ** net[19]        # Размер полносвязного слоя \n",
        "  activationdense0 = net[20]       # Функция активации\n",
        "\n",
        "  '''\n",
        "  Выходной dense блок\n",
        "  '''\n",
        "  denseSize1 = 2 ** net[21]        # Размер предпоследнего полносвязного слоя \n",
        "  activationdense1 = net[22]       # Функция активации предпоследнего полносвязного слоя \n",
        "  makeSecondNormalization = net[23]  # Делаем ли нормализацию в начале\n",
        "  activationdense2 = net[24]       # Функция активации дпоследнего полносвязного слоя \n",
        "\n",
        "  '''\n",
        "  Список активационных функций\n",
        "  '''\n",
        "  activation_list = ['linear','relu', 'elu', 'selu' ,'tanh'] \n",
        "\n",
        "\n",
        "  '''\n",
        "  Условия для формирования блоков\n",
        "  _______________________________\n",
        "\n",
        "  Входной Conv блок\n",
        "  '''\n",
        "  # Если делаем нормализацию в начале\n",
        "  if (makeFirstNormalization):      \n",
        "      # Добавляем слой BatchNormalization\n",
        "      model.add(BatchNormalization(input_shape=(xLen, channels))) \n",
        "\n",
        "      # Добавляем Conv1D-слой с firstConvSize нейронами и ядром (firstConvKernel)\n",
        "      model.add(Conv1D(firstConvSize, firstConvKernel,\n",
        "      activation=activation_list[activation0], padding='same')) \n",
        "\n",
        "  else:\n",
        "      # Добавляем Conv1D-слой с firstConvSize нейронами и ядром (firstConvKernel)\n",
        "      model.add(Conv1D(firstConvSize, firstConvKernel, input_shape=(xLen, channels),\n",
        "                      activation=activation_list[activation0], padding='same')) \n",
        "      # Если делаем maxpooling\n",
        "  if makeMaxPooling0:               \n",
        "      model.add(MaxPooling1D(maxPoolingSize0))\n",
        "\n",
        "  '''\n",
        "  Первый скрытый Conv блок\n",
        "  '''\n",
        "  # Если делаем второй свёрточный слой\n",
        "  if (makeSecondConv):              \n",
        "      # Добавляем Conv1D-слой с secondConvSize нейронами и ядром (secondConvKernel)\n",
        "      model.add(Conv1D(secondConvSize, secondConvKernel,\n",
        "                      activation=activation_list[activation1], padding='same')) \n",
        "      \n",
        "      # Если делаем MaxPooling\n",
        "      if (makeMaxPooling1):           \n",
        "        # Добавляем слой MaxPooling1D с размером (maxPoolingSize)\n",
        "        model.add(MaxPooling1D(pool_size=maxPoolingSize1)) \n",
        "\n",
        "  '''\n",
        "  Второй скрытый Conv блок\n",
        "  '''\n",
        "  # Если делаем второй свёрточный слой\n",
        "  if (makeThirdConv):               \n",
        "      # Добавляем Conv1D-слой с secondConvSize нейронами и ядром (secondConvKernel)\n",
        "      model.add(Conv1D(thirdConvSize, thirdConvKernel,\n",
        "                      activation=activation_list[activation2], padding='same')) \n",
        "      # Если делаем MaxPooling\n",
        "      if (makeMaxPooling2):           \n",
        "          # Добавляем слой MaxPooling1D с размером (maxPoolingSize, maxPoolingSize)\n",
        "          model.add(MaxPooling1D(pool_size=maxPoolingSize2)) \n",
        "\n",
        "  '''\n",
        "  Третий скрытый dense блок\n",
        "  '''\n",
        "  # Если делаем Dense до Flatten() или GlobalAveragePooling1D()\n",
        "  if (makeDense):\n",
        "      model.add(Dense(denseSize0, activation=activation_list[activationdense0]))\n",
        "\n",
        "  '''\n",
        "  Блок проверки размерности слоя\n",
        "  Для применения Flatten() или GlobalAveragePooling1D()\n",
        "  для вытягивания в вектор значений и передачи в выходной блок из Dense слоев\n",
        "  '''\n",
        "  # Получаем размерность последнего из добавленных слоев\n",
        "  control_shape = model.layers[-1].output.get_shape()\n",
        "\n",
        "  # Сравниваем с контрольным значением и применяем слой по условию\n",
        "  if control_shape[-1]*control_shape[-2] < control_level_shape:\n",
        "      model.add(Flatten())                   # Добавляем слой Flatten\n",
        "  else: model.add(GlobalAveragePooling1D())  # Добавляем слой GlobalAveragePooling1D\n",
        " \n",
        "  '''\n",
        "  Выходной dense блок\n",
        "  '''\n",
        "  # Если делаем финальную нормализацию         \n",
        "  if (makeSecondNormalization):     \n",
        "      model.add(BatchNormalization()) # Добавляем слой BatchNormalization\n",
        "  # Добавляем слой Dense с denseSize нейронами  \n",
        "  model.add(Dense(denseSize1, activation=activation_list[activationdense1])) \n",
        "  # Добавляем Dense-слой с softmax-активацией и 10 нейронами\n",
        "  model.add(Dense(num_cls, activation=activation_list[activationdense2]))   \n",
        "  \n",
        "  # Возвращаем модель\n",
        "  return model    "
      ],
      "execution_count": null,
      "outputs": []
    },
    {
      "cell_type": "markdown",
      "metadata": {
        "id": "VRCyxQLd6dqu"
      },
      "source": [
        "## Функция формирования случайного бота"
      ]
    },
    {
      "cell_type": "markdown",
      "metadata": {
        "id": "9m1oBFPF5iMC"
      },
      "source": [
        "Теперь нам нужна функция которая будет формировать список со случайными значениями, для случайных ботов популяции."
      ]
    },
    {
      "cell_type": "code",
      "metadata": {
        "id": "d8xQUne-5gZI"
      },
      "source": [
        "def create_bot4net():\n",
        "  '''\n",
        "  Функция создания списка случайных параметров\n",
        "  '''\n",
        "\n",
        "  net = []\n",
        "  '''\n",
        "  Входной Conv блок\n",
        "  '''\n",
        "  net.append(random.randint(0,1)) # 0 Делаем или нет нормализацию \n",
        "  net.append(random.randint(3,10)) # 1 Первый свёрточный слой от 4 до 1024 \n",
        "  net.append(random.randint(2,5)) # 2 Ядро первого свёрточного слоя от 2 до 7\n",
        "  net.append(random.randint(0,4)) # 3 Функция активации первого слоя\n",
        "  net.append(random.randint(0,1)) # 4 Делаем ли MaxPooling\n",
        "  net.append(random.randint(1,4)) # 5 Размер MaxPooling\n",
        "\n",
        "  '''\n",
        "  Первый скрытый Conv блок\n",
        "  '''\n",
        "  net.append(random.randint(0,1)) # 6 Сколько делаем еще сверточных слоев\n",
        "  net.append(random.randint(3,10)) # 1 Первый свёрточный слой от 4 до 1024 \n",
        "  net.append(random.randint(2,5)) # 8 Ядро второго свёрточного слоя от 2 до 8\n",
        "  net.append(random.randint(0,1)) # 9 Делаем ли MaxPooling\n",
        "  net.append(random.randint(1,4)) # 10 Размер MaxPooling\n",
        "  net.append(random.randint(0,4)) # 11 Функция активации второго слоя\n",
        "\n",
        "  '''\n",
        "  Второй скрытый Conv блок\n",
        "  '''\n",
        "  net.append(random.randint(0,1)) # 12 Сколько делаем еще сверточных слоев\n",
        "  net.append(random.randint(3,10)) # 1 Первый свёрточный слой от 4 до 1024 \n",
        "  net.append(random.randint(2,5)) # 14 Ядро второго свёрточного слоя от 2 до 8\n",
        "  net.append(random.randint(0,1)) # 14 Делаем ли MaxPooling\n",
        "  net.append(random.randint(1,4)) # 16 Размер MaxPooling\n",
        "  net.append(random.randint(0,4)) # 17 Функция активации второго слоя\n",
        "\n",
        "  '''\n",
        "  Третий скрытый dense блок\n",
        "  '''\n",
        "  net.append(random.randint(0,1)) # 18 Делаем ли Dense до Flatten \n",
        "  net.append(random.randint(2,10)) # 19 Размер полносвязного слоя \n",
        "  net.append(random.randint(0,4)) # 20 Функция активации\n",
        "\n",
        "  '''\n",
        "  Выходной dense блок\n",
        "  '''\n",
        "  net.append(random.randint(2,10)) # 21 Размер полносвязного слоя от 4 до 1024\n",
        "  net.append(random.randint(0,4)) # 22 Функция активации предпоследнего dense слоя\n",
        "  net.append(random.randint(0,1)) # 23 Делаем ли финальную нормализацию слой\n",
        "  net.append(random.randint(0,4)) # 24 Функция активации последнего слоя\n",
        "  \n",
        "  return net"
      ],
      "execution_count": null,
      "outputs": []
    },
    {
      "cell_type": "markdown",
      "metadata": {
        "id": "7nBFNd0QKdK5"
      },
      "source": [
        "Создадим случаного бота функцией `create_bot4net()` и подадим в функцию формирования сети из бота - `create_randnet()`"
      ]
    },
    {
      "cell_type": "code",
      "metadata": {
        "colab": {
          "base_uri": "https://localhost:8080/"
        },
        "id": "HCgFbyYtmh7B",
        "outputId": "1b856d22-5983-450b-923f-a4b76dd6b3f3"
      },
      "source": [
        "bot = create_bot4net()\n",
        "print(bot)\n",
        "print('Длина бота', len(bot))\n",
        "model = create_randnet(bot,\n",
        "                      inputShape[1], # количество подаваемых шагов в наборе\n",
        "                      inputShape[2], # количество каналов данных в наборе\n",
        "                      outputShape[1] # на сколько предсказываем \n",
        "                      )\n",
        "# выводим слои модели \n",
        "model.summary()                               "
      ],
      "execution_count": null,
      "outputs": [
        {
          "output_type": "stream",
          "name": "stdout",
          "text": [
            "[0, 9, 2, 3, 0, 1, 1, 9, 2, 1, 3, 1, 1, 9, 2, 1, 3, 3, 0, 6, 0, 3, 2, 0, 2]\n",
            "Длина бота 25\n",
            "Model: \"sequential\"\n",
            "_________________________________________________________________\n",
            " Layer (type)                Output Shape              Param #   \n",
            "=================================================================\n",
            " conv1d (Conv1D)             (None, 300, 512)          4608      \n",
            "                                                                 \n",
            " conv1d_1 (Conv1D)           (None, 300, 512)          524800    \n",
            "                                                                 \n",
            " max_pooling1d (MaxPooling1D  (None, 100, 512)         0         \n",
            " )                                                               \n",
            "                                                                 \n",
            " conv1d_2 (Conv1D)           (None, 100, 512)          524800    \n",
            "                                                                 \n",
            " max_pooling1d_1 (MaxPooling  (None, 33, 512)          0         \n",
            " 1D)                                                             \n",
            "                                                                 \n",
            " flatten (Flatten)           (None, 16896)             0         \n",
            "                                                                 \n",
            " dense (Dense)               (None, 8)                 135176    \n",
            "                                                                 \n",
            " dense_1 (Dense)             (None, 1)                 9         \n",
            "                                                                 \n",
            "=================================================================\n",
            "Total params: 1,189,393\n",
            "Trainable params: 1,189,393\n",
            "Non-trainable params: 0\n",
            "_________________________________________________________________\n"
          ]
        }
      ]
    },
    {
      "cell_type": "markdown",
      "metadata": {
        "id": "1gn7KYsh9-7d"
      },
      "source": [
        "## Функция оценки бота"
      ]
    },
    {
      "cell_type": "markdown",
      "metadata": {
        "id": "aB_m3kv3MQji"
      },
      "source": [
        "В задаче предсказания следущего шага на основе определенного количества `xLen` предыдущих, кроме самой точности предсказания важно оценивать и наличие корреляции автокорреляции.\n",
        "\n",
        "- нам нужно получить точность модели при обучении хотя бы на 3х эпохах.Это мы получаем при обучении на `fit()`\n",
        "- нм нужно оценить расхождение графиков автокорреляции. Это можно оценить сверив функциeй `MAE()` список двух автокорреляционных данных.\n",
        "\n",
        "Далее есть разные подходы и все они имеют плюсы и минусы:\n",
        "- можно перемножить оби ошики, тогда получая по каждой ошибке расхождения мы будем усменьшать общую ошибку. Плюс в том, что такой подход позволяет поиску лучше сходится, минус в том, что если какой-то бот выдаст случайно минимум сильный по одной ошибке, то другие не смогут его перебыть даже с полее сбалансироваными ошибками.\n",
        "- можно ошибки складывать и даже каждуюю умножать на свой множитль, давая каждой ошибке свою значимость. Плюс в том, что можно искать более сбалансированую пропорцию, но большой минус в том, что такой подход может давать плохую сходимость к лучшему, так как много локальных минимумов, а поиск долгий!!\n",
        "\n",
        "В качестве эксперемента возьмем произведение, но ошибку от `fit()` возьмем не на последней эпохе теста, а высчитаем через `np.median()` или `np.mean()`, тем самым смягчив немного ее влияние в произведении, но сохраним плюс сходимости в поиске при произведении.\n",
        "\n",
        "\n"
      ]
    },
    {
      "cell_type": "code",
      "metadata": {
        "id": "VK3VHmhpFPkk"
      },
      "source": [
        "def eval_net(net, ep, verb, xData, yData, xLen, channels, num_cls, x_test, y_test, Scaler):\n",
        "  '''\n",
        "  Функция вычисления результата работы сети\n",
        "  '''\n",
        "  val = 0\n",
        "  model = create_randnet(net, xLen,  channels, num_cls) # Создаем модель create_randnet\n",
        "  \n",
        "  # Компилируем модель\n",
        "  model.compile(optimizer=Adam(learning_rate=1e-4),\n",
        "                  loss='mse')\n",
        "  print('Обучение модели бота', net)\n",
        "  history = model.fit(xData,\n",
        "                    epochs=ep, \n",
        "                    verbose=verb,\n",
        "                    validation_data=yData)\n",
        "    \n",
        "\n",
        "  # Прогнозируем данные текущей сетью\n",
        "  y_pred, y_true = get_pred(model, x_test, y_test, Scaler) #Прогнозируем данные\n",
        "\n",
        "  print('Сохранение оценки бота') \n",
        "  # Возвращаем автокорреляцию \n",
        "  corr, own_corr = auto_corr([0], 5, y_pred, y_true, plot_graf = False, return_data = True)\n",
        "  val = MAE(corr, own_corr).numpy() * np.median(history.history[\"val_loss\"])# Считаем MAE и прибавляем ошибку\n",
        "  \n",
        "  return val                      # Возвращаем точность"
      ],
      "execution_count": null,
      "outputs": []
    },
    {
      "cell_type": "markdown",
      "metadata": {
        "id": "eP9HN3K26I0O"
      },
      "source": [
        "Применим функцию `eval_net()` к нашему случайному боту. Функция создать сеть и оценит ее, вернув значение итоговой ошибкий"
      ]
    },
    {
      "cell_type": "code",
      "metadata": {
        "colab": {
          "base_uri": "https://localhost:8080/"
        },
        "id": "-zqYxnBC-v0b",
        "outputId": "8c4918e5-97d5-471c-bee5-59238ee095f1"
      },
      "source": [
        "eval_net(bot,            # бот популяции \n",
        "            2,              # к-во эпох проверки \n",
        "            1,              # выводить или нет процесс обучения \n",
        "            train_datagen,  # тренировочные данные\n",
        "            val_datagen,    # проверочные данные\n",
        "            inputShape[1],  # количество подаваемых шагов в наборе\n",
        "            inputShape[2],  # количество каналов данных в наборе\n",
        "            y_test.shape[1], # на сколько предсказываем \n",
        "            x_test,         # тестовая выборка\n",
        "            y_test,         # тестовая выборка\n",
        "            y_scaler        # скейлер данных\n",
        "            )"
      ],
      "execution_count": null,
      "outputs": [
        {
          "output_type": "stream",
          "name": "stdout",
          "text": [
            "Обучение модели бота [0, 9, 2, 3, 0, 1, 1, 9, 2, 1, 3, 1, 1, 9, 2, 1, 3, 3, 0, 6, 0, 3, 2, 0, 2]\n",
            "Epoch 1/2\n",
            "485/485 [==============================] - 23s 24ms/step - loss: 0.0077 - val_loss: 0.0423\n",
            "Epoch 2/2\n",
            "485/485 [==============================] - 10s 21ms/step - loss: 0.0011 - val_loss: 0.0177\n",
            "66/66 [==============================] - 1s 6ms/step\n",
            "Сохранение оценки бота\n"
          ]
        },
        {
          "output_type": "execute_result",
          "data": {
            "text/plain": [
              "0.0011295065981408354"
            ]
          },
          "metadata": {},
          "execution_count": 20
        }
      ]
    },
    {
      "cell_type": "markdown",
      "metadata": {
        "id": "H2frw5oE8bgl"
      },
      "source": [
        "## Поиск нейросети генетикой"
      ]
    },
    {
      "cell_type": "markdown",
      "metadata": {
        "id": "dyCPss6EwIJ8"
      },
      "source": [
        "За основу генетического отбора берется код, что был на предыдущих лекциях по генетике. Но мы все соберем в одной ячейке без дополнительных функций, так у нас есть уже основная функция по созданию бота популяции `create_bot4net()`\n",
        "\n",
        "Применим еще котроль за поиском, что отсечь момент когда поиск уже не дает нужного прироста в точности лучшего бота и уже пора закончить поискю. Для этого будем собирать в список `sval_best` точность первых лучших ботов каждой эпохи, и начиная с 5ть эпохи после очередого добавления и сортировки будем оставлять только 5ть и проверять этот список методом `np.std()` на среднее отклонения в нем. И если оно ниже контрольного, то поиск завершаем!\n",
        "\n",
        "Тем самым мы можем искать эффективнее и не ждать если уже нет уменьшения в ошибке."
      ]
    },
    {
      "cell_type": "code",
      "metadata": {
        "id": "7FBV-vSFlht9",
        "colab": {
          "base_uri": "https://localhost:8080/"
        },
        "outputId": "c12c149e-9a8e-4aaf-ed38-d64d22195878"
      },
      "source": [
        "'''\n",
        "Основные параметры для поиска\n",
        "'''\n",
        "n = 15              # Общее число ботов\n",
        "nsurv = 5           # Количество выживших (столько лучших переходит в новую популяцию)\n",
        "nnew = n - nsurv    # Количество новых (столько новых ботов создается)\n",
        "l = 25              # Размер бота\n",
        "epohs = 20          # количество эпох поиска\n",
        "control_std = 0.001 # выход из поиска если изменение в лучших ниже данного значения\n",
        "\n",
        "\n",
        "'''\n",
        "Изменении показателя мутации по эпохам поиска\n",
        "'''\n",
        "mut = 0.5        # коэфициент мутаций\n",
        "eph_change_mut = [2, 4, 6, 8] # эпохи смены коэфициента мутации\n",
        "new_mut = [0.4, 0.3, 0.2, 0.1] # новый коэфициент мутаци\n",
        "\n",
        "\n",
        "'''\n",
        "Создаём популяцию случайных ботов\n",
        "'''\n",
        "popul = []         # Массив популяции\n",
        "val = []           # Одномерный массив значений этих ботов\n",
        "for i in range(n):\n",
        "    popul.append(create_bot4net())\n",
        "\n",
        "\n",
        "'''\n",
        "Основной цикл поиска\n",
        "'''  \n",
        "sval_best = []    # Одномерный массив значений лучших ботов на эпохах\n",
        "# Пробегаем по всем эпохам\n",
        "for it in range(epohs):                 \n",
        "    # проверяем текущую эпоху it на принадлежность графику смены мутации\n",
        "    if it in eph_change_mut:\n",
        "        idx = eph_change_mut.index(it) # получаем индекс  по эпохе\n",
        "        mut = new_mut[idx] # проверяем текущую эпохуобновляем мутацию\n",
        "        print('Смена мутации на', mut)\n",
        "        print()  \n",
        "\n",
        "    val = []                              # Обнуляем значения бота\n",
        "    curr_time = time.time()               # засекаем время\n",
        "\n",
        "    '''\n",
        "    Получение оценок ботов\n",
        "    '''  \n",
        "    # Пробегаем в цикле по всем ботам \n",
        "    for i in range(n):                    \n",
        "        bot = popul[i]                     # Берем очередного бота\n",
        "\n",
        "        # Вычисляем точность текущего бота\n",
        "        f = eval_net(bot,            # бот популяции \n",
        "                    3,              # к-во эпох проверки \n",
        "                    0,              # выводить или нет процесс обучения \n",
        "                    train_datagen,  # тренировочные данные\n",
        "                    val_datagen,    # проверочные данные\n",
        "                    inputShape[1],  # количество подаваемых шагов в наборе\n",
        "                    inputShape[2],  # количество каналов данных в наборе\n",
        "                    outputShape[1], # на сколько предсказываем \n",
        "                    x_test,         # тестовая выборка\n",
        "                    y_test,         # тестовая выборка\n",
        "                    y_scaler        # скейлер данных\n",
        "                    ) \n",
        "        val.append(f)   # Добавляем полученное значение в список val\n",
        "    \n",
        "    '''\n",
        "    Сортировка оценок ботов и контроль поиса\n",
        "    ''' \n",
        "    sval = sorted(val, reverse=0)         # Сортируем val\n",
        "    # Выводим 5 лучших ботов\n",
        "    print(it, time.time() - curr_time, \" \", sval[0:5],popul[:5]) \n",
        "\n",
        "    sval_best.append(sval[0])             # добавляем значение лучшего бота\n",
        "    # проверка на продолжение поиска, есть разница или уже нет в точности\n",
        "    if it > 5:                            # с 6й эпохи \n",
        "        sval_best = sorted(sval_best, reverse=0)[:5] # сортируем и берем 5ть лучших \n",
        "        if np.std(sval_best) < control_std:          # сверяем значения на отличие \n",
        "            print('Поиск дучших не дает нового, выход')\n",
        "            break\n",
        "\n",
        "    '''\n",
        "    Сохранение лучших ботов в newpopul\n",
        "    '''  \n",
        "    newpopul = [] # Создаем пустой список под новую популяцию\n",
        "    # Пробегаем по всем выжившим ботам\n",
        "    for i in range(nsurv):\n",
        "        # Получаем индекс очередного бота из списка лучших в списке val             \n",
        "        index = val.index(sval[i])\n",
        "        # Добавляем в новую популяцию бота из popul с индексом index        \n",
        "        newpopul.append(popul[index])       \n",
        "    '''\n",
        "    Создание новых ботов на основе лучших ботов в newpopul.\n",
        "    Иногда дополнительно применение мутации\n",
        "    '''\n",
        "    # Проходимся в цикле nnew-раз \n",
        "    for i in range(nnew):\n",
        "        # случайный выбор родителя в диапазоне от 0 до nsurv - 1              \n",
        "        indexp1 = random.randint(0,nsurv-1) # Случайный индекс 1го родителя \n",
        "        indexp2 = random.randint(0,nsurv-1) # Случайный индекс 1го родителя\n",
        "        botp1 = newpopul[indexp1]           # бота-родителя 1 по indexp1\n",
        "        botp2 = newpopul[indexp2]           # бота-родителя  2 по indexp2    \n",
        "        newbot = []                         # пустой список для нового бота    \n",
        "        net4Mut = create_bot4net()         # Создаем случайную сеть для мутаций\n",
        "\n",
        "        '''\n",
        "        Пробегаем по всей длине бота\n",
        "        '''\n",
        "        for j in range(l):                        \n",
        "            x = 0      \n",
        "\n",
        "            '''\n",
        "            Скрещмивание\n",
        "            '''\n",
        "            # Получаем случайное число в диапазоне от 0 до 1\n",
        "            pindex = random.random() \n",
        "            # Если pindex меньше 0.5, то берем значения от 1 бота, иначе от 2\n",
        "            if pindex < 0.5:\n",
        "                x = botp1[j]\n",
        "            else:\n",
        "                x = botp2[j]\n",
        "            \n",
        "            '''\n",
        "            Мутация\n",
        "            '''\n",
        "            # С вероятностью mut устанавливаем значение бота из net4Mut\n",
        "            if (random.random() < mut):\n",
        "                x = net4Mut[j]\n",
        "              \n",
        "            newbot.append(x)    # Добавляем очередное значение в нового бота      \n",
        "        newpopul.append(newbot) # Добавляем бота в новую популяцию      \n",
        "    popul = newpopul            # Записываем в popul новую посчитанную популяцию"
      ],
      "execution_count": null,
      "outputs": [
        {
          "output_type": "stream",
          "name": "stdout",
          "text": [
            "Обучение модели бота [0, 10, 4, 0, 1, 1, 1, 6, 4, 1, 3, 4, 1, 10, 2, 1, 4, 3, 1, 3, 2, 8, 0, 1, 4]\n",
            "66/66 [==============================] - 1s 9ms/step\n",
            "Сохранение оценки бота\n",
            "Обучение модели бота [0, 9, 4, 3, 1, 3, 1, 10, 3, 0, 2, 4, 1, 6, 3, 1, 2, 2, 1, 10, 4, 7, 4, 1, 4]\n",
            "66/66 [==============================] - 1s 9ms/step\n",
            "Сохранение оценки бота\n",
            "Обучение модели бота [0, 7, 5, 3, 1, 1, 1, 4, 4, 0, 2, 2, 0, 6, 4, 1, 3, 2, 1, 2, 4, 7, 0, 0, 3]\n",
            "66/66 [==============================] - 0s 3ms/step\n",
            "Сохранение оценки бота\n",
            "Обучение модели бота [0, 9, 4, 0, 1, 1, 0, 3, 3, 1, 4, 0, 1, 3, 2, 1, 3, 2, 0, 9, 2, 7, 3, 0, 0]\n",
            "66/66 [==============================] - 0s 3ms/step\n",
            "Сохранение оценки бота\n",
            "Обучение модели бота [1, 3, 2, 2, 0, 2, 0, 5, 5, 1, 2, 0, 0, 4, 4, 0, 3, 0, 0, 8, 0, 4, 0, 0, 1]\n",
            "66/66 [==============================] - 0s 2ms/step\n",
            "Сохранение оценки бота\n",
            "Обучение модели бота [1, 4, 5, 1, 1, 4, 1, 9, 5, 0, 4, 3, 1, 8, 3, 0, 1, 4, 0, 3, 4, 7, 4, 1, 1]\n",
            "66/66 [==============================] - 0s 2ms/step\n",
            "Сохранение оценки бота\n",
            "Обучение модели бота [1, 3, 5, 0, 1, 3, 0, 6, 2, 1, 1, 3, 0, 8, 3, 0, 1, 4, 1, 6, 1, 7, 3, 0, 3]\n",
            "66/66 [==============================] - 0s 2ms/step\n",
            "Сохранение оценки бота\n",
            "Обучение модели бота [1, 3, 5, 4, 1, 1, 0, 5, 4, 1, 2, 1, 0, 7, 5, 1, 2, 0, 0, 3, 4, 3, 0, 0, 3]\n",
            "66/66 [==============================] - 0s 2ms/step\n",
            "Сохранение оценки бота\n",
            "Обучение модели бота [1, 6, 2, 1, 0, 3, 0, 6, 2, 1, 4, 3, 0, 7, 2, 0, 2, 2, 0, 3, 3, 5, 1, 0, 2]\n",
            "66/66 [==============================] - 0s 2ms/step\n",
            "Сохранение оценки бота\n",
            "Обучение модели бота [0, 3, 3, 2, 1, 3, 0, 4, 2, 1, 3, 4, 0, 10, 5, 0, 2, 4, 0, 2, 3, 8, 4, 1, 0]\n",
            "66/66 [==============================] - 0s 2ms/step\n",
            "Сохранение оценки бота\n",
            "Обучение модели бота [1, 6, 3, 2, 1, 4, 1, 10, 2, 0, 3, 3, 1, 8, 4, 1, 2, 4, 1, 6, 1, 4, 4, 0, 4]\n",
            "66/66 [==============================] - 0s 5ms/step\n",
            "Сохранение оценки бота\n",
            "Обучение модели бота [1, 4, 5, 1, 0, 3, 1, 4, 4, 0, 4, 1, 0, 4, 3, 0, 2, 4, 0, 6, 1, 7, 1, 0, 3]\n",
            "66/66 [==============================] - 0s 2ms/step\n",
            "Сохранение оценки бота\n",
            "Обучение модели бота [0, 7, 5, 1, 0, 3, 1, 3, 3, 1, 2, 4, 1, 4, 4, 0, 3, 3, 1, 6, 0, 9, 0, 1, 4]\n",
            "66/66 [==============================] - 1s 5ms/step\n",
            "Сохранение оценки бота\n",
            "Обучение модели бота [0, 9, 5, 4, 0, 1, 1, 4, 2, 0, 2, 2, 1, 5, 3, 0, 4, 2, 0, 10, 1, 3, 0, 1, 3]\n",
            "66/66 [==============================] - 0s 3ms/step\n",
            "Сохранение оценки бота\n",
            "Обучение модели бота [0, 6, 4, 3, 1, 4, 1, 7, 4, 1, 1, 1, 1, 5, 2, 1, 2, 2, 0, 4, 4, 10, 1, 1, 2]\n",
            "66/66 [==============================] - 0s 2ms/step\n",
            "Сохранение оценки бота\n",
            "0 200.24024510383606   [0.00017091929212962657, 0.0006898678192897705, 0.0016728919261933132, 0.02284104951518231, 0.07390673539357363] [[0, 10, 4, 0, 1, 1, 1, 6, 4, 1, 3, 4, 1, 10, 2, 1, 4, 3, 1, 3, 2, 8, 0, 1, 4], [0, 9, 4, 3, 1, 3, 1, 10, 3, 0, 2, 4, 1, 6, 3, 1, 2, 2, 1, 10, 4, 7, 4, 1, 4], [0, 7, 5, 3, 1, 1, 1, 4, 4, 0, 2, 2, 0, 6, 4, 1, 3, 2, 1, 2, 4, 7, 0, 0, 3], [0, 9, 4, 0, 1, 1, 0, 3, 3, 1, 4, 0, 1, 3, 2, 1, 3, 2, 0, 9, 2, 7, 3, 0, 0], [1, 3, 2, 2, 0, 2, 0, 5, 5, 1, 2, 0, 0, 4, 4, 0, 3, 0, 0, 8, 0, 4, 0, 0, 1]]\n",
            "Обучение модели бота [0, 9, 4, 0, 1, 1, 0, 3, 3, 1, 4, 0, 1, 3, 2, 1, 3, 2, 0, 9, 2, 7, 3, 0, 0]\n",
            "66/66 [==============================] - 0s 3ms/step\n",
            "Сохранение оценки бота\n",
            "Обучение модели бота [0, 7, 5, 3, 1, 1, 1, 4, 4, 0, 2, 2, 0, 6, 4, 1, 3, 2, 1, 2, 4, 7, 0, 0, 3]\n",
            "66/66 [==============================] - 0s 3ms/step\n",
            "Сохранение оценки бота\n",
            "Обучение модели бота [0, 9, 5, 4, 0, 1, 1, 4, 2, 0, 2, 2, 1, 5, 3, 0, 4, 2, 0, 10, 1, 3, 0, 1, 3]\n",
            "66/66 [==============================] - 0s 3ms/step\n",
            "Сохранение оценки бота\n",
            "Обучение модели бота [0, 10, 4, 0, 1, 1, 1, 6, 4, 1, 3, 4, 1, 10, 2, 1, 4, 3, 1, 3, 2, 8, 0, 1, 4]\n",
            "66/66 [==============================] - 1s 8ms/step\n",
            "Сохранение оценки бота\n",
            "Обучение модели бота [1, 6, 3, 2, 1, 4, 1, 10, 2, 0, 3, 3, 1, 8, 4, 1, 2, 4, 1, 6, 1, 4, 4, 0, 4]\n",
            "66/66 [==============================] - 1s 8ms/step\n",
            "Сохранение оценки бота\n",
            "Обучение модели бота [0, 3, 4, 1, 0, 1, 1, 3, 3, 1, 3, 4, 1, 3, 2, 1, 4, 2, 1, 9, 2, 2, 3, 1, 4]\n",
            "66/66 [==============================] - 0s 4ms/step\n",
            "Сохранение оценки бота\n",
            "Обучение модели бота [1, 10, 5, 2, 0, 1, 1, 4, 4, 1, 2, 4, 1, 8, 3, 1, 4, 2, 1, 10, 1, 8, 0, 0, 3]\n",
            "66/66 [==============================] - 1s 7ms/step\n",
            "Сохранение оценки бота\n",
            "Обучение модели бота [0, 3, 5, 4, 0, 1, 0, 4, 4, 0, 2, 3, 1, 6, 3, 1, 4, 2, 1, 2, 3, 3, 0, 1, 3]\n",
            "66/66 [==============================] - 0s 2ms/step\n",
            "Сохранение оценки бота\n",
            "Обучение модели бота [0, 7, 4, 1, 1, 1, 0, 4, 5, 0, 3, 2, 0, 10, 2, 1, 4, 2, 0, 4, 2, 10, 4, 0, 4]\n",
            "66/66 [==============================] - 0s 2ms/step\n",
            "Сохранение оценки бота\n",
            "Обучение модели бота [0, 9, 5, 0, 1, 1, 0, 3, 4, 1, 2, 0, 1, 6, 4, 0, 3, 2, 0, 10, 0, 5, 3, 1, 0]\n",
            "66/66 [==============================] - 0s 3ms/step\n",
            "Сохранение оценки бота\n",
            "Обучение модели бота [1, 5, 4, 3, 1, 1, 1, 3, 2, 1, 3, 0, 1, 4, 4, 1, 3, 2, 0, 6, 0, 9, 0, 1, 0]\n",
            "66/66 [==============================] - 0s 3ms/step\n",
            "Сохранение оценки бота\n",
            "Обучение модели бота [1, 6, 2, 2, 0, 4, 0, 10, 2, 1, 3, 3, 0, 4, 4, 1, 1, 4, 1, 6, 2, 7, 4, 1, 0]\n",
            "66/66 [==============================] - 0s 3ms/step\n",
            "Сохранение оценки бота\n",
            "Обучение модели бота [1, 9, 5, 4, 1, 1, 0, 3, 3, 1, 2, 0, 0, 10, 5, 1, 2, 0, 1, 4, 0, 3, 4, 1, 2]\n",
            "66/66 [==============================] - 0s 4ms/step\n",
            "Сохранение оценки бота\n",
            "Обучение модели бота [1, 10, 5, 2, 1, 1, 1, 4, 2, 0, 2, 2, 1, 10, 4, 0, 3, 1, 1, 6, 2, 4, 4, 1, 3]\n",
            "66/66 [==============================] - 1s 9ms/step\n",
            "Сохранение оценки бота\n",
            "Обучение модели бота [0, 9, 4, 3, 1, 1, 0, 4, 3, 1, 3, 2, 1, 3, 2, 1, 4, 0, 1, 9, 1, 7, 3, 1, 2]\n",
            "66/66 [==============================] - 0s 5ms/step\n",
            "Сохранение оценки бота\n",
            "1 275.4851882457733   [0.0001671104578961481, 0.0001896891481380853, 0.0032282940270429617, 0.016785744665850758, 0.035995684152088425] [[0, 9, 4, 0, 1, 1, 0, 3, 3, 1, 4, 0, 1, 3, 2, 1, 3, 2, 0, 9, 2, 7, 3, 0, 0], [0, 7, 5, 3, 1, 1, 1, 4, 4, 0, 2, 2, 0, 6, 4, 1, 3, 2, 1, 2, 4, 7, 0, 0, 3], [0, 9, 5, 4, 0, 1, 1, 4, 2, 0, 2, 2, 1, 5, 3, 0, 4, 2, 0, 10, 1, 3, 0, 1, 3], [0, 10, 4, 0, 1, 1, 1, 6, 4, 1, 3, 4, 1, 10, 2, 1, 4, 3, 1, 3, 2, 8, 0, 1, 4], [1, 6, 3, 2, 1, 4, 1, 10, 2, 0, 3, 3, 1, 8, 4, 1, 2, 4, 1, 6, 1, 4, 4, 0, 4]]\n",
            "Смена мутации на 0.4\n",
            "\n",
            "Обучение модели бота [0, 9, 4, 0, 1, 1, 0, 3, 3, 1, 4, 0, 1, 3, 2, 1, 3, 2, 0, 9, 2, 7, 3, 0, 0]\n",
            "66/66 [==============================] - 0s 3ms/step\n",
            "Сохранение оценки бота\n",
            "Обучение модели бота [0, 7, 5, 3, 1, 1, 1, 4, 4, 0, 2, 2, 0, 6, 4, 1, 3, 2, 1, 2, 4, 7, 0, 0, 3]\n",
            "66/66 [==============================] - 0s 3ms/step\n",
            "Сохранение оценки бота\n",
            "Обучение модели бота [0, 3, 4, 1, 0, 1, 1, 3, 3, 1, 3, 4, 1, 3, 2, 1, 4, 2, 1, 9, 2, 2, 3, 1, 4]\n",
            "66/66 [==============================] - 0s 4ms/step\n",
            "Сохранение оценки бота\n",
            "Обучение модели бота [0, 9, 5, 4, 0, 1, 1, 4, 2, 0, 2, 2, 1, 5, 3, 0, 4, 2, 0, 10, 1, 3, 0, 1, 3]\n",
            "66/66 [==============================] - 1s 10ms/step\n",
            "Сохранение оценки бота\n",
            "Обучение модели бота [0, 10, 4, 0, 1, 1, 1, 6, 4, 1, 3, 4, 1, 10, 2, 1, 4, 3, 1, 3, 2, 8, 0, 1, 4]\n",
            "66/66 [==============================] - 1s 8ms/step\n",
            "Сохранение оценки бота\n",
            "Обучение модели бота [0, 6, 4, 2, 0, 3, 1, 3, 2, 1, 3, 2, 0, 6, 2, 0, 1, 4, 1, 9, 2, 4, 0, 0, 3]\n",
            "66/66 [==============================] - 0s 3ms/step\n",
            "Сохранение оценки бота\n",
            "Обучение модели бота [0, 7, 5, 4, 0, 2, 0, 3, 5, 0, 4, 3, 1, 3, 2, 1, 2, 2, 0, 9, 1, 6, 4, 1, 3]\n",
            "66/66 [==============================] - 0s 2ms/step\n",
            "Сохранение оценки бота\n",
            "Обучение модели бота [0, 6, 3, 2, 1, 2, 0, 3, 4, 1, 4, 3, 1, 4, 4, 1, 3, 2, 1, 5, 4, 7, 2, 0, 0]\n",
            "66/66 [==============================] - 0s 4ms/step\n",
            "Сохранение оценки бота\n",
            "Обучение модели бота [1, 9, 5, 4, 0, 1, 1, 4, 2, 0, 3, 2, 1, 5, 3, 0, 2, 3, 0, 8, 1, 3, 2, 1, 3]\n",
            "66/66 [==============================] - 0s 3ms/step\n",
            "Сохранение оценки бота\n",
            "Обучение модели бота [0, 7, 5, 3, 1, 4, 0, 6, 5, 1, 4, 0, 0, 5, 3, 1, 4, 1, 0, 9, 2, 3, 3, 0, 2]\n",
            "66/66 [==============================] - 0s 3ms/step\n",
            "Сохранение оценки бота\n",
            "Обучение модели бота [1, 7, 5, 2, 1, 2, 1, 4, 5, 1, 1, 2, 1, 7, 2, 1, 1, 2, 1, 9, 2, 4, 4, 1, 4]\n",
            "66/66 [==============================] - 0s 4ms/step\n",
            "Сохранение оценки бота\n",
            "Обучение модели бота [0, 4, 4, 2, 1, 1, 0, 4, 3, 1, 2, 0, 0, 8, 5, 1, 2, 0, 1, 7, 4, 8, 0, 0, 2]\n",
            "66/66 [==============================] - 0s 2ms/step\n",
            "Сохранение оценки бота\n",
            "Обучение модели бота [1, 9, 4, 0, 1, 1, 0, 6, 2, 0, 3, 4, 1, 9, 3, 0, 4, 4, 1, 6, 2, 3, 0, 1, 3]\n",
            "66/66 [==============================] - 1s 8ms/step\n",
            "Сохранение оценки бота\n",
            "Обучение модели бота [0, 9, 4, 3, 1, 1, 0, 3, 4, 0, 4, 4, 1, 3, 4, 1, 3, 2, 0, 8, 3, 7, 3, 1, 3]\n",
            "66/66 [==============================] - 0s 3ms/step\n",
            "Сохранение оценки бота\n",
            "Обучение модели бота [0, 10, 5, 0, 0, 1, 0, 5, 3, 1, 4, 4, 1, 3, 2, 0, 2, 3, 1, 3, 2, 4, 0, 1, 4]\n",
            "66/66 [==============================] - 1s 6ms/step\n",
            "Сохранение оценки бота\n",
            "2 222.08562660217285   [6.020814866288334e-05, 0.0002913910005930843, 0.0003561854654421164, 0.0003824692974347965, 0.0009960414803457534] [[0, 9, 4, 0, 1, 1, 0, 3, 3, 1, 4, 0, 1, 3, 2, 1, 3, 2, 0, 9, 2, 7, 3, 0, 0], [0, 7, 5, 3, 1, 1, 1, 4, 4, 0, 2, 2, 0, 6, 4, 1, 3, 2, 1, 2, 4, 7, 0, 0, 3], [0, 3, 4, 1, 0, 1, 1, 3, 3, 1, 3, 4, 1, 3, 2, 1, 4, 2, 1, 9, 2, 2, 3, 1, 4], [0, 9, 5, 4, 0, 1, 1, 4, 2, 0, 2, 2, 1, 5, 3, 0, 4, 2, 0, 10, 1, 3, 0, 1, 3], [0, 10, 4, 0, 1, 1, 1, 6, 4, 1, 3, 4, 1, 10, 2, 1, 4, 3, 1, 3, 2, 8, 0, 1, 4]]\n",
            "Обучение модели бота [0, 9, 4, 0, 1, 1, 0, 3, 3, 1, 4, 0, 1, 3, 2, 1, 3, 2, 0, 9, 2, 7, 3, 0, 0]\n",
            "66/66 [==============================] - 0s 3ms/step\n",
            "Сохранение оценки бота\n",
            "Обучение модели бота [0, 7, 5, 3, 1, 1, 1, 4, 4, 0, 2, 2, 0, 6, 4, 1, 3, 2, 1, 2, 4, 7, 0, 0, 3]\n",
            "66/66 [==============================] - 0s 3ms/step\n",
            "Сохранение оценки бота\n",
            "Обучение модели бота [0, 6, 3, 2, 1, 2, 0, 3, 4, 1, 4, 3, 1, 4, 4, 1, 3, 2, 1, 5, 4, 7, 2, 0, 0]\n",
            "66/66 [==============================] - 0s 3ms/step\n",
            "Сохранение оценки бота\n",
            "Обучение модели бота [0, 6, 4, 2, 0, 3, 1, 3, 2, 1, 3, 2, 0, 6, 2, 0, 1, 4, 1, 9, 2, 4, 0, 0, 3]\n",
            "66/66 [==============================] - 0s 3ms/step\n",
            "Сохранение оценки бота\n",
            "Обучение модели бота [0, 7, 5, 3, 1, 4, 0, 6, 5, 1, 4, 0, 0, 5, 3, 1, 4, 1, 0, 9, 2, 3, 3, 0, 2]\n",
            "66/66 [==============================] - 0s 2ms/step\n",
            "Сохранение оценки бота\n",
            "Обучение модели бота [0, 4, 5, 3, 1, 1, 0, 6, 5, 0, 2, 2, 0, 5, 3, 1, 4, 3, 0, 9, 1, 3, 3, 0, 3]\n",
            "66/66 [==============================] - 0s 2ms/step\n",
            "Сохранение оценки бота\n",
            "Обучение модели бота [0, 4, 4, 2, 0, 3, 0, 8, 5, 1, 3, 2, 0, 6, 5, 0, 1, 4, 0, 9, 2, 2, 0, 1, 3]\n",
            "66/66 [==============================] - 0s 2ms/step\n",
            "Сохранение оценки бота\n",
            "Обучение модели бота [0, 10, 4, 2, 1, 2, 0, 3, 4, 1, 4, 0, 1, 6, 2, 0, 3, 2, 1, 9, 1, 10, 1, 0, 3]\n",
            "66/66 [==============================] - 1s 8ms/step\n",
            "Сохранение оценки бота\n",
            "Обучение модели бота [0, 7, 4, 3, 1, 1, 1, 3, 4, 0, 2, 0, 0, 10, 4, 1, 3, 1, 1, 6, 2, 7, 0, 0, 3]\n",
            "66/66 [==============================] - 0s 3ms/step\n",
            "Сохранение оценки бота\n",
            "Обучение модели бота [0, 6, 3, 1, 1, 2, 1, 5, 2, 0, 4, 2, 1, 6, 3, 1, 1, 2, 1, 5, 2, 7, 1, 1, 4]\n",
            "66/66 [==============================] - 0s 3ms/step\n",
            "Сохранение оценки бота\n",
            "Обучение модели бота [1, 9, 4, 4, 1, 1, 1, 6, 3, 0, 4, 4, 1, 3, 2, 0, 2, 2, 0, 4, 2, 4, 1, 0, 1]\n",
            "66/66 [==============================] - 0s 3ms/step\n",
            "Сохранение оценки бота\n",
            "Обучение модели бота [1, 7, 3, 0, 1, 4, 0, 6, 3, 1, 3, 0, 0, 5, 3, 1, 4, 3, 1, 9, 2, 4, 3, 0, 0]\n",
            "66/66 [==============================] - 0s 3ms/step\n",
            "Сохранение оценки бота\n",
            "Обучение модели бота [1, 7, 5, 3, 1, 1, 1, 4, 4, 0, 2, 2, 0, 7, 4, 1, 3, 2, 0, 7, 4, 7, 0, 1, 3]\n",
            "66/66 [==============================] - 0s 3ms/step\n",
            "Сохранение оценки бота\n",
            "Обучение модели бота [0, 9, 4, 0, 0, 1, 1, 4, 3, 0, 4, 2, 1, 3, 4, 0, 4, 2, 1, 2, 2, 7, 0, 0, 0]\n",
            "66/66 [==============================] - 0s 4ms/step\n",
            "Сохранение оценки бота\n",
            "Обучение модели бота [0, 6, 5, 4, 1, 4, 0, 10, 4, 1, 4, 2, 0, 6, 2, 0, 2, 1, 1, 9, 2, 3, 0, 0, 3]\n",
            "66/66 [==============================] - 0s 4ms/step\n",
            "Сохранение оценки бота\n",
            "3 185.77073454856873   [2.074357767893095e-05, 3.587376948814581e-05, 0.00011635590115957428, 0.00014721359573344772, 0.00017957778138460586] [[0, 9, 4, 0, 1, 1, 0, 3, 3, 1, 4, 0, 1, 3, 2, 1, 3, 2, 0, 9, 2, 7, 3, 0, 0], [0, 7, 5, 3, 1, 1, 1, 4, 4, 0, 2, 2, 0, 6, 4, 1, 3, 2, 1, 2, 4, 7, 0, 0, 3], [0, 6, 3, 2, 1, 2, 0, 3, 4, 1, 4, 3, 1, 4, 4, 1, 3, 2, 1, 5, 4, 7, 2, 0, 0], [0, 6, 4, 2, 0, 3, 1, 3, 2, 1, 3, 2, 0, 6, 2, 0, 1, 4, 1, 9, 2, 4, 0, 0, 3], [0, 7, 5, 3, 1, 4, 0, 6, 5, 1, 4, 0, 0, 5, 3, 1, 4, 1, 0, 9, 2, 3, 3, 0, 2]]\n",
            "Смена мутации на 0.3\n",
            "\n",
            "Обучение модели бота [0, 7, 4, 3, 1, 1, 1, 3, 4, 0, 2, 0, 0, 10, 4, 1, 3, 1, 1, 6, 2, 7, 0, 0, 3]\n",
            "66/66 [==============================] - 0s 3ms/step\n",
            "Сохранение оценки бота\n",
            "Обучение модели бота [0, 10, 4, 2, 1, 2, 0, 3, 4, 1, 4, 0, 1, 6, 2, 0, 3, 2, 1, 9, 1, 10, 1, 0, 3]\n",
            "66/66 [==============================] - 1s 7ms/step\n",
            "Сохранение оценки бота\n",
            "Обучение модели бота [0, 6, 4, 2, 0, 3, 1, 3, 2, 1, 3, 2, 0, 6, 2, 0, 1, 4, 1, 9, 2, 4, 0, 0, 3]\n",
            "66/66 [==============================] - 0s 3ms/step\n",
            "Сохранение оценки бота\n",
            "Обучение модели бота [0, 9, 4, 0, 1, 1, 0, 3, 3, 1, 4, 0, 1, 3, 2, 1, 3, 2, 0, 9, 2, 7, 3, 0, 0]\n",
            "66/66 [==============================] - 0s 3ms/step\n",
            "Сохранение оценки бота\n",
            "Обучение модели бота [0, 9, 4, 0, 0, 1, 1, 4, 3, 0, 4, 2, 1, 3, 4, 0, 4, 2, 1, 2, 2, 7, 0, 0, 0]\n",
            "66/66 [==============================] - 0s 4ms/step\n",
            "Сохранение оценки бота\n",
            "Обучение модели бота [0, 9, 4, 1, 0, 1, 1, 8, 2, 0, 4, 2, 1, 3, 5, 0, 4, 4, 1, 2, 2, 7, 0, 1, 3]\n",
            "66/66 [==============================] - 0s 5ms/step\n",
            "Сохранение оценки бота\n",
            "Обучение модели бота [0, 9, 4, 1, 0, 4, 1, 4, 2, 0, 3, 0, 1, 3, 2, 0, 2, 1, 1, 9, 2, 7, 3, 0, 0]\n",
            "66/66 [==============================] - 0s 4ms/step\n",
            "Сохранение оценки бота\n",
            "Обучение модели бота [0, 6, 4, 2, 0, 3, 0, 3, 2, 1, 4, 0, 1, 6, 4, 0, 3, 4, 1, 9, 1, 4, 0, 1, 1]\n",
            "66/66 [==============================] - 0s 3ms/step\n",
            "Сохранение оценки бота\n",
            "Обучение модели бота [0, 9, 2, 0, 0, 1, 1, 4, 3, 0, 4, 2, 1, 6, 4, 1, 1, 0, 1, 2, 1, 7, 1, 0, 0]\n",
            "66/66 [==============================] - 0s 4ms/step\n",
            "Сохранение оценки бота\n",
            "Обучение модели бота [0, 9, 4, 2, 0, 1, 0, 8, 2, 0, 3, 1, 1, 3, 2, 1, 4, 4, 1, 4, 2, 7, 0, 0, 2]\n",
            "66/66 [==============================] - 0s 4ms/step\n",
            "Сохранение оценки бота\n",
            "Обучение модели бота [0, 9, 4, 0, 1, 3, 1, 3, 5, 1, 4, 4, 1, 3, 4, 1, 3, 2, 0, 5, 2, 6, 2, 0, 4]\n",
            "66/66 [==============================] - 0s 3ms/step\n",
            "Сохранение оценки бота\n",
            "Обучение модели бота [0, 9, 2, 1, 0, 1, 0, 3, 4, 0, 4, 0, 1, 7, 2, 0, 3, 0, 1, 9, 1, 10, 0, 1, 1]\n",
            "66/66 [==============================] - 0s 5ms/step\n",
            "Сохранение оценки бота\n",
            "Обучение модели бота [0, 6, 4, 2, 0, 1, 1, 4, 4, 0, 4, 2, 1, 6, 2, 0, 3, 4, 1, 2, 4, 7, 0, 0, 0]\n"
          ]
        }
      ]
    },
    {
      "cell_type": "markdown",
      "metadata": {
        "id": "zvg_OhM8fn-j"
      },
      "source": [
        "Поиск остановился, так изменения точности лучших ниже порога"
      ]
    },
    {
      "cell_type": "code",
      "metadata": {
        "id": "zuYYW0hjLxoE"
      },
      "source": [
        "for bot in popul[:4]: \n",
        "    print(bot) #Геномы лучших ботов по эпохам"
      ],
      "execution_count": null,
      "outputs": []
    },
    {
      "cell_type": "markdown",
      "metadata": {
        "id": "TvJ4V3rIfN9A"
      },
      "source": [
        "Поиск остановился, так изменения точности лучших ниже порога"
      ]
    },
    {
      "cell_type": "markdown",
      "metadata": {
        "id": "g-Om6WS1my3G"
      },
      "source": [
        "## Проверка результата"
      ]
    },
    {
      "cell_type": "markdown",
      "metadata": {
        "id": "5GexQT1CFwKZ"
      },
      "source": [
        "###  Первый бот"
      ]
    },
    {
      "cell_type": "code",
      "metadata": {
        "id": "Hwzqp5QHd3ue"
      },
      "source": [
        "bot = popul[0]\n",
        "print(bot)\n",
        "\n",
        "model_1 = create_randnet(bot,\n",
        "                        inputShape[1],\n",
        "                        inputShape[2],\n",
        "                        outputShape[1])\n",
        "model_1.summary()\n"
      ],
      "execution_count": null,
      "outputs": []
    },
    {
      "cell_type": "code",
      "metadata": {
        "id": "WMEzZFPpFwKb"
      },
      "source": [
        "epoch_list = [(7, Adam(learning_rate=1e-4)),\n",
        "              (10, Adam(learning_rate=1e-5)),\n",
        "              (10, Adam(learning_rate=1e-6)),\n",
        "              (13, Adam(learning_rate=1e-7)),\n",
        "              ]\n",
        "epochs = 0\n",
        "for elem in epoch_list: epochs += elem[0] \n",
        "\n",
        "val_loss = []\n",
        "loss= []\n",
        "#Комипилируем и обучаем\n",
        "for epoch_lr, opt in epoch_list:\n",
        "    model_1.compile(optimizer=opt,\n",
        "                    loss='mse')\n",
        "    history = model_1.fit(train_datagen,                             \n",
        "                        epochs=epoch_lr, \n",
        "                        validation_data=val_datagen)\n",
        "    val_loss.extend(history.history['val_loss'])\n",
        "    loss.extend(history.history['loss'])\n",
        "    \n",
        "results = {'loss':loss, 'val_loss':val_loss}\n",
        "\n"
      ],
      "execution_count": null,
      "outputs": []
    },
    {
      "cell_type": "code",
      "metadata": {
        "id": "Qzlb5a8MFwKc"
      },
      "source": [
        "# строим графики потерь и точности\n",
        "N = np.arange(0, epochs)\n",
        "plt.style.use(\"ggplot\")\n",
        "plt.figure(figsize=(12, 5))\n",
        "plt.plot(N, results[\"loss\"], label=\"train_loss\")\n",
        "plt.plot(N, results[\"val_loss\"], label=\"val_loss\")\n",
        "plt.title(\"Ошибка обучения и проверки\") \n",
        "plt.xlabel(\"Epoch #\")\n",
        "plt.ylabel(\"Loss/Accuracy\")\n",
        "plt.legend()\n",
        "plt.show()\n"
      ],
      "execution_count": null,
      "outputs": []
    },
    {
      "cell_type": "code",
      "metadata": {
        "id": "bY3U2w45FwKc"
      },
      "source": [
        "# Прогнозируем данные текущей сетью\n",
        "(predVal, yValUnscaled) = get_pred(model_1,x_test,\n",
        "                                            y_test,\n",
        "                                            y_scaler) #Прогнозируем данные\n",
        "\n",
        "# Отображаем графики\n",
        "show_predict(0, 400, 0, predVal, yValUnscaled)\n"
      ],
      "execution_count": null,
      "outputs": []
    },
    {
      "cell_type": "code",
      "metadata": {
        "id": "ESTkaNDCFwKd"
      },
      "source": [
        "# Отображаем корреляцию\n",
        "# Используем выходной канал - только open\n",
        "# Проверяем корреляцию на глубину 60 шагов\n",
        "auto_corr([0], 10, predVal, yValUnscaled)"
      ],
      "execution_count": null,
      "outputs": []
    },
    {
      "cell_type": "markdown",
      "metadata": {
        "id": "t7iSvdzJFSoR"
      },
      "source": [
        "### Второй бот"
      ]
    },
    {
      "cell_type": "code",
      "metadata": {
        "id": "uMYFErQwcSjW"
      },
      "source": [
        "bot = popul[1]\n",
        "print(bot)\n",
        "\n",
        "model_2 = create_randnet(bot,\n",
        "                        inputShape[1],\n",
        "                        inputShape[2],\n",
        "                        outputShape[1])\n",
        "model_2.summary()\n"
      ],
      "execution_count": null,
      "outputs": []
    },
    {
      "cell_type": "code",
      "metadata": {
        "id": "xC-5W6ZDU7sP"
      },
      "source": [
        "epoch_list = [(7, Adam(learning_rate=1e-4)),\n",
        "              (10, Adam(learning_rate=1e-5)),\n",
        "              (10, Adam(learning_rate=1e-6)),\n",
        "              (13, Adam(learning_rate=1e-7)),\n",
        "              ]\n",
        "epochs = 0\n",
        "for elem in epoch_list: epochs += elem[0] \n",
        "\n",
        "val_loss = []\n",
        "loss= []\n",
        "#Комипилируем и обучаем\n",
        "for epoch_lr, opt in epoch_list:\n",
        "    model_2.compile(optimizer=opt,\n",
        "                    loss='mse')\n",
        "    history = model_2.fit(train_datagen,                             \n",
        "                        epochs=epoch_lr, \n",
        "                        validation_data=val_datagen)\n",
        "    val_loss.extend(history.history['val_loss'])\n",
        "    loss.extend(history.history['loss'])\n",
        "    \n",
        "results = {'loss':loss, 'val_loss':val_loss}\n",
        "\n"
      ],
      "execution_count": null,
      "outputs": []
    },
    {
      "cell_type": "code",
      "metadata": {
        "id": "RP2jO809WV8G"
      },
      "source": [
        "# строим графики потерь и точности\n",
        "N = np.arange(0, epochs)\n",
        "plt.style.use(\"ggplot\")\n",
        "plt.figure(figsize=(12, 5))\n",
        "plt.plot(N, results[\"loss\"], label=\"train_loss\")\n",
        "plt.plot(N, results[\"val_loss\"], label=\"val_loss\")\n",
        "plt.title(\"Ошибка обучения и проверки\") \n",
        "plt.xlabel(\"Epoch #\")\n",
        "plt.ylabel(\"Loss/Accuracy\")\n",
        "plt.legend()\n",
        "plt.show()\n"
      ],
      "execution_count": null,
      "outputs": []
    },
    {
      "cell_type": "code",
      "metadata": {
        "id": "bPEH-AcUdeHe"
      },
      "source": [
        "# Прогнозируем данные текущей сетью\n",
        "(predVal, yValUnscaled) = get_pred(model_2,x_test,\n",
        "                                            y_test,\n",
        "                                            y_scaler) #Прогнозируем данные\n",
        "\n",
        "# Отображаем графики\n",
        "show_predict(0, 400, 0, predVal, yValUnscaled)\n"
      ],
      "execution_count": null,
      "outputs": []
    },
    {
      "cell_type": "code",
      "metadata": {
        "id": "nmdfRML6gmr5"
      },
      "source": [
        "# Отображаем корреляцию\n",
        "# Используем выходной канал - только open\n",
        "# Проверяем корреляцию на глубину 60 шагов\n",
        "auto_corr([0], 10, predVal, yValUnscaled)"
      ],
      "execution_count": null,
      "outputs": []
    },
    {
      "cell_type": "markdown",
      "metadata": {
        "id": "WSGM6aN7FG5Z"
      },
      "source": [
        "### Третий бот"
      ]
    },
    {
      "cell_type": "code",
      "metadata": {
        "id": "9IJQW9XRCBoC"
      },
      "source": [
        "bot = popul[2]\n",
        "print(bot)\n",
        "\n",
        "model_3 = create_randnet(bot,\n",
        "                        inputShape[1],\n",
        "                        inputShape[2],\n",
        "                        outputShape[1])\n",
        "model_3.summary()\n"
      ],
      "execution_count": null,
      "outputs": []
    },
    {
      "cell_type": "code",
      "metadata": {
        "id": "tqlbCcL9CFR-"
      },
      "source": [
        "epoch_list = [(7, Adam(learning_rate=1e-4)),\n",
        "              (10, Adam(learning_rate=1e-5)),\n",
        "              (10, Adam(learning_rate=1e-6)),\n",
        "              (13, Adam(learning_rate=1e-7)),\n",
        "              ]\n",
        "epochs = 0\n",
        "for elem in epoch_list: epochs += elem[0] \n",
        "\n",
        "val_loss = []\n",
        "loss= []\n",
        "#Комипилируем и обучаем\n",
        "for epoch_lr, opt in epoch_list:\n",
        "    model_3.compile(optimizer=opt,\n",
        "                    loss='mse')\n",
        "    history = model_3.fit(train_datagen,                             \n",
        "                        epochs=epoch_lr, \n",
        "                        validation_data=val_datagen)\n",
        "    val_loss.extend(history.history['val_loss'])\n",
        "    loss.extend(history.history['loss'])\n",
        "    \n",
        "results = {'loss':loss, 'val_loss':val_loss}\n",
        "\n"
      ],
      "execution_count": null,
      "outputs": []
    },
    {
      "cell_type": "code",
      "metadata": {
        "id": "KttAAmQECVwO"
      },
      "source": [
        "# строим графики потерь и точности\n",
        "N = np.arange(0, epochs)\n",
        "plt.style.use(\"ggplot\")\n",
        "plt.figure(figsize=(12, 5))\n",
        "plt.plot(N, results[\"loss\"], label=\"train_loss\")\n",
        "plt.plot(N, results[\"val_loss\"], label=\"val_loss\")\n",
        "plt.title(\"Ошибка обучения и проверки\") \n",
        "plt.xlabel(\"Epoch #\")\n",
        "plt.ylabel(\"Loss/Accuracy\")\n",
        "plt.legend()\n",
        "plt.show()\n"
      ],
      "execution_count": null,
      "outputs": []
    },
    {
      "cell_type": "code",
      "metadata": {
        "id": "QJdx36ofCqgj"
      },
      "source": [
        "# Прогнозируем данные текущей сетью\n",
        "(predVal, yValUnscaled) = get_pred(model_3, x_test,\n",
        "                                            y_test,\n",
        "                                            y_scaler) #Прогнозируем данные\n",
        "\n",
        "# Отображаем графики\n",
        "show_predict(0, 400, 0, predVal, yValUnscaled)\n"
      ],
      "execution_count": null,
      "outputs": []
    },
    {
      "cell_type": "code",
      "metadata": {
        "id": "7gOMpgsrCqgk"
      },
      "source": [
        "# Отображаем корреляцию\n",
        "# Используем выходной канал - только open\n",
        "# Проверяем корреляцию на глубину 60 шагов\n",
        "auto_corr([0], 50, predVal, yValUnscaled)"
      ],
      "execution_count": null,
      "outputs": []
    },
    {
      "cell_type": "markdown",
      "metadata": {
        "id": "DWJj76hg_PsG"
      },
      "source": [
        "## Пример \"человеческой сборки\" линейной сети\n",
        "\n",
        "\n"
      ]
    },
    {
      "cell_type": "code",
      "metadata": {
        "id": "QhVVhptl99vb"
      },
      "source": [
        "# Упрощенная модель с одномерной сверткой\n",
        "model_conv_hum = Sequential()\n",
        "model_conv_hum.add(Conv1D(64, 5, input_shape=x_test.shape[1:], activation='relu'))\n",
        "model_conv_hum.add(Conv1D(64, 5, activation='relu'))\n",
        "model_conv_hum.add(MaxPooling1D())\n",
        "model_conv_hum.add(Flatten())\n",
        "model_conv_hum.add(Dense(y_test.shape[1], activation='linear'))\n",
        "\n",
        "epoch_list = [(10, Adam(learning_rate=1e-4)),\n",
        "              (5, Adam(learning_rate=1e-5)),\n",
        "              (5, Adam(learning_rate=1e-6)),\n",
        "              (5, Adam(learning_rate=1e-7)),\n",
        "              ]\n",
        "             \n",
        "epochs = 0\n",
        "for elem in epoch_list: epochs += elem[0]\n",
        "\n",
        "val_loss = []\n",
        "loss= []\n",
        "#Комипилируем и обучаем\n",
        "for epoch_lr, opt in epoch_list:\n",
        "    model_conv_hum.compile(optimizer=opt,\n",
        "                    loss='mse')\n",
        "    history = model_conv_hum.fit(train_datagen,                             \n",
        "                        epochs=epoch_lr, \n",
        "                        validation_data=val_datagen)\n",
        "    val_loss.extend(history.history['val_loss'])\n",
        "    loss.extend(history.history['loss'])\n",
        "    \n",
        "results = {'loss':loss, 'val_loss':val_loss}"
      ],
      "execution_count": null,
      "outputs": []
    },
    {
      "cell_type": "code",
      "metadata": {
        "id": "PfDPkrxCJwUI"
      },
      "source": [
        "# строим графики потерь и точности\n",
        "N = np.arange(0, epochs)\n",
        "plt.style.use(\"ggplot\")\n",
        "plt.figure(figsize=(12, 5))\n",
        "plt.plot(N, results[\"loss\"], label=\"train_loss\")\n",
        "plt.plot(N, results[\"val_loss\"], label=\"val_loss\")\n",
        "plt.title(\"Ошибка обучения и проверки\") \n",
        "plt.xlabel(\"Epoch #\")\n",
        "plt.ylabel(\"Loss/Accuracy\")\n",
        "plt.legend()\n",
        "plt.show()\n"
      ],
      "execution_count": null,
      "outputs": []
    },
    {
      "cell_type": "code",
      "metadata": {
        "id": "dfAcY1FJ_K6d"
      },
      "source": [
        "# Прогнозируем данные текущей сетью\n",
        "(predVal, yValUnscaled) = get_pred(model_conv_hum,x_test,\n",
        "                                            y_test,\n",
        "                                            y_scaler) #Прогнозируем данные\n",
        "\n",
        "# Отображаем графики\n",
        "show_predict(0, 400, 0, predVal, yValUnscaled)"
      ],
      "execution_count": null,
      "outputs": []
    },
    {
      "cell_type": "code",
      "metadata": {
        "id": "fClCQvZL_K60"
      },
      "source": [
        "# Отображаем корреляцию\n",
        "# Используем выходной канал - только open\n",
        "# Проверяем корреляцию на глубину 60 шагов\n",
        "auto_corr([0], 100, predVal, yValUnscaled)"
      ],
      "execution_count": null,
      "outputs": []
    },
    {
      "cell_type": "markdown",
      "metadata": {
        "id": "LaFzSiAysU9c"
      },
      "source": [
        "Подобрать модель с хорошими предсказаниями непросто!!!!"
      ]
    },
    {
      "cell_type": "markdown",
      "metadata": {
        "id": "k3IN36GhAsfx"
      },
      "source": [
        "## Проверим предсказания сети на полных данных"
      ]
    },
    {
      "cell_type": "markdown",
      "metadata": {
        "id": "CM50uCA5jEwN"
      },
      "source": [
        "Мы ранее для поиска сети использывали разреженные данные(каждые 15 минут) !!!НЕТ!!!\n"
      ]
    },
    {
      "cell_type": "markdown",
      "metadata": {
        "id": "zWjWbjcPjk73"
      },
      "source": [
        "### Полный набор данных для обучения\n"
      ]
    },
    {
      "cell_type": "code",
      "metadata": {
        "id": "MUT-M4CodNzT"
      },
      "source": [
        "# Создание общего набора данных из двух датасетов\n",
        "# Чтение данных в таблицу Pandas и назначение имен столбцов\n",
        "data = pd.read_csv('SBER_MIN60.txt', sep=\"\\t\", names=['Datetime', 'Open', 'High', 'Low', 'Close'])\n",
        "\n",
        "# Настройка имен столбцов\n",
        "COL_DATE = 'Datetime'\n",
        "COL_CLOSE = 'Close'\n",
        "\n",
        "# Настройка временного интервала для ограничения данных\n",
        "TIME_RANGE = ('2010-09-01 10:00:00.000', '2018-12-31 23:59:00.000')\n",
        "\n",
        "# Преобразование столбца даты в индекс таблицы и удаление ненужного столбца даты\n",
        "data.index = pd.to_datetime(data[COL_DATE])\n",
        "data.drop(columns=COL_DATE, inplace=True)\n",
        "\n",
        "# Отбор данных по заданному временному интервалу\n",
        "mask = (data.index >= TIME_RANGE[0]) & (data.index <= TIME_RANGE[1])\n",
        "data = data[mask]"
      ],
      "execution_count": null,
      "outputs": []
    },
    {
      "cell_type": "code",
      "source": [
        "# Задание текстовых меток каналов данных (столбцов)\n",
        "CHANNEL_NAMES = ['Open',\t'High',\t'Low',\t'Close']\n",
        "\n",
        "# Получение словаря с именами и индексами каналов данных\n",
        "CHANNEL_INDEX = {name: chan for chan, name in enumerate(CHANNEL_NAMES)}\n",
        "print(CHANNEL_INDEX)"
      ],
      "metadata": {
        "outputId": "7f245f78-5a93-4a66-8456-c7b25a5aeb2f",
        "colab": {
          "base_uri": "https://localhost:8080/"
        },
        "id": "oKVFfZetrloT"
      },
      "execution_count": null,
      "outputs": [
        {
          "output_type": "stream",
          "name": "stdout",
          "text": [
            "{'Open': 0, 'High': 1, 'Low': 2, 'Close': 3}\n"
          ]
        }
      ]
    },
    {
      "cell_type": "code",
      "source": [
        "data = data.to_numpy()"
      ],
      "metadata": {
        "id": "RVKu9Ik5rlor"
      },
      "execution_count": null,
      "outputs": []
    },
    {
      "cell_type": "code",
      "metadata": {
        "id": "kXRFzqO7dNzn"
      },
      "source": [
        "# Задание гиперпараметров\n",
        "CHANNEL_X = CHANNEL_NAMES                 # Отбор каналов входных данных\n",
        "CHANNEL_Y = ['Close']                     # Отбор каналов данных для предсказания\n",
        "SEQ_LEN = 300                             # Длина прошедших данных для анализа\n",
        "BATCH_SIZE = 32                           # Объем батча для генератора\n",
        "# TEST_LEN = 45000                          # Объем тестовой выборки\n",
        "TRAIN_LEN = data.shape[0] - TEST_LEN      # Объем обучающей выборки"
      ],
      "execution_count": null,
      "outputs": []
    },
    {
      "cell_type": "code",
      "metadata": {
        "id": "WxKC8aerdNzn"
      },
      "source": [
        "# Формирование списков индексов каналов данных для входных и выходных выборок\n",
        "chn_x = [CHANNEL_INDEX[c] for c in CHANNEL_X]\n",
        "chn_y = [CHANNEL_INDEX[c] for c in CHANNEL_Y]\n",
        "\n",
        "# Проверка результата\n",
        "print(chn_x, chn_y)\n",
        "\n",
        "# Разделение данных на тренировочный и тестовый наборы\n",
        "# 2*SEQ_LEN - для разрыва между тренировочными и тестовыми данными \n",
        "# варьируемый параметр, страховка от пересечения\n",
        "data_train, data_test = data[:TRAIN_LEN], data[TRAIN_LEN + 2*SEQ_LEN:]\n",
        "\n",
        "# Отбор входных данных\n",
        "x_data_train, x_data_test = data_train[:, chn_x], data_test[:, chn_x]\n",
        "\n",
        "# Масштабирование данных\n",
        "x_scaler = MinMaxScaler()\n",
        "x_scaler.fit(x_data_train)\n",
        "x_data_train = x_scaler.transform(x_data_train)\n",
        "x_data_test = x_scaler.transform(x_data_test)\n",
        "\n",
        "# Отбор выходных данных\n",
        "y_data_train, y_data_test = data_train[:, chn_y], data_test[:, chn_y]\n",
        "\n",
        "# Масштабирование данных\n",
        "y_scaler = MinMaxScaler()\n",
        "y_scaler.fit(y_data_train)\n",
        "y_data_train = y_scaler.transform(y_data_train)\n",
        "y_data_test = y_scaler.transform(y_data_test)\n",
        "\n",
        "# Проверка формы данных\n",
        "print(f'Train data: {x_data_train.shape}, {y_data_train.shape}')\n",
        "print(f'Test  data: {x_data_test.shape}, {y_data_test.shape}')\n",
        "\n",
        "# Создание генератора для обучения\n",
        "train_datagen = TimeseriesGenerator(x_data_train, \n",
        "                                    y_data_train,\n",
        "                                    length=SEQ_LEN,\n",
        "                                    stride=1,\n",
        "                                    sampling_rate=1,\n",
        "                                    batch_size=BATCH_SIZE)\n",
        "\n",
        "# Аналогичный генератор для валидации при обучении\n",
        "val_datagen = TimeseriesGenerator(x_data_test, \n",
        "                                  y_data_test,\n",
        "                                  length=SEQ_LEN,\n",
        "                                  stride=1,\n",
        "                                  sampling_rate=1,\n",
        "                                  batch_size=BATCH_SIZE)\n",
        "\n",
        "# Проверка формы выдаваемого генератором результата\n",
        "print(f'Train batch x: {train_datagen[0][0].shape}, y: {train_datagen[0][1].shape}')"
      ],
      "execution_count": null,
      "outputs": []
    },
    {
      "cell_type": "code",
      "metadata": {
        "id": "UY1oVpGOdNzo"
      },
      "source": [
        "inputShape = train_datagen[0][0].shape\n",
        "print(inputShape)\n",
        "outputShape = train_datagen[0][1].shape\n",
        "print(outputShape)"
      ],
      "execution_count": null,
      "outputs": []
    },
    {
      "cell_type": "code",
      "metadata": {
        "id": "BtP2JuYSdNzp"
      },
      "source": [
        "# Генератор тестовой выборки, генерирует один батч на всю выборку\n",
        "test_datagen = TimeseriesGenerator(x_data_test, \n",
        "                                   y_data_test,\n",
        "                                   length=SEQ_LEN,\n",
        "                                   stride=1,\n",
        "                                   sampling_rate=1,\n",
        "                                   batch_size=x_data_test.shape[0])\n",
        "\n",
        "# Формирование тестовой выборки из генератора\n",
        "x_test, y_test = test_datagen[0]\n",
        "\n",
        "# Проверка формы тестовой выборки\n",
        "print(f'Test x: {x_test.shape}, y: {y_test.shape}')"
      ],
      "execution_count": null,
      "outputs": []
    },
    {
      "cell_type": "markdown",
      "metadata": {
        "id": "MeNJsEAZkdfP"
      },
      "source": [
        "## Тестируем 1ю модель"
      ]
    },
    {
      "cell_type": "code",
      "metadata": {
        "id": "j6uVbubNfmAN"
      },
      "source": [
        "# Прогнозируем данные текущей сетью\n",
        "(predVal, yValUnscaled) = get_pred(model_1,x_test,\n",
        "                                            y_test,\n",
        "                                            y_scaler) #Прогнозируем данные\n",
        "\n",
        "# Отображаем графики\n",
        "show_predict(0, 450, 0, predVal, yValUnscaled)"
      ],
      "execution_count": null,
      "outputs": []
    },
    {
      "cell_type": "markdown",
      "metadata": {
        "id": "-qhdHXZEpBJf"
      },
      "source": [
        "Оценим модель на точность на полных проверочных данных (без повторного обучения на них)"
      ]
    },
    {
      "cell_type": "code",
      "metadata": {
        "id": "3vkKq22cnLXG"
      },
      "source": [
        "model_1.evaluate(x_test,y_test) "
      ],
      "execution_count": null,
      "outputs": []
    },
    {
      "cell_type": "code",
      "metadata": {
        "id": "8ZI6p-ZHpth4"
      },
      "source": [
        "# Прогнозируем данные текущей сетью\n",
        "(predVal, yValUnscaled) = get_pred(model_1,x_test,\n",
        "                                            y_test,\n",
        "                                            y_scaler) #Прогнозируем данные\n",
        "\n",
        "# Отображаем графики\n",
        "show_predict(0, 50, 0, predVal, yValUnscaled)"
      ],
      "execution_count": null,
      "outputs": []
    },
    {
      "cell_type": "markdown",
      "metadata": {
        "id": "kevFmz2HqB-b"
      },
      "source": [
        "Искать архитектуру модели можно на разреженных данных и она вполне работоспособна и на полных данных. Степень разреженности зависит от валатильности самих данных."
      ]
    }
  ],
  "metadata": {
    "colab": {
      "provenance": [],
      "toc_visible": true
    },
    "kernelspec": {
      "display_name": "Python 3 (ipykernel)",
      "language": "python",
      "name": "python3"
    },
    "language_info": {
      "codemirror_mode": {
        "name": "ipython",
        "version": 3
      },
      "file_extension": ".py",
      "mimetype": "text/x-python",
      "name": "python",
      "nbconvert_exporter": "python",
      "pygments_lexer": "ipython3",
      "version": "3.9.7"
    },
    "varInspector": {
      "cols": {
        "lenName": 16,
        "lenType": 16,
        "lenVar": 40
      },
      "kernels_config": {
        "python": {
          "delete_cmd_postfix": "",
          "delete_cmd_prefix": "del ",
          "library": "var_list.py",
          "varRefreshCmd": "print(var_dic_list())"
        },
        "r": {
          "delete_cmd_postfix": ") ",
          "delete_cmd_prefix": "rm(",
          "library": "var_list.r",
          "varRefreshCmd": "cat(var_dic_list()) "
        }
      },
      "types_to_exclude": [
        "module",
        "function",
        "builtin_function_or_method",
        "instance",
        "_Feature"
      ],
      "window_display": false
    }
  },
  "nbformat": 4,
  "nbformat_minor": 0
}